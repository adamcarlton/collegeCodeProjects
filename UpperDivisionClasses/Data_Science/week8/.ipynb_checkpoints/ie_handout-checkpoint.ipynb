{
 "cells": [
  {
   "cell_type": "code",
   "execution_count": 2,
   "metadata": {
    "_cell_guid": "a3cb0ee3-7bca-4b2b-8a27-be198d18818e",
    "_uuid": "075ab0f3fc310e293828b3681f1d80642f88c106"
   },
   "outputs": [
    {
     "data": {
      "text/html": [
       "<style>\n",
       ".h1_cell, .just_text {\n",
       "    box-sizing: border-box;\n",
       "    padding-top:5px;\n",
       "    padding-bottom:5px;\n",
       "    font-family: \"Times New Roman\", Georgia, Serif;\n",
       "    font-size: 125%;\n",
       "    line-height: 22px; /* 5px +12px + 5px */\n",
       "    text-indent: 25px;\n",
       "    background-color: #fbfbea;\n",
       "    padding: 10px;\n",
       "}\n",
       "\n",
       "hr { \n",
       "    display: block;\n",
       "    margin-top: 0.5em;\n",
       "    margin-bottom: 0.5em;\n",
       "    margin-left: auto;\n",
       "    margin-right: auto;\n",
       "    border-style: inset;\n",
       "    border-width: 2px;\n",
       "}\n",
       "</style>"
      ],
      "text/plain": [
       "<IPython.core.display.HTML object>"
      ]
     },
     "metadata": {},
     "output_type": "display_data"
    }
   ],
   "source": [
    "%%html\n",
    "<style>\n",
    ".h1_cell, .just_text {\n",
    "    box-sizing: border-box;\n",
    "    padding-top:5px;\n",
    "    padding-bottom:5px;\n",
    "    font-family: \"Times New Roman\", Georgia, Serif;\n",
    "    font-size: 125%;\n",
    "    line-height: 22px; /* 5px +12px + 5px */\n",
    "    text-indent: 25px;\n",
    "    background-color: #fbfbea;\n",
    "    padding: 10px;\n",
    "}\n",
    "\n",
    "hr { \n",
    "    display: block;\n",
    "    margin-top: 0.5em;\n",
    "    margin-bottom: 0.5em;\n",
    "    margin-left: auto;\n",
    "    margin-right: auto;\n",
    "    border-style: inset;\n",
    "    border-width: 2px;\n",
    "}\n",
    "</style>"
   ]
  },
  {
   "cell_type": "markdown",
   "metadata": {
    "collapsed": true
   },
   "source": [
    "<h1>\n",
    "<center>\n",
    "Module 8\n",
    "</center>\n",
    "</h1>\n",
    "<div class=h1_cell>\n",
    "<p>\n",
    "We are shifting focus this week. We will start treating sentences more like a linguist would. We will break a sentence into parts-of-speech (POS). And then revisit regular experssion matching, but now using the extra information that POS gives us.\n",
    "<p>\n",
    "The ultimate goal will be to pull out what are called relations from a sentence. A relation is a triple of [noun-phrase, verb, noun phrase]. For instance, ['the big dog', 'ate', 'the dirty bone']. Pulling relations like this out of text is a big research area. Once you have relations, you can start using AI techniques to reason about them or do question answering, e.g., \"Who ate the dirty bone?\".\n",
    "<p>\n",
    "To start, here are the POS tags that nltk gives us. Each word will be given one and only one of these tags.\n",
    "</div>"
   ]
  },
  {
   "cell_type": "raw",
   "metadata": {},
   "source": [
    "1.\tCC\tCoordinating conjunction\n",
    "2.\tCD\tCardinal number\n",
    "3.\tDT\tDeterminer\n",
    "4.\tEX\tExistential there\n",
    "5.\tFW\tForeign word\n",
    "6.\tIN\tPreposition or subordinating conjunction\n",
    "7.\tJJ\tAdjective\n",
    "8.\tJJR\tAdjective, comparative\n",
    "9.\tJJS\tAdjective, superlative\n",
    "10.\tLS\tList item marker\n",
    "11.\tMD\tModal\n",
    "12.\tNN\tNoun, singular or mass\n",
    "13.\tNNS\tNoun, plural\n",
    "14.\tNNP\tProper noun, singular\n",
    "15.\tNNPS\tProper noun, plural\n",
    "16.\tPDT\tPredeterminer\n",
    "17.\tPOS\tPossessive ending\n",
    "18.\tPRP\tPersonal pronoun\n",
    "19.\tPRP$\tPossessive pronoun\n",
    "20.\tRB\tAdverb\n",
    "21.\tRBR\tAdverb, comparative\n",
    "22.\tRBS\tAdverb, superlative\n",
    "23.\tRP\tParticle\n",
    "24.\tSYM\tSymbol\n",
    "25.\tTO\tto\n",
    "26.\tUH\tInterjection\n",
    "27.\tVB\tVerb, base form\n",
    "28.\tVBD\tVerb, past tense\n",
    "29.\tVBG\tVerb, gerund or present participle\n",
    "30.\tVBN\tVerb, past participle\n",
    "31.\tVBP\tVerb, non-3rd person singular present\n",
    "32.\tVBZ\tVerb, 3rd person singular present\n",
    "33.\tWDT\tWh-determiner\n",
    "34.\tWP\tWh-pronoun\n",
    "35.\tWP$\tPossessive wh-pronoun\n",
    "36.\tWRB\tWh-adverb"
   ]
  },
  {
   "cell_type": "markdown",
   "metadata": {},
   "source": [
    "<div class=h1_cell>\n",
    "<p>\n",
    "Here are sentences we will be testing on. I pulled them from the Frankenstien wikipedia page. For each of them, I would like to pull out a relation that captures the meaning of the sentence.\n",
    "</div>"
   ]
  },
  {
   "cell_type": "code",
   "execution_count": 1,
   "metadata": {},
   "outputs": [],
   "source": [
    "sentences = [\n",
    "    'Victor Frankenstein builds the creature in his laboratory',\n",
    "\n",
    "    'The creature is 8 feet tall',  # tricky\n",
    "\n",
    "    'the monster wanders through the wilderness',  # tricky\n",
    "\n",
    "    'He finds brief solace beside a remote cottage inhabited by a family of peasants',\n",
    "\n",
    "    'Eavesdropping, the creature familiarizes himself with their lives and learns to speak',  # tricky\n",
    "\n",
    "    \"The creature eventually introduces himself to the family's blind father\",\n",
    "\n",
    "    'the creature rescues a peasant girl from a river.',\n",
    "\n",
    "    \"He finds Frankenstein's journal in the pocket of the jacket he found in the laboratory\",\n",
    "\n",
    "    \"The monster kills Victor's younger brother William upon learning of the boy's relation to his hated creator.\",\n",
    "\n",
    "    \"Frankenstein builds a female creature.\",\n",
    "\n",
    "    \"the monster kills Frankenstein's best friend Henry Clerva.\",\n",
    "\n",
    "    \"the monster boards the ship.\",\n",
    "\n",
    "    \"The monster has also been analogized to an oppressed class\",\n",
    "\n",
    "    \"the monster is the tragic result of uncontrolled technology.\"\n",
    "    ]"
   ]
  },
  {
   "cell_type": "code",
   "execution_count": 2,
   "metadata": {},
   "outputs": [],
   "source": [
    "import nltk\n",
    "from nltk.tree import Tree"
   ]
  },
  {
   "cell_type": "markdown",
   "metadata": {},
   "source": [
    "<div class=h1_cell>\n",
    "<p>\n",
    "Let's work on the first sentence. First I will tokenize it like we have been doing in past weeks. But then I will use somethning called a POS tagger to add basic parts of speech to each word.\n",
    "</div>"
   ]
  },
  {
   "cell_type": "code",
   "execution_count": 3,
   "metadata": {},
   "outputs": [
    {
     "name": "stdout",
     "output_type": "stream",
     "text": [
      "Victor Frankenstein builds the creature in his laboratory\n",
      "==========\n",
      "['Victor', 'Frankenstein', 'builds', 'the', 'creature', 'in', 'his', 'laboratory']\n",
      "==========\n",
      "[('Victor', 'NNP'), ('Frankenstein', 'NNP'), ('builds', 'VBZ'), ('the', 'DT'), ('creature', 'NN'), ('in', 'IN'), ('his', 'PRP$'), ('laboratory', 'NN')]\n"
     ]
    }
   ],
   "source": [
    "s = sentences[0]\n",
    "print(s)\n",
    "print('='*10)\n",
    "data_tok = nltk.word_tokenize(s) #tokenization\n",
    "print(data_tok)\n",
    "print('='*10)\n",
    "data_pos = nltk.pos_tag(data_tok) #POS tagging\n",
    "print(data_pos)"
   ]
  },
  {
   "cell_type": "markdown",
   "metadata": {},
   "source": [
    "<div class=h1_cell>\n",
    "<p>\n",
    "You can match up the pos tags in table above.\n",
    "</div>"
   ]
  },
  {
   "cell_type": "markdown",
   "metadata": {},
   "source": [
    "<h2>\n",
    "Big new idea: chunking\n",
    "</h2>\n",
    "<div class=h1_cell>\n",
    "<p>\n",
    "What we have after pos_tag is a flat structure. All we really have done is gone word by word and added the pos to the word. So we have a list of tuples instead of a list of words.\n",
    "<p>\n",
    "What we want now is to structure this a bit more. I'd like to group words into noun-phrases or other collections of words that make sense for my problem. First I'll use a chunker that is built into nltk. It looks at various forms of nouns and tags them with more information. Let's take a look.\n",
    "</div>"
   ]
  },
  {
   "cell_type": "code",
   "execution_count": 4,
   "metadata": {},
   "outputs": [
    {
     "data": {
      "image/png": "[encoded data removed]",
      "text/plain": [
       "Tree('S', [Tree('PERSON', [('Victor', 'NNP')]), Tree('ORGANIZATION', [('Frankenstein', 'NNP')]), ('builds', 'VBZ'), ('the', 'DT'), ('creature', 'NN'), ('in', 'IN'), ('his', 'PRP$'), ('laboratory', 'NN')])"
      ]
     },
     "execution_count": 4,
     "metadata": {},
     "output_type": "execute_result"
    }
   ],
   "source": [
    "chunk = nltk.ne_chunk(data_pos)  # notice takes pos tagged version and not raw text\n",
    "chunk"
   ]
  },
  {
   "cell_type": "markdown",
   "metadata": {},
   "source": [
    "<div class=h1_cell>\n",
    "<p>\n",
    "You can see we have new nodes in the tree: PERSON and ORGANIZATION. So the ne_chunk chunker knows about lots of different names of entities. And it can give you a more abstract view of your words. In some cases, this may be all you want. You are just looking through lots of tweets for people or organizations being mentioned: ne_chunk can flag them for you.\n",
    "<p>\n",
    "Also notice that ne_chunk does not combine names well, guessing that Frankenstein is an organization. There is an interesting discussion here on how to post-process ne_chunk results to get more accurate tags: https://stackoverflow.com/questions/24398536/named-entity-recognition-with-regular-expression-nltk. For one, to group Victor and Frankenstein under the single node PERSON.\n",
    "<p>\n",
    "Jargon alert: the ne_chunk chunker works in a research area called Named Entity Recognition or NER. It can be a tricker problem than you might think to classify words and phrases in a sentence into useful categories.\n",
    "</div>"
   ]
  },
  {
   "cell_type": "markdown",
   "metadata": {},
   "source": [
    "<div class=h1_cell>\n",
    "<p>\n",
    "Let's look at the components of chunk. You can see that some items are Trees and some are leaves.\n",
    "</div>"
   ]
  },
  {
   "cell_type": "code",
   "execution_count": 5,
   "metadata": {},
   "outputs": [
    {
     "name": "stdout",
     "output_type": "stream",
     "text": [
      "(True, Tree('PERSON', [('Victor', 'NNP')]))\n",
      "(True, Tree('ORGANIZATION', [('Frankenstein', 'NNP')]))\n",
      "(False, ('builds', 'VBZ'))\n",
      "(False, ('the', 'DT'))\n",
      "(False, ('creature', 'NN'))\n",
      "(False, ('in', 'IN'))\n",
      "(False, ('his', 'PRP$'))\n",
      "(False, ('laboratory', 'NN'))\n"
     ]
    }
   ],
   "source": [
    "for x in chunk:\n",
    "    print((type(x) == Tree, x))"
   ]
  },
  {
   "cell_type": "markdown",
   "metadata": {},
   "source": [
    "<div class=h1_cell>\n",
    "<p>\n",
    "If you view chunk as the big tree, then there are 2 sub-trees and 6 leaves under it.\n",
    "</div>"
   ]
  },
  {
   "cell_type": "markdown",
   "metadata": {},
   "source": [
    "<h2>\n",
    "DIY: chunking\n",
    "</h2>\n",
    "<div class=h1_cell>\n",
    "<p>\n",
    "It turns out we will need to build our own chunker to chunk the pieces of a relation. Before getting to that, let's take a look at building a verb-phrase chunker. It is pretty cool. All we need to do is write a regular-expression type pattern to chunk on. Look at the example below. A chunk pattern consists of a name for the chunk (MY_VP) and a pattern within {}. The pattern itself is a mixture of pos tags and vanilla re operators. My pattern below should match a Verb that is 3rd person singular present (VBZ). Then 0 or more of any type of elements. Then a singular noun (NN).\n",
    "</div>"
   ]
  },
  {
   "cell_type": "code",
   "execution_count": 6,
   "metadata": {},
   "outputs": [],
   "source": [
    "vb_pattern = \"MY_VP: {<VBZ><.*>*?<NN>}\""
   ]
  },
  {
   "cell_type": "markdown",
   "metadata": {},
   "source": [
    "<div class=h1_cell>\n",
    "<p>\n",
    "We need a special chunker that allows us to define our own chunking patterns.\n",
    "</div>"
   ]
  },
  {
   "cell_type": "code",
   "execution_count": 7,
   "metadata": {},
   "outputs": [],
   "source": [
    "vb_chunker = nltk.RegexpParser(vb_pattern)"
   ]
  },
  {
   "cell_type": "markdown",
   "metadata": {},
   "source": [
    "<div class=h1_cell>\n",
    "<p>\n",
    "Test it out.\n",
    "</div>"
   ]
  },
  {
   "cell_type": "code",
   "execution_count": 8,
   "metadata": {},
   "outputs": [
    {
     "data": {
      "image/png": "[encoded data removed]",
      "text/plain": [
       "Tree('S', [('Victor', 'NNP'), ('Frankenstein', 'NNP'), Tree('MY_VP', [('builds', 'VBZ'), ('the', 'DT'), ('creature', 'NN')]), ('in', 'IN'), ('his', 'PRP$'), ('laboratory', 'NN')])"
      ]
     },
     "execution_count": 8,
     "metadata": {},
     "output_type": "execute_result"
    }
   ],
   "source": [
    "vb_chunked = vb_chunker.parse(data_pos)  # remember chunkers want pos tagged sentences as input\n",
    "vb_chunked"
   ]
  },
  {
   "cell_type": "code",
   "execution_count": 9,
   "metadata": {},
   "outputs": [
    {
     "name": "stdout",
     "output_type": "stream",
     "text": [
      "('Victor', 'NNP')\n",
      "('Frankenstein', 'NNP')\n",
      "(MY_VP builds/VBZ the/DT creature/NN)\n",
      "('in', 'IN')\n",
      "('his', 'PRP$')\n",
      "('laboratory', 'NN')\n"
     ]
    }
   ],
   "source": [
    "for x in vb_chunked:\n",
    "    print(x)"
   ]
  },
  {
   "cell_type": "markdown",
   "metadata": {},
   "source": [
    "<h2>\n",
    "Noun-phrase (NP) chunker (version 0)\n",
    "</h2>\n",
    "<div class=h1_cell>\n",
    "<p>\n",
    "The goal is to build a relation which is a triple consisting of a tuple (NP, VERB, NP) for each sentence in sentences. So our first step is to build a chunking pattern that will tag noun-phrases in a sentence. I am going to give you a start below.\n",
    "<p>\n",
    "Notice I am using VERB instead of MY_VP. I found it more difficult to work with verb phrases so I will not use them. But if you want to play around with them, no problem. I could easily see catching some set of adverbs preceding a verb and tagging that as an ADV_VERB or somesuch.\n",
    "</div>"
   ]
  },
  {
   "cell_type": "code",
   "execution_count": 10,
   "metadata": {},
   "outputs": [
    {
     "data": {
      "image/png": "[encoded data removed]",
      "text/plain": [
       "Tree('S', [('Victor', 'NNP'), ('Frankenstein', 'NNP'), ('builds', 'VBZ'), Tree('NP', [('the', 'DT'), ('creature', 'NN')]), ('in', 'IN'), ('his', 'PRP$'), Tree('NP', [('laboratory', 'NN')])])"
      ]
     },
     "execution_count": 10,
     "metadata": {},
     "output_type": "execute_result"
    }
   ],
   "source": [
    "np_chunker = nltk.RegexpParser(r'''\n",
    "    NP:\n",
    "    {<DT>?<JJ>*<NN>} # NP chunk is determiner (optional), adjectives (optional) and noun\n",
    "   ''')\n",
    "chunk1 = np_chunker.parse(data_pos)\n",
    "\n",
    "chunk1"
   ]
  },
  {
   "cell_type": "markdown",
   "metadata": {},
   "source": [
    "<h2>\n",
    "Hmmmm\n",
    "</h2>\n",
    "<div class=h1_cell>\n",
    "<p>\n",
    "We got \"the creature\" and have the verb but missed \"Victor Frankenstein\". Have to get back to that.\n",
    "<p>\n",
    "I am going to want to do some experimentation with patterns so I am going to create function that will make my life easier. I'll pass in raw text and then chunker I want to test out.\n",
    "<p>\n",
    "Notice that I have a chunking pipeline going. I like this about nltk. I can first chunk to tag noun phrases. Then I can pass that to next chunker in line to tag relations. Cool.\n",
    "</div>"
   ]
  },
  {
   "cell_type": "code",
   "execution_count": 11,
   "metadata": {},
   "outputs": [],
   "source": [
    "\n",
    "def build_relation(text, chunker):\n",
    "    \n",
    "    #chunk the text with chunker\n",
    "    chunks = chunker.parse(nltk.pos_tag(nltk.word_tokenize(text)))\n",
    "    \n",
    "    print(chunks)  # debugging\n",
    "    \n",
    "    #Now re-chunk looking for our triples. Call the chunk REL for relation\n",
    "    chunker2 = nltk.RegexpParser(r'''\n",
    "                   REL:\n",
    "                   {<NP><VBZ><NP>}\n",
    "                   ''')\n",
    "    relation_chunk = chunker2.parse(chunks)\n",
    "    \n",
    "    for t in relation_chunk:\n",
    "        if type(t) != Tree: continue\n",
    "        if t.label() == 'REL':\n",
    "            return (t[0], t[1], t[2])\n",
    "            \n",
    "    return tuple([]) "
   ]
  },
  {
   "cell_type": "code",
   "execution_count": 12,
   "metadata": {},
   "outputs": [],
   "source": [
    "#Here it is again so I can play with it\n",
    "\n",
    "rel_chunker = nltk.RegexpParser(r'''\n",
    "    NP:\n",
    "    {<DT>?<JJ>*<NN>} # chunk determiner (optional), adjectives (optional) and noun\n",
    "   ''')"
   ]
  },
  {
   "cell_type": "code",
   "execution_count": 13,
   "metadata": {},
   "outputs": [
    {
     "name": "stdout",
     "output_type": "stream",
     "text": [
      "(S\n",
      "  Victor/NNP\n",
      "  Frankenstein/NNP\n",
      "  builds/VBZ\n",
      "  (NP the/DT creature/NN)\n",
      "  in/IN\n",
      "  his/PRP$\n",
      "  (NP laboratory/NN))\n"
     ]
    },
    {
     "data": {
      "text/plain": [
       "()"
      ]
     },
     "execution_count": 13,
     "metadata": {},
     "output_type": "execute_result"
    }
   ],
   "source": [
    "build_relation(sentences[0], rel_chunker)"
   ]
  },
  {
   "cell_type": "markdown",
   "metadata": {},
   "source": [
    "<h2>\n",
    "Challenge 1\n",
    "</h2>\n",
    "<div class=h1_cell>\n",
    "<p>\n",
    "Solve the problem. Modify rel_chunker so that it builds the target relation for sentence 0. And remember, that Victor liked to be called by his full name: Victor Dennis Frankenstein. I just made that up but you get the drift.\n",
    "</div>"
   ]
  },
  {
   "cell_type": "code",
   "execution_count": 14,
   "metadata": {},
   "outputs": [],
   "source": [
    "rel_chunker2 = nltk.RegexpParser(r'''\n",
    "    NP:\n",
    "    {<DT>?<JJ>*<NN>} # chunk determiner (optional), adjectives (optional) and noun\n",
    "    {<NNP>*<NNP>}\n",
    "   ''')"
   ]
  },
  {
   "cell_type": "code",
   "execution_count": 153,
   "metadata": {},
   "outputs": [
    {
     "name": "stdout",
     "output_type": "stream",
     "text": [
      "(S\n",
      "  (NP Victor/NNP Frankenstein/NNP)\n",
      "  builds/VBZ\n",
      "  (NP the/DT creature/NN)\n",
      "  in/IN\n",
      "  his/PRP$\n",
      "  (NP laboratory/NN))\n"
     ]
    },
    {
     "data": {
      "text/plain": [
       "(Tree('NP', [('Victor', 'NNP'), ('Frankenstein', 'NNP')]),\n",
       " ('builds', 'VBZ'),\n",
       " Tree('NP', [('the', 'DT'), ('creature', 'NN')]))"
      ]
     },
     "execution_count": 153,
     "metadata": {},
     "output_type": "execute_result"
    }
   ],
   "source": [
    "build_relation(sentences[0], rel_chunker2)"
   ]
  },
  {
   "cell_type": "markdown",
   "metadata": {},
   "source": [
    "<h2>\n",
    "Let's try on all the sentences\n",
    "</h2>\n",
    "<div class=h1_cell>\n",
    "<p>\n",
    "See how many we can pull relations from\n",
    "</div>"
   ]
  },
  {
   "cell_type": "code",
   "execution_count": 154,
   "metadata": {},
   "outputs": [
    {
     "name": "stdout",
     "output_type": "stream",
     "text": [
      "(S\n",
      "  (NP Victor/NNP Frankenstein/NNP)\n",
      "  builds/VBZ\n",
      "  (NP the/DT creature/NN)\n",
      "  in/IN\n",
      "  his/PRP$\n",
      "  (NP laboratory/NN))\n",
      "(Tree('NP', [('Victor', 'NNP'), ('Frankenstein', 'NNP')]), ('builds', 'VBZ'), Tree('NP', [('the', 'DT'), ('creature', 'NN')]))\n",
      "===============\n",
      "(S (NP The/DT creature/NN) is/VBZ 8/CD feet/NNS tall/JJ)\n",
      "()\n",
      "===============\n",
      "(S\n",
      "  (NP the/DT monster/NN)\n",
      "  wanders/NNS\n",
      "  through/IN\n",
      "  (NP the/DT wilderness/NN))\n",
      "()\n",
      "===============\n",
      "(S\n",
      "  He/PRP\n",
      "  finds/VBZ\n",
      "  brief/JJ\n",
      "  solace/JJ\n",
      "  beside/IN\n",
      "  (NP a/DT remote/JJ cottage/NN)\n",
      "  inhabited/VBN\n",
      "  by/IN\n",
      "  (NP a/DT family/NN)\n",
      "  of/IN\n",
      "  peasants/NNS)\n",
      "()\n",
      "===============\n",
      "(S\n",
      "  (NP Eavesdropping/NN)\n",
      "  ,/,\n",
      "  (NP the/DT creature/NN)\n",
      "  familiarizes/VBZ\n",
      "  himself/PRP\n",
      "  with/IN\n",
      "  their/PRP$\n",
      "  lives/NNS\n",
      "  and/CC\n",
      "  learns/NNS\n",
      "  to/TO\n",
      "  speak/VB)\n",
      "()\n",
      "===============\n",
      "(S\n",
      "  (NP The/DT creature/NN)\n",
      "  eventually/RB\n",
      "  introduces/VBZ\n",
      "  himself/PRP\n",
      "  to/TO\n",
      "  (NP the/DT family/NN)\n",
      "  's/POS\n",
      "  (NP blind/NN)\n",
      "  (NP father/NN))\n",
      "()\n",
      "===============\n",
      "(S\n",
      "  (NP the/DT creature/NN)\n",
      "  rescues/VBZ\n",
      "  (NP a/DT peasant/JJ girl/NN)\n",
      "  from/IN\n",
      "  (NP a/DT river/NN)\n",
      "  ./.)\n",
      "(Tree('NP', [('the', 'DT'), ('creature', 'NN')]), ('rescues', 'VBZ'), Tree('NP', [('a', 'DT'), ('peasant', 'JJ'), ('girl', 'NN')]))\n",
      "===============\n",
      "(S\n",
      "  He/PRP\n",
      "  finds/VBZ\n",
      "  (NP Frankenstein/NNP)\n",
      "  's/POS\n",
      "  (NP journal/NN)\n",
      "  in/IN\n",
      "  (NP the/DT pocket/NN)\n",
      "  of/IN\n",
      "  (NP the/DT jacket/NN)\n",
      "  he/PRP\n",
      "  found/VBD\n",
      "  in/IN\n",
      "  (NP the/DT laboratory/NN))\n",
      "()\n",
      "===============\n",
      "(S\n",
      "  (NP The/DT monster/NN)\n",
      "  kills/VBZ\n",
      "  (NP Victor/NNP)\n",
      "  's/POS\n",
      "  younger/JJR\n",
      "  (NP brother/NN)\n",
      "  (NP William/NNP)\n",
      "  upon/IN\n",
      "  (NP learning/NN)\n",
      "  of/IN\n",
      "  (NP the/DT boy/NN)\n",
      "  's/POS\n",
      "  (NP relation/NN)\n",
      "  to/TO\n",
      "  his/PRP$\n",
      "  (NP hated/JJ creator/NN)\n",
      "  ./.)\n",
      "(Tree('NP', [('The', 'DT'), ('monster', 'NN')]), ('kills', 'VBZ'), Tree('NP', [('Victor', 'NNP')]))\n",
      "===============\n",
      "(S\n",
      "  (NP Frankenstein/NNP)\n",
      "  builds/VBZ\n",
      "  (NP a/DT female/JJ creature/NN)\n",
      "  ./.)\n",
      "(Tree('NP', [('Frankenstein', 'NNP')]), ('builds', 'VBZ'), Tree('NP', [('a', 'DT'), ('female', 'JJ'), ('creature', 'NN')]))\n",
      "===============\n",
      "(S\n",
      "  (NP the/DT monster/NN)\n",
      "  kills/VBZ\n",
      "  (NP Frankenstein/NNP)\n",
      "  's/POS\n",
      "  best/JJS\n",
      "  (NP friend/NN)\n",
      "  (NP Henry/NNP Clerva/NNP)\n",
      "  ./.)\n",
      "(Tree('NP', [('the', 'DT'), ('monster', 'NN')]), ('kills', 'VBZ'), Tree('NP', [('Frankenstein', 'NNP')]))\n",
      "===============\n",
      "(S (NP the/DT monster/NN) boards/VBD (NP the/DT ship/NN) ./.)\n",
      "()\n",
      "===============\n",
      "(S\n",
      "  (NP The/DT monster/NN)\n",
      "  has/VBZ\n",
      "  also/RB\n",
      "  been/VBN\n",
      "  analogized/VBN\n",
      "  to/TO\n",
      "  (NP an/DT oppressed/JJ class/NN))\n",
      "()\n",
      "===============\n",
      "(S\n",
      "  (NP the/DT monster/NN)\n",
      "  is/VBZ\n",
      "  (NP the/DT tragic/JJ result/NN)\n",
      "  of/IN\n",
      "  (NP uncontrolled/JJ technology/NN)\n",
      "  ./.)\n",
      "(Tree('NP', [('the', 'DT'), ('monster', 'NN')]), ('is', 'VBZ'), Tree('NP', [('the', 'DT'), ('tragic', 'JJ'), ('result', 'NN')]))\n",
      "===============\n"
     ]
    }
   ],
   "source": [
    "all_relations = []\n",
    "for i,s in enumerate(sentences):\n",
    "    relation = build_relation(s, rel_chunker2)\n",
    "    all_relations.append((i, relation))\n",
    "    print(relation)\n",
    "    print('===============')"
   ]
  },
  {
   "cell_type": "markdown",
   "metadata": {
    "collapsed": true
   },
   "source": [
    "<h2>\n",
    "Challenge 2\n",
    "</h2>\n",
    "<div class=h1_cell>\n",
    "<p>\n",
    "I'd like you to modify the pattern to capture the relation in as many of these sentences as you can. Some mods can be made easily. Some mods will be difficult - we are dealing with all the complexities of English grammar here.\n",
    "<p>\n",
    "If you feel you just can't write a pattern that works in general, go ahead and write it for the specific case, i.e., may only work with one sentence in sentences. Hey, it's a start.\n",
    "</div>"
   ]
  },
  {
   "cell_type": "code",
   "execution_count": 139,
   "metadata": {},
   "outputs": [],
   "source": [
    "my_chunker = nltk.RegexpParser(r'''\n",
    "    NP:\n",
    "    {<DT>?<JJ>*<NN>} # chunk determiner (optional), adjectives (optional) and noun\n",
    "    {<NNP>*<NNP>}\n",
    "    {<NNPP><VBZ><NNP>}\n",
    "    {<VBZ><.*>*?<NN>}\n",
    "    {<PRP>|<NNP>*<PRP>|<NNP>}\n",
    "    {<NNP><CD>*<NN>}\n",
    "    {<PRP>*<VBZ><JJ>}\n",
    "    {<CD><NNS><JJ>}\n",
    "    {<RB>?<VBN>*<TO>}\n",
    "    {<RB>}\n",
    "   ''')"
   ]
  },
  {
   "cell_type": "code",
   "execution_count": 140,
   "metadata": {},
   "outputs": [
    {
     "name": "stdout",
     "output_type": "stream",
     "text": [
      "(S\n",
      "  (NP Victor/NNP Frankenstein/NNP)\n",
      "  builds/VBZ\n",
      "  (NP the/DT creature/NN)\n",
      "  in/IN\n",
      "  his/PRP$\n",
      "  (NP laboratory/NN))\n",
      "(Tree('NP', [('Victor', 'NNP'), ('Frankenstein', 'NNP')]), ('builds', 'VBZ'), Tree('NP', [('the', 'DT'), ('creature', 'NN')]))\n",
      "===============\n",
      "(S (NP The/DT creature/NN) is/VBZ (NP 8/CD feet/NNS tall/JJ))\n",
      "(Tree('NP', [('The', 'DT'), ('creature', 'NN')]), ('is', 'VBZ'), Tree('NP', [('8', 'CD'), ('feet', 'NNS'), ('tall', 'JJ')]))\n",
      "===============\n",
      "(S\n",
      "  (NP the/DT monster/NN)\n",
      "  wanders/NNS\n",
      "  through/IN\n",
      "  (NP the/DT wilderness/NN))\n",
      "()\n",
      "===============\n",
      "(S\n",
      "  (NP He/PRP)\n",
      "  (NP finds/VBZ brief/JJ)\n",
      "  solace/JJ\n",
      "  beside/IN\n",
      "  (NP a/DT remote/JJ cottage/NN)\n",
      "  inhabited/VBN\n",
      "  by/IN\n",
      "  (NP a/DT family/NN)\n",
      "  of/IN\n",
      "  peasants/NNS)\n",
      "()\n",
      "===============\n",
      "(S\n",
      "  (NP Eavesdropping/NN)\n",
      "  ,/,\n",
      "  (NP the/DT creature/NN)\n",
      "  familiarizes/VBZ\n",
      "  (NP himself/PRP)\n",
      "  with/IN\n",
      "  their/PRP$\n",
      "  lives/NNS\n",
      "  and/CC\n",
      "  learns/NNS\n",
      "  (NP to/TO)\n",
      "  speak/VB)\n",
      "(Tree('NP', [('the', 'DT'), ('creature', 'NN')]), ('familiarizes', 'VBZ'), Tree('NP', [('himself', 'PRP')]))\n",
      "===============\n",
      "(S\n",
      "  (NP The/DT creature/NN)\n",
      "  (NP eventually/RB)\n",
      "  introduces/VBZ\n",
      "  (NP himself/PRP)\n",
      "  (NP to/TO)\n",
      "  (NP the/DT family/NN)\n",
      "  's/POS\n",
      "  (NP blind/NN)\n",
      "  (NP father/NN))\n",
      "(Tree('NP', [('eventually', 'RB')]), ('introduces', 'VBZ'), Tree('NP', [('himself', 'PRP')]))\n",
      "===============\n",
      "(S\n",
      "  (NP the/DT creature/NN)\n",
      "  rescues/VBZ\n",
      "  (NP a/DT peasant/JJ girl/NN)\n",
      "  from/IN\n",
      "  (NP a/DT river/NN)\n",
      "  ./.)\n",
      "(Tree('NP', [('the', 'DT'), ('creature', 'NN')]), ('rescues', 'VBZ'), Tree('NP', [('a', 'DT'), ('peasant', 'JJ'), ('girl', 'NN')]))\n",
      "===============\n",
      "(S\n",
      "  (NP He/PRP)\n",
      "  finds/VBZ\n",
      "  (NP Frankenstein/NNP)\n",
      "  's/POS\n",
      "  (NP journal/NN)\n",
      "  in/IN\n",
      "  (NP the/DT pocket/NN)\n",
      "  of/IN\n",
      "  (NP the/DT jacket/NN)\n",
      "  (NP he/PRP)\n",
      "  found/VBD\n",
      "  in/IN\n",
      "  (NP the/DT laboratory/NN))\n",
      "(Tree('NP', [('He', 'PRP')]), ('finds', 'VBZ'), Tree('NP', [('Frankenstein', 'NNP')]))\n",
      "===============\n",
      "(S\n",
      "  (NP The/DT monster/NN)\n",
      "  kills/VBZ\n",
      "  (NP Victor/NNP)\n",
      "  's/POS\n",
      "  younger/JJR\n",
      "  (NP brother/NN)\n",
      "  (NP William/NNP)\n",
      "  upon/IN\n",
      "  (NP learning/NN)\n",
      "  of/IN\n",
      "  (NP the/DT boy/NN)\n",
      "  's/POS\n",
      "  (NP relation/NN)\n",
      "  (NP to/TO)\n",
      "  his/PRP$\n",
      "  (NP hated/JJ creator/NN)\n",
      "  ./.)\n",
      "(Tree('NP', [('The', 'DT'), ('monster', 'NN')]), ('kills', 'VBZ'), Tree('NP', [('Victor', 'NNP')]))\n",
      "===============\n",
      "(S\n",
      "  (NP Frankenstein/NNP)\n",
      "  builds/VBZ\n",
      "  (NP a/DT female/JJ creature/NN)\n",
      "  ./.)\n",
      "(Tree('NP', [('Frankenstein', 'NNP')]), ('builds', 'VBZ'), Tree('NP', [('a', 'DT'), ('female', 'JJ'), ('creature', 'NN')]))\n",
      "===============\n",
      "(S\n",
      "  (NP the/DT monster/NN)\n",
      "  kills/VBZ\n",
      "  (NP Frankenstein/NNP)\n",
      "  's/POS\n",
      "  best/JJS\n",
      "  (NP friend/NN)\n",
      "  (NP Henry/NNP Clerva/NNP)\n",
      "  ./.)\n",
      "(Tree('NP', [('the', 'DT'), ('monster', 'NN')]), ('kills', 'VBZ'), Tree('NP', [('Frankenstein', 'NNP')]))\n",
      "===============\n",
      "(S (NP the/DT monster/NN) boards/VBD (NP the/DT ship/NN) ./.)\n",
      "()\n",
      "===============\n",
      "(S\n",
      "  (NP The/DT monster/NN)\n",
      "  has/VBZ\n",
      "  (NP also/RB been/VBN analogized/VBN to/TO)\n",
      "  (NP an/DT oppressed/JJ class/NN))\n",
      "(Tree('NP', [('The', 'DT'), ('monster', 'NN')]), ('has', 'VBZ'), Tree('NP', [('also', 'RB'), ('been', 'VBN'), ('analogized', 'VBN'), ('to', 'TO')]))\n",
      "===============\n",
      "(S\n",
      "  (NP the/DT monster/NN)\n",
      "  is/VBZ\n",
      "  (NP the/DT tragic/JJ result/NN)\n",
      "  of/IN\n",
      "  (NP uncontrolled/JJ technology/NN)\n",
      "  ./.)\n",
      "(Tree('NP', [('the', 'DT'), ('monster', 'NN')]), ('is', 'VBZ'), Tree('NP', [('the', 'DT'), ('tragic', 'JJ'), ('result', 'NN')]))\n",
      "===============\n"
     ]
    }
   ],
   "source": [
    "all_relations = []\n",
    "for i,s in enumerate(sentences):\n",
    "    relation = build_relation(s, my_chunker)\n",
    "    all_relations.append((i, relation))\n",
    "    print(relation)\n",
    "    print('===============')"
   ]
  },
  {
   "cell_type": "markdown",
   "metadata": {
    "collapsed": true
   },
   "source": [
    "<h2>\n",
    "Challenge 3\n",
    "</h2>\n",
    "<div class=h1_cell>\n",
    "<p>\n",
    "Use the relations to generate new sentences. Maybe we can write summaries of a sentence by just generating words from our triples. Here are some examples I generated from triples.\n",
    "<pre>\n",
    "'Victor Frankenstein builds the creature.'\n",
    "\n",
    "'Frankenstein found the laboratory.'\n",
    "\n",
    "'The monster has an oppressed class.'\n",
    "</pre>\n",
    "Write a function that given one of your relations, will produce a sentence as a string.\n",
    "</div>"
   ]
  },
  {
   "cell_type": "code",
   "execution_count": 141,
   "metadata": {},
   "outputs": [],
   "source": [
    "def summarizer(triple):\n",
    "    string = \"\"\n",
    "    for entry in triple:\n",
    "        if isinstance(entry,nltk.tree.Tree):\n",
    "            for leaf in entry.leaves():\n",
    "                string += leaf[0] + \" \"\n",
    "        else:\n",
    "            string += entry[0] + \" \"\n",
    "\n",
    "    return string"
   ]
  },
  {
   "cell_type": "code",
   "execution_count": 142,
   "metadata": {},
   "outputs": [
    {
     "name": "stdout",
     "output_type": "stream",
     "text": [
      "(S\n",
      "  (NP Victor/NNP Frankenstein/NNP)\n",
      "  builds/VBZ\n",
      "  (NP the/DT creature/NN)\n",
      "  in/IN\n",
      "  his/PRP$\n",
      "  (NP laboratory/NN))\n",
      "(Tree('NP', [('Victor', 'NNP'), ('Frankenstein', 'NNP')]), ('builds', 'VBZ'), Tree('NP', [('the', 'DT'), ('creature', 'NN')]))\n",
      "Victor Frankenstein builds the creature \n",
      "==========\n",
      "(S (NP The/DT creature/NN) is/VBZ (NP 8/CD feet/NNS tall/JJ))\n",
      "(Tree('NP', [('The', 'DT'), ('creature', 'NN')]), ('is', 'VBZ'), Tree('NP', [('8', 'CD'), ('feet', 'NNS'), ('tall', 'JJ')]))\n",
      "The creature is 8 feet tall \n",
      "==========\n",
      "(S\n",
      "  (NP the/DT monster/NN)\n",
      "  wanders/NNS\n",
      "  through/IN\n",
      "  (NP the/DT wilderness/NN))\n",
      "()\n",
      "\n",
      "==========\n",
      "(S\n",
      "  (NP He/PRP)\n",
      "  (NP finds/VBZ brief/JJ)\n",
      "  solace/JJ\n",
      "  beside/IN\n",
      "  (NP a/DT remote/JJ cottage/NN)\n",
      "  inhabited/VBN\n",
      "  by/IN\n",
      "  (NP a/DT family/NN)\n",
      "  of/IN\n",
      "  peasants/NNS)\n",
      "()\n",
      "\n",
      "==========\n",
      "(S\n",
      "  (NP Eavesdropping/NN)\n",
      "  ,/,\n",
      "  (NP the/DT creature/NN)\n",
      "  familiarizes/VBZ\n",
      "  (NP himself/PRP)\n",
      "  with/IN\n",
      "  their/PRP$\n",
      "  lives/NNS\n",
      "  and/CC\n",
      "  learns/NNS\n",
      "  (NP to/TO)\n",
      "  speak/VB)\n",
      "(Tree('NP', [('the', 'DT'), ('creature', 'NN')]), ('familiarizes', 'VBZ'), Tree('NP', [('himself', 'PRP')]))\n",
      "the creature familiarizes himself \n",
      "==========\n",
      "(S\n",
      "  (NP The/DT creature/NN)\n",
      "  (NP eventually/RB)\n",
      "  introduces/VBZ\n",
      "  (NP himself/PRP)\n",
      "  (NP to/TO)\n",
      "  (NP the/DT family/NN)\n",
      "  's/POS\n",
      "  (NP blind/NN)\n",
      "  (NP father/NN))\n",
      "(Tree('NP', [('eventually', 'RB')]), ('introduces', 'VBZ'), Tree('NP', [('himself', 'PRP')]))\n",
      "eventually introduces himself \n",
      "==========\n",
      "(S\n",
      "  (NP the/DT creature/NN)\n",
      "  rescues/VBZ\n",
      "  (NP a/DT peasant/JJ girl/NN)\n",
      "  from/IN\n",
      "  (NP a/DT river/NN)\n",
      "  ./.)\n",
      "(Tree('NP', [('the', 'DT'), ('creature', 'NN')]), ('rescues', 'VBZ'), Tree('NP', [('a', 'DT'), ('peasant', 'JJ'), ('girl', 'NN')]))\n",
      "the creature rescues a peasant girl \n",
      "==========\n",
      "(S\n",
      "  (NP He/PRP)\n",
      "  finds/VBZ\n",
      "  (NP Frankenstein/NNP)\n",
      "  's/POS\n",
      "  (NP journal/NN)\n",
      "  in/IN\n",
      "  (NP the/DT pocket/NN)\n",
      "  of/IN\n",
      "  (NP the/DT jacket/NN)\n",
      "  (NP he/PRP)\n",
      "  found/VBD\n",
      "  in/IN\n",
      "  (NP the/DT laboratory/NN))\n",
      "(Tree('NP', [('He', 'PRP')]), ('finds', 'VBZ'), Tree('NP', [('Frankenstein', 'NNP')]))\n",
      "He finds Frankenstein \n",
      "==========\n",
      "(S\n",
      "  (NP The/DT monster/NN)\n",
      "  kills/VBZ\n",
      "  (NP Victor/NNP)\n",
      "  's/POS\n",
      "  younger/JJR\n",
      "  (NP brother/NN)\n",
      "  (NP William/NNP)\n",
      "  upon/IN\n",
      "  (NP learning/NN)\n",
      "  of/IN\n",
      "  (NP the/DT boy/NN)\n",
      "  's/POS\n",
      "  (NP relation/NN)\n",
      "  (NP to/TO)\n",
      "  his/PRP$\n",
      "  (NP hated/JJ creator/NN)\n",
      "  ./.)\n",
      "(Tree('NP', [('The', 'DT'), ('monster', 'NN')]), ('kills', 'VBZ'), Tree('NP', [('Victor', 'NNP')]))\n",
      "The monster kills Victor \n",
      "==========\n",
      "(S\n",
      "  (NP Frankenstein/NNP)\n",
      "  builds/VBZ\n",
      "  (NP a/DT female/JJ creature/NN)\n",
      "  ./.)\n",
      "(Tree('NP', [('Frankenstein', 'NNP')]), ('builds', 'VBZ'), Tree('NP', [('a', 'DT'), ('female', 'JJ'), ('creature', 'NN')]))\n",
      "Frankenstein builds a female creature \n",
      "==========\n",
      "(S\n",
      "  (NP the/DT monster/NN)\n",
      "  kills/VBZ\n",
      "  (NP Frankenstein/NNP)\n",
      "  's/POS\n",
      "  best/JJS\n",
      "  (NP friend/NN)\n",
      "  (NP Henry/NNP Clerva/NNP)\n",
      "  ./.)\n",
      "(Tree('NP', [('the', 'DT'), ('monster', 'NN')]), ('kills', 'VBZ'), Tree('NP', [('Frankenstein', 'NNP')]))\n",
      "the monster kills Frankenstein \n",
      "==========\n",
      "(S (NP the/DT monster/NN) boards/VBD (NP the/DT ship/NN) ./.)\n",
      "()\n",
      "\n",
      "==========\n",
      "(S\n",
      "  (NP The/DT monster/NN)\n",
      "  has/VBZ\n",
      "  (NP also/RB been/VBN analogized/VBN to/TO)\n",
      "  (NP an/DT oppressed/JJ class/NN))\n",
      "(Tree('NP', [('The', 'DT'), ('monster', 'NN')]), ('has', 'VBZ'), Tree('NP', [('also', 'RB'), ('been', 'VBN'), ('analogized', 'VBN'), ('to', 'TO')]))\n",
      "The monster has also been analogized to \n",
      "==========\n",
      "(S\n",
      "  (NP the/DT monster/NN)\n",
      "  is/VBZ\n",
      "  (NP the/DT tragic/JJ result/NN)\n",
      "  of/IN\n",
      "  (NP uncontrolled/JJ technology/NN)\n",
      "  ./.)\n",
      "(Tree('NP', [('the', 'DT'), ('monster', 'NN')]), ('is', 'VBZ'), Tree('NP', [('the', 'DT'), ('tragic', 'JJ'), ('result', 'NN')]))\n",
      "the monster is the tragic result \n",
      "==========\n"
     ]
    }
   ],
   "source": [
    "for s in sentences:\n",
    "    rel = build_relation(s, my_chunker)\n",
    "    summary = summarizer(rel)\n",
    "    print(rel)\n",
    "    print(summary)\n",
    "    print('='*10)"
   ]
  },
  {
   "cell_type": "markdown",
   "metadata": {},
   "source": [
    "<h2>\n",
    "Closing notes\n",
    "</h2>\n",
    "<div class=h1_cell>\n",
    "<p>\n",
    "Extracting triples like we are doing is an active area of research. What researchers hope to do is send their extractors crawling over web pages. Pull triples out of the sentences on a page. These triples can act like a type of knowledge base. So it is one way to give the computer intelligence - extract information from the billions of pages on the web.\n",
    "<p>\n",
    "Easy to say but hard to do. As we have seen, we will need more sophisticated chunkers to actually pull the pieces out of a compex sentence.\n",
    "<p>\n",
    "Jargon alert: extracting triples like we have been doing is called Information Extraction or IE.\n",
    "</div>\n"
   ]
  },
  {
   "cell_type": "code",
   "execution_count": null,
   "metadata": {
    "collapsed": true
   },
   "outputs": [],
   "source": []
  }
 ],
 "metadata": {
  "kernelspec": {
   "display_name": "Python 2",
   "language": "python",
   "name": "python2"
  },
  "language_info": {
   "codemirror_mode": {
    "name": "ipython",
    "version": 2
   },
   "file_extension": ".py",
   "mimetype": "text/x-python",
   "name": "python",
   "nbconvert_exporter": "python",
   "pygments_lexer": "ipython2",
   "version": "2.7.14"
  }
 },
 "nbformat": 4,
 "nbformat_minor": 1
}
