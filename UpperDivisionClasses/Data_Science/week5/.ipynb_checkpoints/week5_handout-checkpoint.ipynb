{
 "cells": [
  {
   "cell_type": "code",
   "execution_count": 3,
   "metadata": {
    "_cell_guid": "a3cb0ee3-7bca-4b2b-8a27-be198d18818e",
    "_uuid": "075ab0f3fc310e293828b3681f1d80642f88c106"
   },
   "outputs": [
    {
     "data": {
      "text/html": [
       "<style>\n",
       ".h1_cell, .just_text {\n",
       "    box-sizing: border-box;\n",
       "    padding-top:5px;\n",
       "    padding-bottom:5px;\n",
       "    font-family: \"Times New Roman\", Georgia, Serif;\n",
       "    font-size: 125%;\n",
       "    line-height: 22px; /* 5px +12px + 5px */\n",
       "    text-indent: 25px;\n",
       "    background-color: #fbfbea;\n",
       "    padding: 10px;\n",
       "}\n",
       "\n",
       "hr { \n",
       "    display: block;\n",
       "    margin-top: 0.5em;\n",
       "    margin-bottom: 0.5em;\n",
       "    margin-left: auto;\n",
       "    margin-right: auto;\n",
       "    border-style: inset;\n",
       "    border-width: 2px;\n",
       "}\n",
       "</style>"
      ],
      "text/plain": [
       "<IPython.core.display.HTML object>"
      ]
     },
     "metadata": {},
     "output_type": "display_data"
    }
   ],
   "source": [
    "%%html\n",
    "<style>\n",
    ".h1_cell, .just_text {\n",
    "    box-sizing: border-box;\n",
    "    padding-top:5px;\n",
    "    padding-bottom:5px;\n",
    "    font-family: \"Times New Roman\", Georgia, Serif;\n",
    "    font-size: 125%;\n",
    "    line-height: 22px; /* 5px +12px + 5px */\n",
    "    text-indent: 25px;\n",
    "    background-color: #fbfbea;\n",
    "    padding: 10px;\n",
    "}\n",
    "\n",
    "hr { \n",
    "    display: block;\n",
    "    margin-top: 0.5em;\n",
    "    margin-bottom: 0.5em;\n",
    "    margin-left: auto;\n",
    "    margin-right: auto;\n",
    "    border-style: inset;\n",
    "    border-width: 2px;\n",
    "}\n",
    "</style>"
   ]
  },
  {
   "cell_type": "markdown",
   "metadata": {
    "collapsed": true
   },
   "source": [
    "<h1>\n",
    "<center>\n",
    "Module 5 - Fun with document vectors\n",
    "</center>\n",
    "</h1>\n",
    "<div class=h1_cell>\n",
    "<p>\n",
    "I want to continue to explore using the values in bag-of-words to build vectors. The general idea is that we will generate a vector for EAP, a vector for HPL and a vector for MWS. How do we get these vectors? Simple. We take a column from bag-of-words. Before going further, let's read in bag-of-words fromn week 4.\n",
    "</div>"
   ]
  },
  {
   "cell_type": "code",
   "execution_count": 1,
   "metadata": {},
   "outputs": [
    {
     "data": {
      "text/plain": [
       "[(u'aaem', [1, 0, 0]),\n",
       " (u'ab', [1, 0, 0]),\n",
       " (u'aback', [2, 0, 0]),\n",
       " (u'abaft', [0, 0, 1]),\n",
       " (u'abandon', [7, 3, 1]),\n",
       " (u'abandoned', [11, 13, 5]),\n",
       " (u'abandoning', [2, 1, 0]),\n",
       " (u'abandonment', [2, 0, 3]),\n",
       " (u'abaout', [0, 24, 0]),\n",
       " (u'abased', [1, 0, 0])]"
      ]
     },
     "execution_count": 1,
     "metadata": {},
     "output_type": "execute_result"
    }
   ],
   "source": [
    "#I am using dropbox so got the url to my file. If you have on local drive, then use file reading code\n",
    "import re  \n",
    "import json\n",
    "bag_of_words = json.load(open(\"bag_of_words.txt\"))\n",
    "sorted_items = sorted(bag_of_words.items())  # need to sort to make sure vectors align\n",
    "sorted_items[:10]"
   ]
  },
  {
   "cell_type": "markdown",
   "metadata": {},
   "source": [
    "<h2>\n",
    "Challenge 1\n",
    "</h2>\n",
    "<div class=h1_cell>\n",
    "<p>\n",
    "Let's write a better version of sentence_wrangler. What I noticed this week when going through new books is that I was letting some strange words through. For instance, my sentence_wrangler from last week lets numbers through. And it also lets byte codes through. I think a better design would be to switch from a blacklist (define chars don't want) to a whitelist (define chars that are ok). Change the 3rd argument to the set of legal characters you allow.\n",
    "<p>\n",
    "If you want to be fancy, be my guest. Use the 3rd argument to pass in an re pattern that needs to match against each word. Much more elegant.\n",
    "</div>"
   ]
  },
  {
   "cell_type": "code",
   "execution_count": 2,
   "metadata": {},
   "outputs": [],
   "source": [
    "def sentence_wrangler(sentence, swords, legal_chars):\n",
    "    pat = re.compile(legal_chars)\n",
    "    word_tokes = word_punct_tokenizer.tokenize(sentence)\n",
    "    removed_words = []\n",
    "    result = []\n",
    "    for word in word_tokes:\n",
    "        word = word.lower()\n",
    "        if word in swords or re.match(pat, word) == None:\n",
    "            removed_words.append(word)\n",
    "        else:\n",
    "            result.append(word)      \n",
    "    return (result, removed_words)"
   ]
  },
  {
   "cell_type": "code",
   "execution_count": 3,
   "metadata": {},
   "outputs": [],
   "source": [
    "#Here is my whitelist - re pattern would be better. Extra credit if you do it\n",
    "\n",
    "legals = r'^[a-z]+$'\n",
    "\n",
    "# legals = 'abcdefghijklmnopqrstuvwxyz'"
   ]
  },
  {
   "cell_type": "markdown",
   "metadata": {},
   "source": [
    "<div class=h1_cell>\n",
    "<p>\n",
    "Some other odds and ends. We will need cosine_similarity from prior module, stop words and tokenizer.\n",
    "<p>\n",
    "</div>"
   ]
  },
  {
   "cell_type": "code",
   "execution_count": 4,
   "metadata": {},
   "outputs": [],
   "source": [
    "def cosine_similarity(v1,v2):\n",
    "    dotProduct = 0.0\n",
    "    normalDotProduct = 0.0\n",
    "    aSquaredSum = 0.0\n",
    "    bSquaredSum = 0.0\n",
    "    for i in range(len(v1)):\n",
    "        dotProduct += (v1[i] * v2[i])\n",
    "        aSquaredSum += (v1[i])**2.0\n",
    "        bSquaredSum += (v2[i])**2.0\n",
    "    normalDotProduct = (aSquaredSum**.5) * (bSquaredSum ** .5)\n",
    "    return (dotProduct / normalDotProduct)"
   ]
  },
  {
   "cell_type": "code",
   "execution_count": 5,
   "metadata": {},
   "outputs": [],
   "source": [
    "from nltk.corpus import stopwords\n",
    "swords = stopwords.words('english')"
   ]
  },
  {
   "cell_type": "code",
   "execution_count": 6,
   "metadata": {},
   "outputs": [],
   "source": [
    "from nltk.tokenize import WordPunctTokenizer\n",
    "word_punct_tokenizer = WordPunctTokenizer()      "
   ]
  },
  {
   "cell_type": "markdown",
   "metadata": {},
   "source": [
    "<h2>\n",
    "Ok, let's get to it\n",
    "</h2>\n",
    "<div class=h1_cell>\n",
    "<p>\n",
    "What I want to know is how \"close\" 2 books are to each other. I'll build a word-count vector for each book. And then take the cosine similarity. I'll give you a start.\n",
    "</div>"
   ]
  },
  {
   "cell_type": "code",
   "execution_count": 7,
   "metadata": {},
   "outputs": [],
   "source": [
    "#item in sorted_items: (word, (eap_val, hpl_val, mws_val))\n",
    "\n",
    "eap_vector = [pair[1][0] for pair in sorted_items]\n",
    "hpl_vector = [pair[1][1] for pair in sorted_items]\n",
    "mws_vector = [pair[1][2] for pair in sorted_items]"
   ]
  },
  {
   "cell_type": "code",
   "execution_count": 8,
   "metadata": {},
   "outputs": [
    {
     "data": {
      "text/plain": [
       "0.7487332567707315"
      ]
     },
     "execution_count": 8,
     "metadata": {},
     "output_type": "execute_result"
    }
   ],
   "source": [
    "eap_hpl = cosine_similarity(eap_vector, hpl_vector)\n",
    "eap_hpl"
   ]
  },
  {
   "cell_type": "markdown",
   "metadata": {},
   "source": [
    "<h2>\n",
    "Is that close?\n",
    "</h2>\n",
    "<div class=h1_cell>\n",
    "<p>\n",
    "The range of the cosine similarity for us is 0..1. Does that make .75 high? It is hard to answer this without having the values for other book combinations. I would say it is high enough to warrant a further look if I was searching for plagiarism. Let's check out some other combos.\n",
    "</div>"
   ]
  },
  {
   "cell_type": "markdown",
   "metadata": {},
   "source": [
    "<h2>\n",
    "Challenge 2\n",
    "</h2>\n",
    "<div class=h1_cell>\n",
    "<p>\n",
    "Go ahead and do the other 2 comparisons.\n",
    "</div>"
   ]
  },
  {
   "cell_type": "code",
   "execution_count": 9,
   "metadata": {},
   "outputs": [
    {
     "data": {
      "text/plain": [
       "0.7462905158479859"
      ]
     },
     "execution_count": 9,
     "metadata": {},
     "output_type": "execute_result"
    }
   ],
   "source": [
    "eap_mws = cosine_similarity(eap_vector, mws_vector)\n",
    "eap_mws"
   ]
  },
  {
   "cell_type": "code",
   "execution_count": 10,
   "metadata": {},
   "outputs": [
    {
     "data": {
      "text/plain": [
       "0.7371094246610522"
      ]
     },
     "execution_count": 10,
     "metadata": {},
     "output_type": "execute_result"
    }
   ],
   "source": [
    "mws_hpl = cosine_similarity(mws_vector, hpl_vector)\n",
    "mws_hpl"
   ]
  },
  {
   "cell_type": "markdown",
   "metadata": {},
   "source": [
    "<h2>\n",
    "Kind of interesting\n",
    "</h2>\n",
    "<div class=h1_cell>\n",
    "<p>\n",
    "All 3 have roughly same similarity score. I would expect that given they are all gothic novels. Do you think we are catching the gothic/horror genre in our vectors through use of words?\n",
    "</div>"
   ]
  },
  {
   "cell_type": "markdown",
   "metadata": {},
   "source": [
    "<h2>\n",
    "Challenge 3\n",
    "</h2>\n",
    "<div class=h1_cell>\n",
    "<p>\n",
    "Let's test our conjecture that we are capturing something about gothicness. Let's compare the 3 against Huckleberry Finn by Mark Twain. My gut feeling is that this should not be high on gothic scale. Your goal is to build a huck_vector that you can compare against our existing vectors. Here is what you need to do:\n",
    "<p>\n",
    "<ol>\n",
    "<li>Initialize a huck_dict that has same keys as bag_of_words and each key's value is a count of that word in the Huck Finn book.\n",
    "<li>Find an online version of Huck Finn. Hint: Project Gutenberg is a great source.\n",
    "<li>Figure out how to read the book in and to break the book into sentences.\n",
    "<li>Pass each sentence through sentence_wrangler to get words.\n",
    "<li>For each word, increase the count for huck_dict[word], but only if word is in bag_of_words. If the word is not in bag_of_words, add it to the list huck_left_out.\n",
    "</ol>\n",
    "<p>\n",
    "Check your results against mine.\n",
    "</div>"
   ]
  },
  {
   "cell_type": "code",
   "execution_count": 12,
   "metadata": {},
   "outputs": [
    {
     "name": "stderr",
     "output_type": "stream",
     "text": [
      "/anaconda2/lib/python2.7/site-packages/ipykernel_launcher.py:8: UnicodeWarning: Unicode equal comparison failed to convert both arguments to Unicode - interpreting them as being unequal\n",
      "  \n"
     ]
    }
   ],
   "source": [
    "import urllib\n",
    "\n",
    "all_huck_words = bag_of_words.copy()\n",
    "for key in all_huck_words.keys():\n",
    "    all_huck_words[key] = 0\n",
    "\n",
    "huck_left_out = []\n",
    "huckData = urllib.urlopen(\"http://www.gutenberg.org/files/76/76-0.txt\").read()\n",
    "huckFinn = huckData.split(\".\")\n",
    "\n",
    "for sentence in huckFinn:\n",
    "    wordsInHuck = sentence_wrangler(sentence, swords, legals)[0]\n",
    "    for word in wordsInHuck:\n",
    "        if word in bag_of_words.keys():\n",
    "            all_huck_words[word] += 1\n",
    "        else:\n",
    "            huck_left_out.append(word)\n",
    "    "
   ]
  },
  {
   "cell_type": "code",
   "execution_count": 13,
   "metadata": {},
   "outputs": [
    {
     "data": {
      "text/plain": [
       "24944"
      ]
     },
     "execution_count": 13,
     "metadata": {},
     "output_type": "execute_result"
    }
   ],
   "source": [
    "len(all_huck_words)  # we expect this to be 24944, the len of bag_of_words"
   ]
  },
  {
   "cell_type": "code",
   "execution_count": 14,
   "metadata": {},
   "outputs": [
    {
     "data": {
      "text/plain": [
       "[(u'aaem', 0),\n",
       " (u'ab', 3),\n",
       " (u'aback', 0),\n",
       " (u'abaft', 0),\n",
       " (u'abandon', 0),\n",
       " (u'abandoned', 0),\n",
       " (u'abandoning', 0),\n",
       " (u'abandonment', 0),\n",
       " (u'abaout', 0),\n",
       " (u'abased', 0)]"
      ]
     },
     "execution_count": 14,
     "metadata": {},
     "output_type": "execute_result"
    }
   ],
   "source": [
    "sorted(all_huck_words.items())[:10]"
   ]
  },
  {
   "cell_type": "code",
   "execution_count": 15,
   "metadata": {},
   "outputs": [
    {
     "data": {
      "text/plain": [
       "1912"
      ]
     },
     "execution_count": 15,
     "metadata": {},
     "output_type": "execute_result"
    }
   ],
   "source": [
    "len(set(huck_left_out))  #number of unique words left out"
   ]
  },
  {
   "cell_type": "code",
   "execution_count": 16,
   "metadata": {},
   "outputs": [
    {
     "data": {
      "text/plain": [
       "['abner',\n",
       " 'abolitionist',\n",
       " 'abram',\n",
       " 'abusing',\n",
       " 'accessed',\n",
       " 'ache',\n",
       " 'actin',\n",
       " 'actuly',\n",
       " 'additions',\n",
       " 'addled']"
      ]
     },
     "execution_count": 16,
     "metadata": {},
     "output_type": "execute_result"
    }
   ],
   "source": [
    "sorted(list(set(huck_left_out)), reverse=False)[:10]  #first 10"
   ]
  },
  {
   "cell_type": "code",
   "execution_count": 17,
   "metadata": {},
   "outputs": [
    {
     "data": {
      "text/plain": [
       "['zip',\n",
       " 'yuther',\n",
       " 'yow',\n",
       " 'yourn',\n",
       " 'yo',\n",
       " 'yit',\n",
       " 'yistiddy',\n",
       " 'yisterday',\n",
       " 'yirls',\n",
       " 'yers']"
      ]
     },
     "execution_count": 17,
     "metadata": {},
     "output_type": "execute_result"
    }
   ],
   "source": [
    "sorted(list(set(huck_left_out)), reverse=True)[:10]  #last 10"
   ]
  },
  {
   "cell_type": "markdown",
   "metadata": {},
   "source": [
    "<h2>\n",
    "A note about these left out words\n",
    "</h2>\n",
    "<div class=h1_cell>\n",
    "<p>\n",
    "I am keeping bag_of_words static for simplicity. But in reality, it is a growing thing. We should really add these left out words into bag_of_words and zero them out for eap, hpl and mws. As it is, we are kind of playing by gothic rules, ony using the words we saw in gothic authors. What would happen if we expanded bag_of_words to include all the new words we see in each new book? Would that move us closer or farther away from similarity with the gothic authors?\n",
    "</div>"
   ]
  },
  {
   "cell_type": "markdown",
   "metadata": {},
   "source": [
    "<h2>\n",
    "Challenge 4\n",
    "</h2>\n",
    "<div class=h1_cell>\n",
    "<p>\n",
    "Build the huck_vector and compare with other 3. Remember to sort items so vectors align.\n",
    "</div>"
   ]
  },
  {
   "cell_type": "code",
   "execution_count": 18,
   "metadata": {},
   "outputs": [],
   "source": [
    "huck_sorted_items = sorted(all_huck_words.items())"
   ]
  },
  {
   "cell_type": "code",
   "execution_count": 19,
   "metadata": {},
   "outputs": [],
   "source": [
    "huck_vector = [pair[1] for pair in huck_sorted_items]"
   ]
  },
  {
   "cell_type": "code",
   "execution_count": 20,
   "metadata": {},
   "outputs": [
    {
     "data": {
      "text/plain": [
       "[0, 3, 0, 0, 0, 0, 0, 0, 0, 0]"
      ]
     },
     "execution_count": 20,
     "metadata": {},
     "output_type": "execute_result"
    }
   ],
   "source": [
    "huck_vector[:10]"
   ]
  },
  {
   "cell_type": "code",
   "execution_count": 21,
   "metadata": {},
   "outputs": [
    {
     "data": {
      "text/plain": [
       "0.5215618751637507"
      ]
     },
     "execution_count": 21,
     "metadata": {},
     "output_type": "execute_result"
    }
   ],
   "source": [
    "eap_huck = cosine_similarity(eap_vector, huck_vector)\n",
    "eap_huck"
   ]
  },
  {
   "cell_type": "code",
   "execution_count": 22,
   "metadata": {},
   "outputs": [
    {
     "data": {
      "text/plain": [
       "0.5751795949324066"
      ]
     },
     "execution_count": 22,
     "metadata": {},
     "output_type": "execute_result"
    }
   ],
   "source": [
    "hpl_huck = cosine_similarity(hpl_vector, huck_vector)\n",
    "hpl_huck"
   ]
  },
  {
   "cell_type": "code",
   "execution_count": 23,
   "metadata": {},
   "outputs": [
    {
     "data": {
      "text/plain": [
       "0.48095455803255693"
      ]
     },
     "execution_count": 23,
     "metadata": {},
     "output_type": "execute_result"
    }
   ],
   "source": [
    "mws_huck = cosine_similarity(mws_vector, huck_vector)\n",
    "mws_huck"
   ]
  },
  {
   "cell_type": "markdown",
   "metadata": {},
   "source": [
    "\n",
    "<div class=h1_cell>\n",
    "<p>\n",
    "Huck Finn is definitely less similar. Closest to Lovecraft. Hmmmmm. They were writing at roughly the same time period.\n",
    "</div>"
   ]
  },
  {
   "cell_type": "markdown",
   "metadata": {},
   "source": [
    "<h2>\n",
    "Challenge 4\n",
    "</h2>\n",
    "<div class=h1_cell>\n",
    "<p>\n",
    "Let's try one my literary colleague tells me is the antithesis of gothic: Oliver Twist by Charles Dickens.\n",
    "<p>\n",
    "Same routine as Huckleberry Finn. Find it, bag it, vectorize it, cosine it with other 4.\n",
    "</div>"
   ]
  },
  {
   "cell_type": "code",
   "execution_count": 24,
   "metadata": {},
   "outputs": [
    {
     "name": "stderr",
     "output_type": "stream",
     "text": [
      "/anaconda2/lib/python2.7/site-packages/ipykernel_launcher.py:8: UnicodeWarning: Unicode equal comparison failed to convert both arguments to Unicode - interpreting them as being unequal\n",
      "  \n"
     ]
    }
   ],
   "source": [
    "all_twist_words = bag_of_words.copy()\n",
    "for key in all_twist_words.keys():\n",
    "    all_twist_words[key] = 0\n",
    "\n",
    "twist_left_out = []\n",
    "twistData = urllib.urlopen(\"http://www.gutenberg.org/cache/epub/730/pg730.txt\").read()\n",
    "oliverTwist = twistData.split(\".\")\n",
    "\n",
    "for sentence in oliverTwist:\n",
    "    wordsInTwist = sentence_wrangler(sentence, swords, legals)[0]\n",
    "    for word in wordsInTwist:\n",
    "        if word in bag_of_words.keys():\n",
    "            all_twist_words[word] += 1\n",
    "        else:\n",
    "            twist_left_out.append(word)"
   ]
  },
  {
   "cell_type": "code",
   "execution_count": 25,
   "metadata": {},
   "outputs": [
    {
     "data": {
      "text/plain": [
       "24944"
      ]
     },
     "execution_count": 25,
     "metadata": {},
     "output_type": "execute_result"
    }
   ],
   "source": [
    "len(all_twist_words)"
   ]
  },
  {
   "cell_type": "code",
   "execution_count": 26,
   "metadata": {},
   "outputs": [
    {
     "data": {
      "text/plain": [
       "[(u'aaem', 0),\n",
       " (u'ab', 0),\n",
       " (u'aback', 0),\n",
       " (u'abaft', 0),\n",
       " (u'abandon', 1),\n",
       " (u'abandoned', 1),\n",
       " (u'abandoning', 0),\n",
       " (u'abandonment', 0),\n",
       " (u'abaout', 0),\n",
       " (u'abased', 0)]"
      ]
     },
     "execution_count": 26,
     "metadata": {},
     "output_type": "execute_result"
    }
   ],
   "source": [
    "twist_sorted_items = sorted(all_twist_words.items())\n",
    "twist_sorted_items[:10]"
   ]
  },
  {
   "cell_type": "code",
   "execution_count": 27,
   "metadata": {},
   "outputs": [
    {
     "data": {
      "text/plain": [
       "2009"
      ]
     },
     "execution_count": 27,
     "metadata": {},
     "output_type": "execute_result"
    }
   ],
   "source": [
    "len(set(twist_left_out))"
   ]
  },
  {
   "cell_type": "code",
   "execution_count": 28,
   "metadata": {},
   "outputs": [
    {
     "data": {
      "text/plain": [
       "['abase',\n",
       " 'ablutions',\n",
       " 'abound',\n",
       " 'absenting',\n",
       " 'abstractedly',\n",
       " 'abuts',\n",
       " 'acause',\n",
       " 'acceded',\n",
       " 'acceding',\n",
       " 'accessed']"
      ]
     },
     "execution_count": 28,
     "metadata": {},
     "output_type": "execute_result"
    }
   ],
   "source": [
    "sorted(list(set(twist_left_out)), reverse=False)[:10]"
   ]
  },
  {
   "cell_type": "code",
   "execution_count": 29,
   "metadata": {},
   "outputs": [
    {
     "data": {
      "text/plain": [
       "['zip',\n",
       " 'younker',\n",
       " 'yokel',\n",
       " 'yerself',\n",
       " 'xxxviii',\n",
       " 'xxxvii',\n",
       " 'xxxvi',\n",
       " 'xxxv',\n",
       " 'xxxix',\n",
       " 'xxxiv']"
      ]
     },
     "execution_count": 29,
     "metadata": {},
     "output_type": "execute_result"
    }
   ],
   "source": [
    "sorted(list(set(twist_left_out)), reverse=True)[:10]"
   ]
  },
  {
   "cell_type": "markdown",
   "metadata": {},
   "source": [
    "<h2>\n",
    "Dang\n",
    "</h2>\n",
    "<div class=h1_cell>\n",
    "<p>\n",
    "Looks like sentence_wrangler is letting through preface page numbers, e.g., xxxv. If we know we are dealing with books, I suppose we could write a special sentence_wrangler that knows about the weird things we will see in books and throw them out. I kind of like the idea of having a library of sentence wranglers that are tuned to specific styles of text. Then you can choose the one that makes the most sense.\n",
    "</div>"
   ]
  },
  {
   "cell_type": "markdown",
   "metadata": {},
   "source": [
    "<h2>\n",
    "Same left outs?\n",
    "</h2>\n",
    "<div class=h1_cell>\n",
    "<p>\n",
    "I wonder how much an overlap there is between words being left out of Huck Finn and words left out of Oliver Twist.\n",
    "</div>"
   ]
  },
  {
   "cell_type": "code",
   "execution_count": 30,
   "metadata": {},
   "outputs": [
    {
     "data": {
      "text/plain": [
       "316"
      ]
     },
     "execution_count": 30,
     "metadata": {},
     "output_type": "execute_result"
    }
   ],
   "source": [
    "intersection = set(twist_left_out).intersection(set(huck_left_out))\n",
    "len(intersection)"
   ]
  },
  {
   "cell_type": "markdown",
   "metadata": {},
   "source": [
    "<div class=h1_cell>\n",
    "<p>\n",
    "A pretty big overlap.\n",
    "</div>"
   ]
  },
  {
   "cell_type": "markdown",
   "metadata": {},
   "source": [
    "<h2>\n",
    "Ok, back to the problem\n",
    "</h2>\n",
    "<div class=h1_cell>\n",
    "<p>\n",
    "Build the twist_vector and compare with other 4.\n",
    "</div>"
   ]
  },
  {
   "cell_type": "code",
   "execution_count": 118,
   "metadata": {},
   "outputs": [],
   "source": [
    "twist_vector = [pair[1] for pair in twist_sorted_items]"
   ]
  },
  {
   "cell_type": "code",
   "execution_count": 119,
   "metadata": {},
   "outputs": [
    {
     "data": {
      "text/plain": [
       "0.655333952147614"
      ]
     },
     "execution_count": 119,
     "metadata": {},
     "output_type": "execute_result"
    }
   ],
   "source": [
    "eap_twist = cosine_similarity(eap_vector, twist_vector)\n",
    "eap_twist"
   ]
  },
  {
   "cell_type": "code",
   "execution_count": 120,
   "metadata": {},
   "outputs": [
    {
     "data": {
      "text/plain": [
       "0.5937931706997981"
      ]
     },
     "execution_count": 120,
     "metadata": {},
     "output_type": "execute_result"
    }
   ],
   "source": [
    "hpl_twist = cosine_similarity(hpl_vector, twist_vector)\n",
    "hpl_twist"
   ]
  },
  {
   "cell_type": "code",
   "execution_count": 121,
   "metadata": {},
   "outputs": [
    {
     "data": {
      "text/plain": [
       "0.5688023249478481"
      ]
     },
     "execution_count": 121,
     "metadata": {},
     "output_type": "execute_result"
    }
   ],
   "source": [
    "mws_twist = cosine_similarity(mws_vector, twist_vector)\n",
    "mws_twist"
   ]
  },
  {
   "cell_type": "code",
   "execution_count": 122,
   "metadata": {},
   "outputs": [
    {
     "data": {
      "text/plain": [
       "0.5708141316412415"
      ]
     },
     "execution_count": 122,
     "metadata": {},
     "output_type": "execute_result"
    }
   ],
   "source": [
    "huck_twist = cosine_similarity(huck_vector, twist_vector)\n",
    "huck_twist"
   ]
  },
  {
   "cell_type": "markdown",
   "metadata": {},
   "source": [
    "<h2>\n",
    "Poe is winner this time\n",
    "</h2>\n",
    "<div class=h1_cell>\n",
    "<p>\n",
    "Wonder if Poe and Dickens knew each other. They were writing at roughly the same time. Maybe we are picking up on the language and jargon of the time?\n",
    "</div>"
   ]
  },
  {
   "cell_type": "markdown",
   "metadata": {},
   "source": [
    "<h2>\n",
    "Challenge 5\n",
    "</h2>\n",
    "<div class=h1_cell>\n",
    "<p>\n",
    "I'm putting down a challenge. Find a book that has a cosine similarity value of below .5 for all 3 gothic authors. I was able to get below .4! You will get a shout-out if you can beat me.\n",
    "<p>\n",
    "To make exploration easier, I packaged up the code to produce the 3 values into a single function. For each book I explored, I saved it in my dropbox account and then got the url to it. That is what I passed into my function. You could do something similar with Google docs. Or change the url to a file path.\n",
    "</div>"
   ]
  },
  {
   "cell_type": "code",
   "execution_count": 128,
   "metadata": {},
   "outputs": [],
   "source": [
    "def check_book(url, bag, swords, legals, eap_vec, hpl_vec, mws_vec):\n",
    "    all_book_words = bag.copy()\n",
    "    for key in all_book_words.keys():\n",
    "        all_book_words[key] = 0\n",
    "\n",
    "    book_data = urllib.urlopen(url).read()\n",
    "    book = book_data.split(\".\")\n",
    "\n",
    "    for sentence in book:\n",
    "        words_in_book = sentence_wrangler(sentence, swords, legals)[0]\n",
    "        for word in words_in_book:\n",
    "            if word in bag.keys():\n",
    "                all_book_words[word] += 1\n",
    "    \n",
    "    sorted_book_items = sorted(all_book_words.items())\n",
    "    book_vec = [pair[1] for pair in sorted_book_items]\n",
    "    eap_x = cosine_similarity(eap_vec, book_vec)\n",
    "    hpl_x = cosine_similarity(hpl_vec, book_vec)\n",
    "    mws_x = cosine_similarity(mws_vec, book_vec)\n",
    "    \n",
    "    return (eap_x, hpl_x, mws_x)"
   ]
  },
  {
   "cell_type": "code",
   "execution_count": 163,
   "metadata": {},
   "outputs": [
    {
     "name": "stderr",
     "output_type": "stream",
     "text": [
      "/anaconda2/lib/python2.7/site-packages/ipykernel_launcher.py:8: UnicodeWarning: Unicode equal comparison failed to convert both arguments to Unicode - interpreting them as being unequal\n",
      "  \n"
     ]
    },
    {
     "data": {
      "text/plain": [
       "(0.655333952147614, 0.5937931706997981, 0.5688023249478481)"
      ]
     },
     "execution_count": 163,
     "metadata": {},
     "output_type": "execute_result"
    }
   ],
   "source": [
    "# test to make sure get same values as by hand above\n",
    "check_book('http://www.gutenberg.org/cache/epub/730/pg730.txt', bag_of_words, swords, legals, eap_vector, hpl_vector, mws_vector) # twist\n"
   ]
  },
  {
   "cell_type": "code",
   "execution_count": 131,
   "metadata": {},
   "outputs": [
    {
     "name": "stderr",
     "output_type": "stream",
     "text": [
      "/anaconda2/lib/python2.7/site-packages/ipykernel_launcher.py:8: UnicodeWarning: Unicode equal comparison failed to convert both arguments to Unicode - interpreting them as being unequal\n",
      "  \n"
     ]
    },
    {
     "data": {
      "text/plain": [
       "(0.4759461574820262, 0.4596634751074897, 0.5413930736578376)"
      ]
     },
     "execution_count": 131,
     "metadata": {},
     "output_type": "execute_result"
    }
   ],
   "source": [
    "# The Iliad by Homer\n",
    "check_book('http://www.gutenberg.org/cache/epub/6130/pg6130.txt', bag_of_words, swords, legals, eap_vector, hpl_vector, mws_vector)  # close\n"
   ]
  },
  {
   "cell_type": "code",
   "execution_count": 142,
   "metadata": {},
   "outputs": [
    {
     "name": "stderr",
     "output_type": "stream",
     "text": [
      "/anaconda2/lib/python2.7/site-packages/ipykernel_launcher.py:8: UnicodeWarning: Unicode equal comparison failed to convert both arguments to Unicode - interpreting them as being unequal\n",
      "  \n"
     ]
    },
    {
     "data": {
      "text/plain": [
       "(0.4059720034775994, 0.39459773807280546, 0.47293987506093177)"
      ]
     },
     "execution_count": 142,
     "metadata": {},
     "output_type": "execute_result"
    }
   ],
   "source": [
    "# Romeo and Juliet by Shakespeare\n",
    "check_book('http://www.gutenberg.org/cache/epub/1112/pg1112.txt', bag_of_words, swords, legals, eap_vector, hpl_vector, mws_vector) \n"
   ]
  },
  {
   "cell_type": "code",
   "execution_count": 146,
   "metadata": {},
   "outputs": [
    {
     "name": "stderr",
     "output_type": "stream",
     "text": [
      "/anaconda2/lib/python2.7/site-packages/ipykernel_launcher.py:8: UnicodeWarning: Unicode equal comparison failed to convert both arguments to Unicode - interpreting them as being unequal\n",
      "  \n"
     ]
    },
    {
     "data": {
      "text/plain": [
       "(0.4779796659228037, 0.4454179192795574, 0.417139349603236)"
      ]
     },
     "execution_count": 146,
     "metadata": {},
     "output_type": "execute_result"
    }
   ],
   "source": [
    "# Alice's Adventures in Wonderland by Lewis Carroll\n",
    "check_book('http://www.gutenberg.org/files/11/11-0.txt', bag_of_words, swords, legals, eap_vector, hpl_vector, mws_vector) \n"
   ]
  },
  {
   "cell_type": "code",
   "execution_count": 162,
   "metadata": {},
   "outputs": [
    {
     "name": "stderr",
     "output_type": "stream",
     "text": [
      "/anaconda2/lib/python2.7/site-packages/ipykernel_launcher.py:8: UnicodeWarning: Unicode equal comparison failed to convert both arguments to Unicode - interpreting them as being unequal\n",
      "  \n"
     ]
    },
    {
     "data": {
      "text/plain": [
       "(0.2664383860912784, 0.2519317033136522, 0.23930042366143933)"
      ]
     },
     "execution_count": 162,
     "metadata": {},
     "output_type": "execute_result"
    }
   ],
   "source": [
    "# The Hitchhikers Guide to the Internet by Ed Krol\n",
    "check_book('http://www.gutenberg.org/cache/epub/39/pg39.txt', bag_of_words, swords, legals, eap_vector, hpl_vector, mws_vector) \n"
   ]
  },
  {
   "cell_type": "markdown",
   "metadata": {},
   "source": [
    "<h2>\n",
    "Closing note\n",
    "</h2>\n",
    "<div class=h1_cell>\n",
    "<p>\n",
    "I'm still interested in using these word-frequency vectors to see what we can do. Next week we will take a look at another way to reason with words, i.e. word co-occurrence matrices.\n",
    "</div>"
   ]
  },
  {
   "cell_type": "code",
   "execution_count": null,
   "metadata": {
    "collapsed": true
   },
   "outputs": [],
   "source": []
  }
 ],
 "metadata": {
  "kernelspec": {
   "display_name": "Python 2",
   "language": "python",
   "name": "python2"
  },
  "language_info": {
   "codemirror_mode": {
    "name": "ipython",
    "version": 2
   },
   "file_extension": ".py",
   "mimetype": "text/x-python",
   "name": "python",
   "nbconvert_exporter": "python",
   "pygments_lexer": "ipython2",
   "version": "2.7.14"
  }
 },
 "nbformat": 4,
 "nbformat_minor": 1
}
