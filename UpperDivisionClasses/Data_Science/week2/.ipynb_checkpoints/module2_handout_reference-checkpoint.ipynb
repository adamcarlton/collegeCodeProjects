{
 "cells": [
  {
   "cell_type": "code",
   "execution_count": 1,
   "metadata": {},
   "outputs": [
    {
     "data": {
      "text/html": [
       "<style>\n",
       ".h1_cell, .just_text {\n",
       "    box-sizing: border-box;\n",
       "    padding-top:5px;\n",
       "    padding-bottom:5px;\n",
       "    font-family: \"Times New Roman\", Georgia, Serif;\n",
       "    font-size: 125%;\n",
       "    line-height: 22px; /* 5px +12px + 5px */\n",
       "    text-indent: 25px;\n",
       "    background-color: #fbfbea;\n",
       "    padding: 10px;\n",
       "    border-style: groove;\n",
       "}\n",
       "\n",
       "hr { \n",
       "    display: block;\n",
       "    margin-top: 0.5em;\n",
       "    margin-bottom: 0.5em;\n",
       "    margin-left: auto;\n",
       "    margin-right: auto;\n",
       "    border-style: inset;\n",
       "    border-width: 2px;\n",
       "}\n",
       "</style>"
      ],
      "text/plain": [
       "<IPython.core.display.HTML object>"
      ]
     },
     "metadata": {},
     "output_type": "display_data"
    }
   ],
   "source": [
    "%%html\n",
    "<style>\n",
    ".h1_cell, .just_text {\n",
    "    box-sizing: border-box;\n",
    "    padding-top:5px;\n",
    "    padding-bottom:5px;\n",
    "    font-family: \"Times New Roman\", Georgia, Serif;\n",
    "    font-size: 125%;\n",
    "    line-height: 22px; /* 5px +12px + 5px */\n",
    "    text-indent: 25px;\n",
    "    background-color: #fbfbea;\n",
    "    padding: 10px;\n",
    "    border-style: groove;\n",
    "}\n",
    "\n",
    "hr { \n",
    "    display: block;\n",
    "    margin-top: 0.5em;\n",
    "    margin-bottom: 0.5em;\n",
    "    margin-left: auto;\n",
    "    margin-right: auto;\n",
    "    border-style: inset;\n",
    "    border-width: 2px;\n",
    "}\n",
    "</style>"
   ]
  },
  {
   "cell_type": "markdown",
   "metadata": {},
   "source": [
    "<h1>\n",
    "<center>\n",
    "Module 2 - First look at tweets\n",
    "</center>\n",
    "</h1>\n",
    "<div class=h1_cell>\n",
    "<p>\n",
    "Social media is a hot spot of activity with people trying to determine what is being said in things like Facebook and Twitter. They want to know if someone is angry or not, if someone likes their product or not, if information is fake or not, if someone is breaking the rules for posting. I'd like to look at twitter in this module, and see if we can classify a tweet as carrying a hate message. I was able to round up a dataset of roughly 32K tweets in csv format, i.e., same format we used to look at passenger names on the Titanic. And the tweets are already labeled, just as Titanic data was labeled. \n",
    "<p>\n",
    "Let's bring in the tweets then talk about them. But first, let's load libraries. I added pat_count function from week 1 to week2 library.\n",
    "\n",
    "</div>"
   ]
  },
  {
   "cell_type": "code",
   "execution_count": 4,
   "metadata": {
    "collapsed": true
   },
   "outputs": [],
   "source": [
    "import os\n",
    "home_path =  os.path.expanduser('~')\n",
    "library_folder = '/Dropbox/cis399_ds2_w18/code_libraries/datascience_2'"
   ]
  },
  {
   "cell_type": "code",
   "execution_count": 6,
   "metadata": {},
   "outputs": [
    {
     "name": "stdout",
     "output_type": "stream",
     "text": [
      "Already up-to-date.\r\n"
     ]
    }
   ],
   "source": [
    "os.chdir(home_path + library_folder)\n",
    "!git pull"
   ]
  },
  {
   "cell_type": "code",
   "execution_count": 5,
   "metadata": {},
   "outputs": [
    {
     "name": "stdout",
     "output_type": "stream",
     "text": [
      "do_nothing\t foo\t pat_count\t python_version\t \n"
     ]
    }
   ],
   "source": [
    "import sys\n",
    "sys.path.append(home_path + library_folder)\n",
    "from week2 import *\n",
    "%who function"
   ]
  },
  {
   "cell_type": "code",
   "execution_count": 7,
   "metadata": {
    "collapsed": true
   },
   "outputs": [],
   "source": [
    "import pandas as pd\n",
    "url = 'https://docs.google.com/spreadsheets/d/e/2PACX-1vRpZtv1ZFa7Am4j7U8S4JDYTuGkAp3rEyVh7riN8nVLEcaos_wgoAyJiRiE1oe8aITeex8BG-z6Sj5-/pub?output=csv'\n",
    "tweet_table = pd.read_csv(url)"
   ]
  },
  {
   "cell_type": "code",
   "execution_count": 8,
   "metadata": {
    "scrolled": true
   },
   "outputs": [
    {
     "data": {
      "text/html": [
       "<div>\n",
       "<style>\n",
       "    .dataframe thead tr:only-child th {\n",
       "        text-align: right;\n",
       "    }\n",
       "\n",
       "    .dataframe thead th {\n",
       "        text-align: left;\n",
       "    }\n",
       "\n",
       "    .dataframe tbody tr th {\n",
       "        vertical-align: top;\n",
       "    }\n",
       "</style>\n",
       "<table border=\"1\" class=\"dataframe\">\n",
       "  <thead>\n",
       "    <tr style=\"text-align: right;\">\n",
       "      <th></th>\n",
       "      <th>id</th>\n",
       "      <th>label</th>\n",
       "      <th>tweet</th>\n",
       "    </tr>\n",
       "  </thead>\n",
       "  <tbody>\n",
       "    <tr>\n",
       "      <th>0</th>\n",
       "      <td>1</td>\n",
       "      <td>0</td>\n",
       "      <td>@user when a father is dysfunctional and is so...</td>\n",
       "    </tr>\n",
       "    <tr>\n",
       "      <th>1</th>\n",
       "      <td>2</td>\n",
       "      <td>0</td>\n",
       "      <td>@user @user thanks for #lyft credit i can't us...</td>\n",
       "    </tr>\n",
       "    <tr>\n",
       "      <th>2</th>\n",
       "      <td>3</td>\n",
       "      <td>0</td>\n",
       "      <td>bihday your majesty</td>\n",
       "    </tr>\n",
       "    <tr>\n",
       "      <th>3</th>\n",
       "      <td>4</td>\n",
       "      <td>0</td>\n",
       "      <td>#model   i love u take with u all the time in ...</td>\n",
       "    </tr>\n",
       "    <tr>\n",
       "      <th>4</th>\n",
       "      <td>5</td>\n",
       "      <td>0</td>\n",
       "      <td>factsguide: society now    #motivation</td>\n",
       "    </tr>\n",
       "  </tbody>\n",
       "</table>\n",
       "</div>"
      ],
      "text/plain": [
       "   id  label                                              tweet\n",
       "0   1      0  @user when a father is dysfunctional and is so...\n",
       "1   2      0  @user @user thanks for #lyft credit i can't us...\n",
       "2   3      0                                bihday your majesty\n",
       "3   4      0  #model   i love u take with u all the time in ...\n",
       "4   5      0             factsguide: society now    #motivation"
      ]
     },
     "execution_count": 8,
     "metadata": {},
     "output_type": "execute_result"
    }
   ],
   "source": [
    "tweet_table.head()"
   ]
  },
  {
   "cell_type": "markdown",
   "metadata": {},
   "source": [
    "<div class=h1_cell>\n",
    "<p>\n",
    "Normally I would drop the `id` column at this point. But I am going to leave the `id` column in for now. I know it just mirrors the table index (+1). But it might make it easier to reference rows in the future.\n",
    "</div>"
   ]
  },
  {
   "cell_type": "code",
   "execution_count": 9,
   "metadata": {},
   "outputs": [
    {
     "data": {
      "text/plain": [
       "31962"
      ]
     },
     "execution_count": 9,
     "metadata": {},
     "output_type": "execute_result"
    }
   ],
   "source": [
    "len(tweet_table)"
   ]
  },
  {
   "cell_type": "markdown",
   "metadata": {},
   "source": [
    "<div class=h1_cell>\n",
    "<p>\n",
    "Now check for duplicates. Looks like we have around 2K. I don't want to mess with them now. We could later go through and wrangle them out of our table.\n",
    "</div>"
   ]
  },
  {
   "cell_type": "code",
   "execution_count": 10,
   "metadata": {},
   "outputs": [
    {
     "name": "stdout",
     "output_type": "stream",
     "text": [
      "31962\n",
      "29509\n"
     ]
    }
   ],
   "source": [
    "all_tweets = tweet_table['tweet']\n",
    "print(len(all_tweets))\n",
    "print(len(set(all_tweets)))  # set removes duplicates"
   ]
  },
  {
   "cell_type": "markdown",
   "metadata": {},
   "source": [
    "\n",
    "<div class=h1_cell>\n",
    "<p>\n",
    "You can aee we have roughly 32K tweets/rows. Each row has a tweet and a label. The label is 1 if a human thought it was a hate-tweet and 0 if not. Our goal is to build a model that will predict whether a tweet should be labeled as hateful.\n",
    "<p>\n",
    "The tweets have a mixture of normal chars and emojis. The emojis are complex because they can be linked/stacked, e.g., 4 sequential bytes can be one emoji. You can see below that the print statement does this stacking and prints out 4 bytes as one emoji. When I look at the raw tweet, I can see the bytes, e.g. \\xc3 is the byte containing hex c3, etc.\n",
    "\n",
    "</div>"
   ]
  },
  {
   "cell_type": "code",
   "execution_count": 11,
   "metadata": {},
   "outputs": [
    {
     "data": {
      "text/plain": [
       "'#model   i love u take with u all the time in ur\\xc3\\xb0\\xc2\\x9f\\xc2\\x93\\xc2\\xb1!!! \\xc3\\xb0\\xc2\\x9f\\xc2\\x98\\xc2\\x99\\xc3\\xb0\\xc2\\x9f\\xc2\\x98\\xc2\\x8e\\xc3\\xb0\\xc2\\x9f\\xc2\\x91\\xc2\\x84\\xc3\\xb0\\xc2\\x9f\\xc2\\x91\\xc2\\x85\\xc3\\xb0\\xc2\\x9f\\xc2\\x92\\xc2\\xa6\\xc3\\xb0\\xc2\\x9f\\xc2\\x92\\xc2\\xa6\\xc3\\xb0\\xc2\\x9f\\xc2\\x92\\xc2\\xa6'"
      ]
     },
     "execution_count": 11,
     "metadata": {},
     "output_type": "execute_result"
    }
   ],
   "source": [
    "row3_raw = str(tweet_table.loc[3,'tweet'])\n",
    "row3_raw"
   ]
  },
  {
   "cell_type": "markdown",
   "metadata": {},
   "source": [
    "\n",
    "<div class=h1_cell>\n",
    "<p>\n",
    "I'll convert it to unicode - this is done automatically in Python 3.6.\n",
    "<p>\n",
    "\n",
    "</div>"
   ]
  },
  {
   "cell_type": "code",
   "execution_count": 12,
   "metadata": {},
   "outputs": [
    {
     "data": {
      "text/plain": [
       "u'#model   i love u take with u all the time in ur\\xf0\\x9f\\x93\\xb1!!! \\xf0\\x9f\\x98\\x99\\xf0\\x9f\\x98\\x8e\\xf0\\x9f\\x91\\x84\\xf0\\x9f\\x91\\x85\\xf0\\x9f\\x92\\xa6\\xf0\\x9f\\x92\\xa6\\xf0\\x9f\\x92\\xa6'"
      ]
     },
     "execution_count": 12,
     "metadata": {},
     "output_type": "execute_result"
    }
   ],
   "source": [
    "row3_u = unicode(row3_raw, 'utf8')\n",
    "row3_u"
   ]
  },
  {
   "cell_type": "code",
   "execution_count": 13,
   "metadata": {},
   "outputs": [
    {
     "name": "stdout",
     "output_type": "stream",
     "text": [
      "#model   i love u take with u all the time in urð±!!! ðððð",
      "ð¦ð¦ð¦\n"
     ]
    }
   ],
   "source": [
    "print(row3_u)  # you can see the print function can do some parsing of those hex codes"
   ]
  },
  {
   "cell_type": "markdown",
   "metadata": {},
   "source": [
    "<h2>\n",
    "No emojis for now\n",
    "</h2>\n",
    "<div class=h1_cell>\n",
    "<p>\n",
    "I am going to put off trying to deal with emojis. I think it is a bit of a side-track at this point. But we may want to return to it later. I could see that emojis are a kind of \"emotional language\" that might be able to signal intent.\n",
    "<p>\n",
    "If you are interested, below are the emoji codes that I found for row3_u using 4 byte-sequences. But big caveat. One of my grad students believes that the actual Emoji is a phone that stacks more than 4 bytes. If anyone believes they can parse `row3_u` (and ones like it) with a regex pattern, happy to give you extra credit.\n",
    "</div>"
   ]
  },
  {
   "cell_type": "markdown",
   "metadata": {},
   "source": [
    "\\xf0\\x9f\\x93\\xb1 https://apps.timwhitlock.info/unicode/inspect/hex/1F631    1F600-1F64F\n",
    " \n",
    "\\xf0\\x9f\\x98\\x99\thttp://www.unicode.org/Public/UNIDATA/NamesList.txt KISSING FACE WITH SMILING EYES\n",
    " \n",
    "\\xf0\\x9f\\x98\\x8e 1F60E\tSMILING FACE WITH SUNGLASSES\n",
    " \n",
    "\\xf0\\x9f\\x98\\x84  https://apps.timwhitlock.info/unicode/inspect/hex/1F444  1F300-1F5FF\n",
    " \n",
    "\\xf0\\x9f\\x91\\x85   https://apps.timwhitlock.info/unicode/inspect/hex/1F445   1F300-1F5FF\n",
    "\n",
    "\\xf0\\x9f\\x92\\xa6  https://apps.timwhitlock.info/unicode/inspect/hex/1F4A6     1F300-1F5FF"
   ]
  },
  {
   "cell_type": "markdown",
   "metadata": {},
   "source": [
    "<h2>\n",
    "Steal an idea from Titanic\n",
    "</h2>\n",
    "<div class=h1_cell>\n",
    "<p>\n",
    "I have convinced myself that there is something about length of names or Numerology that gives us a clue. We took the length of a passenger name as a feature last module. Let's add a column for length of tweet in this module.\n",
    "\n",
    "</div>"
   ]
  },
  {
   "cell_type": "code",
   "execution_count": 14,
   "metadata": {
    "collapsed": true
   },
   "outputs": [],
   "source": [
    "tweet_table['length'] = tweet_table.apply(lambda row: len(row['tweet']), axis=1)"
   ]
  },
  {
   "cell_type": "code",
   "execution_count": 15,
   "metadata": {},
   "outputs": [
    {
     "data": {
      "text/html": [
       "<div>\n",
       "<style>\n",
       "    .dataframe thead tr:only-child th {\n",
       "        text-align: right;\n",
       "    }\n",
       "\n",
       "    .dataframe thead th {\n",
       "        text-align: left;\n",
       "    }\n",
       "\n",
       "    .dataframe tbody tr th {\n",
       "        vertical-align: top;\n",
       "    }\n",
       "</style>\n",
       "<table border=\"1\" class=\"dataframe\">\n",
       "  <thead>\n",
       "    <tr style=\"text-align: right;\">\n",
       "      <th></th>\n",
       "      <th>id</th>\n",
       "      <th>label</th>\n",
       "      <th>tweet</th>\n",
       "      <th>length</th>\n",
       "    </tr>\n",
       "  </thead>\n",
       "  <tbody>\n",
       "    <tr>\n",
       "      <th>0</th>\n",
       "      <td>1</td>\n",
       "      <td>0</td>\n",
       "      <td>@user when a father is dysfunctional and is so...</td>\n",
       "      <td>101</td>\n",
       "    </tr>\n",
       "    <tr>\n",
       "      <th>1</th>\n",
       "      <td>2</td>\n",
       "      <td>0</td>\n",
       "      <td>@user @user thanks for #lyft credit i can't us...</td>\n",
       "      <td>122</td>\n",
       "    </tr>\n",
       "    <tr>\n",
       "      <th>2</th>\n",
       "      <td>3</td>\n",
       "      <td>0</td>\n",
       "      <td>bihday your majesty</td>\n",
       "      <td>19</td>\n",
       "    </tr>\n",
       "    <tr>\n",
       "      <th>3</th>\n",
       "      <td>4</td>\n",
       "      <td>0</td>\n",
       "      <td>#model   i love u take with u all the time in ...</td>\n",
       "      <td>116</td>\n",
       "    </tr>\n",
       "    <tr>\n",
       "      <th>4</th>\n",
       "      <td>5</td>\n",
       "      <td>0</td>\n",
       "      <td>factsguide: society now    #motivation</td>\n",
       "      <td>38</td>\n",
       "    </tr>\n",
       "  </tbody>\n",
       "</table>\n",
       "</div>"
      ],
      "text/plain": [
       "   id  label                                              tweet  length\n",
       "0   1      0  @user when a father is dysfunctional and is so...     101\n",
       "1   2      0  @user @user thanks for #lyft credit i can't us...     122\n",
       "2   3      0                                bihday your majesty      19\n",
       "3   4      0  #model   i love u take with u all the time in ...     116\n",
       "4   5      0             factsguide: society now    #motivation      38"
      ]
     },
     "execution_count": 15,
     "metadata": {},
     "output_type": "execute_result"
    }
   ],
   "source": [
    "tweet_table.head()"
   ]
  },
  {
   "cell_type": "markdown",
   "metadata": {},
   "source": [
    "<h2>\n",
    "A bit of regex hacking\n",
    "</h2>\n",
    "<div class=h1_cell>\n",
    "<p>\n",
    "We are going to see that built-in libraries can do a lot of text parsing for us. But it is always good to be able to build our own parsers. I am going to ask you to get your feet wet with using regular expressions to pull information out of a tweet. What I want are a count of hashtags and a count of exclamation points.\n",
    "<p>\n",
    "BTW: you might find this site useful for testing your regular expressions: https://pythex.org/.\n",
    "</div>"
   ]
  },
  {
   "cell_type": "code",
   "execution_count": 16,
   "metadata": {
    "collapsed": true
   },
   "outputs": [],
   "source": [
    "import re  # Also see regex library for more functionality"
   ]
  },
  {
   "cell_type": "markdown",
   "metadata": {},
   "source": [
    "<h2>\n",
    "Let's build a general pattern counter\n",
    "</h2>\n",
    "<div class=h1_cell>\n",
    "<p>\n",
    "What I want is to count how many times a certain pattern appears in a tweet. I'll first compile the pattern then use the `findall` function to give a list of matches. Finally, I'll take the length of that list.\n",
    "<p>\n",
    "It seems efficient to first compile the pattern we are looking for then use it over and over in a counter function. I am going to do this by using a Python closure to hold the compiled pattern. I suppose you could do something similar by defining a class and giving it internal state. But I am not a huge fan of OOP when something simpler will work.\n",
    "</div>"
   ]
  },
  {
   "cell_type": "code",
   "execution_count": 18,
   "metadata": {
    "collapsed": true
   },
   "outputs": [],
   "source": [
    "def pat_count(pattern):\n",
    "    pat = re.compile(pattern)\n",
    "    \n",
    "    def the_counter(tweet):\n",
    "        pat_count = len(re.findall(pat,tweet))  # findall returns a list of all matches\n",
    "        return pat_count\n",
    "    \n",
    "    return the_counter  # returns a function as a value "
   ]
  },
  {
   "cell_type": "markdown",
   "metadata": {},
   "source": [
    "<div class=h1_cell>\n",
    "<p>\n",
    "I'll give you the bang pattern - it is simple. Note that I am prefixing the pattern string with an r. You want to do this. It tells the re functions to treat special characters in the string as pattern matching. We have no special characters in the bang pattern so could skip the r. But it is a good practice to always use it when building a pattern matching string.\n",
    "<p>Jargon alert: the term *bang* is geeky for exclamation point.\n",
    "</div>"
   ]
  },
  {
   "cell_type": "code",
   "execution_count": 19,
   "metadata": {},
   "outputs": [
    {
     "data": {
      "text/plain": [
       "4"
      ]
     },
     "execution_count": 19,
     "metadata": {},
     "output_type": "execute_result"
    }
   ],
   "source": [
    "test_tweet = '! #yes ! #no yes no #youwin youwin!!'\n",
    "\n",
    "bang_counter = pat_count(r'!')\n",
    "\n",
    "bang_counter(test_tweet)"
   ]
  },
  {
   "cell_type": "markdown",
   "metadata": {},
   "source": [
    "<h1>\n",
    "Challenge 1 - write a hashtag pattern\n",
    "</h1>\n",
    "<div class=h1_cell>\n",
    "<p>\n",
    "For the hashtag pattern, you might be tempted to use this: r'#'. In fact, that will work. But I would like you to figure out how to get the entire hashtag. You will need the entire tag soon.\n",
    "</div>"
   ]
  },
  {
   "cell_type": "code",
   "execution_count": 20,
   "metadata": {},
   "outputs": [
    {
     "data": {
      "text/plain": [
       "['#yes', '#no', '#youwin']"
      ]
     },
     "execution_count": 20,
     "metadata": {},
     "output_type": "execute_result"
    }
   ],
   "source": [
    "hash_pat = \n",
    "\n",
    "re.findall(hash_pat, test_tweet)"
   ]
  },
  {
   "cell_type": "code",
   "execution_count": 21,
   "metadata": {},
   "outputs": [
    {
     "data": {
      "text/plain": [
       "3"
      ]
     },
     "execution_count": 21,
     "metadata": {},
     "output_type": "execute_result"
    }
   ],
   "source": [
    "hash_counter = pat_count(hash_pat)\n",
    "\n",
    "hash_counter(test_tweet)"
   ]
  },
  {
   "cell_type": "markdown",
   "metadata": {},
   "source": [
    "<h1>\n",
    "Challenge 2 - wrangle 2 new columns\n",
    "</h1>\n",
    "<div class=h1_cell>\n",
    "<p>\n",
    "Go ahead and add the new columns `bang_count` and `hash_count`.\n",
    "</div>"
   ]
  },
  {
   "cell_type": "code",
   "execution_count": 22,
   "metadata": {
    "collapsed": true
   },
   "outputs": [],
   "source": [
    "#add bang_count\n"
   ]
  },
  {
   "cell_type": "code",
   "execution_count": 23,
   "metadata": {},
   "outputs": [
    {
     "data": {
      "text/html": [
       "<div>\n",
       "<style>\n",
       "    .dataframe thead tr:only-child th {\n",
       "        text-align: right;\n",
       "    }\n",
       "\n",
       "    .dataframe thead th {\n",
       "        text-align: left;\n",
       "    }\n",
       "\n",
       "    .dataframe tbody tr th {\n",
       "        vertical-align: top;\n",
       "    }\n",
       "</style>\n",
       "<table border=\"1\" class=\"dataframe\">\n",
       "  <thead>\n",
       "    <tr style=\"text-align: right;\">\n",
       "      <th></th>\n",
       "      <th>id</th>\n",
       "      <th>label</th>\n",
       "      <th>tweet</th>\n",
       "      <th>length</th>\n",
       "      <th>bang_count</th>\n",
       "    </tr>\n",
       "  </thead>\n",
       "  <tbody>\n",
       "    <tr>\n",
       "      <th>0</th>\n",
       "      <td>1</td>\n",
       "      <td>0</td>\n",
       "      <td>@user when a father is dysfunctional and is so...</td>\n",
       "      <td>101</td>\n",
       "      <td>0</td>\n",
       "    </tr>\n",
       "    <tr>\n",
       "      <th>1</th>\n",
       "      <td>2</td>\n",
       "      <td>0</td>\n",
       "      <td>@user @user thanks for #lyft credit i can't us...</td>\n",
       "      <td>122</td>\n",
       "      <td>0</td>\n",
       "    </tr>\n",
       "    <tr>\n",
       "      <th>2</th>\n",
       "      <td>3</td>\n",
       "      <td>0</td>\n",
       "      <td>bihday your majesty</td>\n",
       "      <td>19</td>\n",
       "      <td>0</td>\n",
       "    </tr>\n",
       "    <tr>\n",
       "      <th>3</th>\n",
       "      <td>4</td>\n",
       "      <td>0</td>\n",
       "      <td>#model   i love u take with u all the time in ...</td>\n",
       "      <td>116</td>\n",
       "      <td>3</td>\n",
       "    </tr>\n",
       "    <tr>\n",
       "      <th>4</th>\n",
       "      <td>5</td>\n",
       "      <td>0</td>\n",
       "      <td>factsguide: society now    #motivation</td>\n",
       "      <td>38</td>\n",
       "      <td>0</td>\n",
       "    </tr>\n",
       "  </tbody>\n",
       "</table>\n",
       "</div>"
      ],
      "text/plain": [
       "   id  label                                              tweet  length  \\\n",
       "0   1      0  @user when a father is dysfunctional and is so...     101   \n",
       "1   2      0  @user @user thanks for #lyft credit i can't us...     122   \n",
       "2   3      0                                bihday your majesty      19   \n",
       "3   4      0  #model   i love u take with u all the time in ...     116   \n",
       "4   5      0             factsguide: society now    #motivation      38   \n",
       "\n",
       "   bang_count  \n",
       "0           0  \n",
       "1           0  \n",
       "2           0  \n",
       "3           3  \n",
       "4           0  "
      ]
     },
     "execution_count": 23,
     "metadata": {},
     "output_type": "execute_result"
    }
   ],
   "source": [
    "tweet_table.head(5)"
   ]
  },
  {
   "cell_type": "code",
   "execution_count": 24,
   "metadata": {
    "collapsed": true
   },
   "outputs": [],
   "source": [
    "#add hash_count\n"
   ]
  },
  {
   "cell_type": "code",
   "execution_count": 25,
   "metadata": {},
   "outputs": [
    {
     "data": {
      "text/html": [
       "<div>\n",
       "<style>\n",
       "    .dataframe thead tr:only-child th {\n",
       "        text-align: right;\n",
       "    }\n",
       "\n",
       "    .dataframe thead th {\n",
       "        text-align: left;\n",
       "    }\n",
       "\n",
       "    .dataframe tbody tr th {\n",
       "        vertical-align: top;\n",
       "    }\n",
       "</style>\n",
       "<table border=\"1\" class=\"dataframe\">\n",
       "  <thead>\n",
       "    <tr style=\"text-align: right;\">\n",
       "      <th></th>\n",
       "      <th>id</th>\n",
       "      <th>label</th>\n",
       "      <th>tweet</th>\n",
       "      <th>length</th>\n",
       "      <th>bang_count</th>\n",
       "      <th>hash_count</th>\n",
       "    </tr>\n",
       "  </thead>\n",
       "  <tbody>\n",
       "    <tr>\n",
       "      <th>0</th>\n",
       "      <td>1</td>\n",
       "      <td>0</td>\n",
       "      <td>@user when a father is dysfunctional and is so...</td>\n",
       "      <td>101</td>\n",
       "      <td>0</td>\n",
       "      <td>1</td>\n",
       "    </tr>\n",
       "    <tr>\n",
       "      <th>1</th>\n",
       "      <td>2</td>\n",
       "      <td>0</td>\n",
       "      <td>@user @user thanks for #lyft credit i can't us...</td>\n",
       "      <td>122</td>\n",
       "      <td>0</td>\n",
       "      <td>3</td>\n",
       "    </tr>\n",
       "    <tr>\n",
       "      <th>2</th>\n",
       "      <td>3</td>\n",
       "      <td>0</td>\n",
       "      <td>bihday your majesty</td>\n",
       "      <td>19</td>\n",
       "      <td>0</td>\n",
       "      <td>0</td>\n",
       "    </tr>\n",
       "    <tr>\n",
       "      <th>3</th>\n",
       "      <td>4</td>\n",
       "      <td>0</td>\n",
       "      <td>#model   i love u take with u all the time in ...</td>\n",
       "      <td>116</td>\n",
       "      <td>3</td>\n",
       "      <td>1</td>\n",
       "    </tr>\n",
       "    <tr>\n",
       "      <th>4</th>\n",
       "      <td>5</td>\n",
       "      <td>0</td>\n",
       "      <td>factsguide: society now    #motivation</td>\n",
       "      <td>38</td>\n",
       "      <td>0</td>\n",
       "      <td>1</td>\n",
       "    </tr>\n",
       "  </tbody>\n",
       "</table>\n",
       "</div>"
      ],
      "text/plain": [
       "   id  label                                              tweet  length  \\\n",
       "0   1      0  @user when a father is dysfunctional and is so...     101   \n",
       "1   2      0  @user @user thanks for #lyft credit i can't us...     122   \n",
       "2   3      0                                bihday your majesty      19   \n",
       "3   4      0  #model   i love u take with u all the time in ...     116   \n",
       "4   5      0             factsguide: society now    #motivation      38   \n",
       "\n",
       "   bang_count  hash_count  \n",
       "0           0           1  \n",
       "1           0           3  \n",
       "2           0           0  \n",
       "3           3           1  \n",
       "4           0           1  "
      ]
     },
     "execution_count": 25,
     "metadata": {},
     "output_type": "execute_result"
    }
   ],
   "source": [
    "tweet_table.head(5)"
   ]
  },
  {
   "cell_type": "markdown",
   "metadata": {},
   "source": [
    "<h2>\n",
    "Challenge 3 - bag of hashtags\n",
    "</h2>\n",
    "<div class=h1_cell>\n",
    "<p>\n",
    "My goal is to add new columns to tweet_table that might be useful in classification. So far I have the length, number of !s and the number of hashtags. Three new columns. Cool. But I want more.\n",
    "<p>\n",
    "Next thing I want is to delve a little more deeply into the actual content of the hashtags for haters. There will be a lot of unique hashtags so I'll count them and choose the top 5. Here are my steps:\n",
    "<p>\n",
    "<ol>\n",
    "<li>Generate a dictionary of all hashtags that counts occurence in non-hate and hate tweets. I'll show you below.\n",
    "<li>Find the top 5 hashtags that appear in hate tweets.\n",
    "</ol>\n",
    "<p>\n",
    "I'll get you started on some of this and let you finish it. Our goal is to create a dictionary `all_hashes` that contatins keys that are the hashes in all the tweets. The value of each key is how many times that key (i.e., hashtag) appears in non-hate tweets and hate tweets. I'll use a 2-element list to hold these 2 values. Let's do a couple by hand. I'll start arbitrarily with row 13.\n",
    "</div>"
   ]
  },
  {
   "cell_type": "code",
   "execution_count": 26,
   "metadata": {
    "collapsed": true
   },
   "outputs": [],
   "source": [
    "all_hashes_test = {}  # starts out empty"
   ]
  },
  {
   "cell_type": "code",
   "execution_count": 27,
   "metadata": {},
   "outputs": [
    {
     "data": {
      "text/plain": [
       "id                                                           14\n",
       "label                                                         1\n",
       "tweet         @user #cnn calls #michigan middle school 'buil...\n",
       "length                                                       72\n",
       "bang_count                                                    0\n",
       "hash_count                                                    3\n",
       "Name: 13, dtype: object"
      ]
     },
     "execution_count": 27,
     "metadata": {},
     "output_type": "execute_result"
    }
   ],
   "source": [
    "row13 = tweet_table.iloc[13]\n",
    "row13"
   ]
  },
  {
   "cell_type": "code",
   "execution_count": 28,
   "metadata": {},
   "outputs": [
    {
     "data": {
      "text/plain": [
       "\"@user #cnn calls #michigan middle school 'build the wall' chant '' #tcot\""
      ]
     },
     "execution_count": 28,
     "metadata": {},
     "output_type": "execute_result"
    }
   ],
   "source": [
    "row13_tweet = row13['tweet']\n",
    "row13_tweet"
   ]
  },
  {
   "cell_type": "code",
   "execution_count": 29,
   "metadata": {},
   "outputs": [
    {
     "data": {
      "text/plain": [
       "1"
      ]
     },
     "execution_count": 29,
     "metadata": {},
     "output_type": "execute_result"
    }
   ],
   "source": [
    "row13_label = row13['label']  # a hater\n",
    "row13_label"
   ]
  },
  {
   "cell_type": "markdown",
   "metadata": {},
   "source": [
    "<div class=h1_cell>\n",
    "<p>\n",
    "From this tweet, I can see 3 hashtags. I want to add each to `all_hashes_test` along with counts. Remember the counts are in a 2-element list with first element count for non-hate and second element for hate. Given that `row13` is a hate tweet, we give [0,1] to start things off.\n",
    "</div>"
   ]
  },
  {
   "cell_type": "code",
   "execution_count": 30,
   "metadata": {},
   "outputs": [
    {
     "data": {
      "text/plain": [
       "{'#cnn': [0, 1], '#michigan': [0, 1], '#tcot': [0, 1]}"
      ]
     },
     "execution_count": 30,
     "metadata": {},
     "output_type": "execute_result"
    }
   ],
   "source": [
    "all_hashes_test['#cnn'] = [0,1]\n",
    "all_hashes_test['#michigan'] =  [0,1]\n",
    "all_hashes_test['#tcot'] = [0,1]\n",
    "all_hashes_test"
   ]
  },
  {
   "cell_type": "markdown",
   "metadata": {},
   "source": [
    "<div class=h1_cell>\n",
    "<p>\n",
    "Next I'll use a row that has #cnn but is a non-hate tweet.\n",
    "</div>"
   ]
  },
  {
   "cell_type": "code",
   "execution_count": 31,
   "metadata": {},
   "outputs": [
    {
     "data": {
      "text/plain": [
       "id                                                        31629\n",
       "label                                                         0\n",
       "tweet         #cnn is now as bad as #msnbc...down playing th...\n",
       "length                                                       93\n",
       "bang_count                                                    0\n",
       "hash_count                                                    4\n",
       "Name: 31628, dtype: object"
      ]
     },
     "execution_count": 31,
     "metadata": {},
     "output_type": "execute_result"
    }
   ],
   "source": [
    "row31628 = tweet_table.iloc[31628]\n",
    "row31628"
   ]
  },
  {
   "cell_type": "code",
   "execution_count": 32,
   "metadata": {},
   "outputs": [
    {
     "data": {
      "text/plain": [
       "'#cnn is now as bad as #msnbc...down playing the role of islamic terrorism.   #media #donlemon'"
      ]
     },
     "execution_count": 32,
     "metadata": {},
     "output_type": "execute_result"
    }
   ],
   "source": [
    "row31628['tweet']"
   ]
  },
  {
   "cell_type": "code",
   "execution_count": 33,
   "metadata": {},
   "outputs": [
    {
     "data": {
      "text/plain": [
       "0"
      ]
     },
     "execution_count": 33,
     "metadata": {},
     "output_type": "execute_result"
    }
   ],
   "source": [
    "row31628_label = row31628['label']  # non-hater\n",
    "row31628_label"
   ]
  },
  {
   "cell_type": "code",
   "execution_count": 34,
   "metadata": {},
   "outputs": [
    {
     "data": {
      "text/plain": [
       "{'#cnn': [1, 1], '#michigan': [0, 1], '#tcot': [0, 1]}"
      ]
     },
     "execution_count": 34,
     "metadata": {},
     "output_type": "execute_result"
    }
   ],
   "source": [
    "all_hashes_test['#cnn'][row31628_label] += 1  # label is 0 or 1 so use it to index the 2-element list\n",
    "all_hashes_test"
   ]
  },
  {
   "cell_type": "code",
   "execution_count": 35,
   "metadata": {},
   "outputs": [
    {
     "data": {
      "text/plain": [
       "{'#cnn': [1, 1],\n",
       " '#donlemon': [1, 0],\n",
       " '#media': [1, 0],\n",
       " '#michigan': [0, 1],\n",
       " '#msnbc': [1, 0],\n",
       " '#tcot': [0, 1]}"
      ]
     },
     "execution_count": 35,
     "metadata": {},
     "output_type": "execute_result"
    }
   ],
   "source": [
    "# others are new so initialize them\n",
    "\n",
    "all_hashes_test['#msnbc'] = [1,0]\n",
    "all_hashes_test['#media'] =  [1,0]\n",
    "all_hashes_test['#donlemon'] = [1,0]\n",
    "all_hashes_test"
   ]
  },
  {
   "cell_type": "markdown",
   "metadata": {},
   "source": [
    "<div class=h1_cell>\n",
    "<p>\n",
    "Ok, turning over to you. Please finish this function and make sure it agrees with my results.\n",
    "</div>"
   ]
  },
  {
   "cell_type": "code",
   "execution_count": 36,
   "metadata": {
    "collapsed": true
   },
   "outputs": [],
   "source": [
    "def count_all_hashes(table):\n"
   ]
  },
  {
   "cell_type": "code",
   "execution_count": 37,
   "metadata": {},
   "outputs": [
    {
     "name": "stdout",
     "output_type": "stream",
     "text": [
      "[5, 10]\n",
      "[6, 14]\n",
      "[18, 10]\n",
      "[1, 0]\n"
     ]
    }
   ],
   "source": [
    "all_hashes = count_all_hashes(tweet_table)\n",
    "print(all_hashes['#cnn'])  #appears in 5 nohate tweets and 10 hate tweets\n",
    "print(all_hashes['#tcot'])\n",
    "print(all_hashes['#media'])\n",
    "print(all_hashes['#shalala'])"
   ]
  },
  {
   "cell_type": "code",
   "execution_count": 38,
   "metadata": {},
   "outputs": [
    {
     "data": {
      "text/plain": [
       "23013"
      ]
     },
     "execution_count": 38,
     "metadata": {},
     "output_type": "execute_result"
    }
   ],
   "source": [
    "len(all_hashes)  # looks like 23K unique hashtags"
   ]
  },
  {
   "cell_type": "markdown",
   "metadata": {},
   "source": [
    "<div class=h1_cell>\n",
    "<p>\n",
    "Last step is getting top 5 hashtags from hate tweets.\n",
    "<p>\n",
    "Hint: the `sorted` function has useful optional parameters.\n",
    "</div>"
   ]
  },
  {
   "cell_type": "code",
   "execution_count": 40,
   "metadata": {},
   "outputs": [
    {
     "data": {
      "text/plain": [
       "[('#trump', [44, 136]),\n",
       " ('#politics', [5, 95]),\n",
       " ('#allahsoil', [0, 92]),\n",
       " ('#libtard', [1, 76]),\n",
       " ('#liberal', [3, 75])]"
      ]
     },
     "execution_count": 40,
     "metadata": {},
     "output_type": "execute_result"
    }
   ],
   "source": [
    "hash_sort = \n",
    "top5_hate = hash_sort[:5]\n",
    "top5_hate"
   ]
  },
  {
   "cell_type": "markdown",
   "metadata": {},
   "source": [
    "<h2>\n",
    "Challenge 4 - add the 5 new columns\n",
    "</h2>\n",
    "<div class=h1_cell>\n",
    "<p>\n",
    "Last wrangling step. Add 5 new columns for the top 5 hashtags, e.g., `#trump`, `#politics`, etc.\n",
    "<p>\n",
    "For any specific row, count how many times each of the 5 hashtags appears. Mostly, but not always, 0.\n",
    "<p>\n",
    "But before getting to that, there is a gotcha. Check out my code below.\n",
    "</div>"
   ]
  },
  {
   "cell_type": "code",
   "execution_count": 41,
   "metadata": {},
   "outputs": [
    {
     "data": {
      "text/plain": [
       "[1, 76]"
      ]
     },
     "execution_count": 41,
     "metadata": {},
     "output_type": "execute_result"
    }
   ],
   "source": [
    "all_hashes['#libtard']"
   ]
  },
  {
   "cell_type": "code",
   "execution_count": 42,
   "metadata": {},
   "outputs": [
    {
     "data": {
      "text/plain": [
       "[1, 1]"
      ]
     },
     "execution_count": 42,
     "metadata": {},
     "output_type": "execute_result"
    }
   ],
   "source": [
    "all_hashes['#libtards']"
   ]
  },
  {
   "cell_type": "markdown",
   "metadata": {},
   "source": [
    "<div class=h1_cell>\n",
    "<p>\n",
    "These are 2 separate hashtags in our dictionary. If you are not careful, you could end up matching on #libtard when it is actually #libtards that appears. That would be in error. You need to find a regex pattern that will match each of the 5 hashtags but not any hashtags that adda a suffix on to them, e.g., an s. And make it general, so it will not match on things like #trumper, #trumped, etc.\n",
    "</div>"
   ]
  },
  {
   "cell_type": "code",
   "execution_count": 43,
   "metadata": {
    "collapsed": true
   },
   "outputs": [],
   "source": [
    "for tag in ['#trump', '#politics', '#allahsoil', '#libtard', '#liberal']:\n"
   ]
  },
  {
   "cell_type": "code",
   "execution_count": 44,
   "metadata": {},
   "outputs": [
    {
     "data": {
      "text/html": [
       "<div>\n",
       "<style>\n",
       "    .dataframe thead tr:only-child th {\n",
       "        text-align: right;\n",
       "    }\n",
       "\n",
       "    .dataframe thead th {\n",
       "        text-align: left;\n",
       "    }\n",
       "\n",
       "    .dataframe tbody tr th {\n",
       "        vertical-align: top;\n",
       "    }\n",
       "</style>\n",
       "<table border=\"1\" class=\"dataframe\">\n",
       "  <thead>\n",
       "    <tr style=\"text-align: right;\">\n",
       "      <th></th>\n",
       "      <th>id</th>\n",
       "      <th>label</th>\n",
       "      <th>tweet</th>\n",
       "      <th>length</th>\n",
       "      <th>bang_count</th>\n",
       "      <th>hash_count</th>\n",
       "      <th>#trump</th>\n",
       "      <th>#politics</th>\n",
       "      <th>#allahsoil</th>\n",
       "      <th>#libtard</th>\n",
       "      <th>#liberal</th>\n",
       "    </tr>\n",
       "  </thead>\n",
       "  <tbody>\n",
       "    <tr>\n",
       "      <th>0</th>\n",
       "      <td>1</td>\n",
       "      <td>0</td>\n",
       "      <td>@user when a father is dysfunctional and is so...</td>\n",
       "      <td>101</td>\n",
       "      <td>0</td>\n",
       "      <td>1</td>\n",
       "      <td>0</td>\n",
       "      <td>0</td>\n",
       "      <td>0</td>\n",
       "      <td>0</td>\n",
       "      <td>0</td>\n",
       "    </tr>\n",
       "    <tr>\n",
       "      <th>1</th>\n",
       "      <td>2</td>\n",
       "      <td>0</td>\n",
       "      <td>@user @user thanks for #lyft credit i can't us...</td>\n",
       "      <td>122</td>\n",
       "      <td>0</td>\n",
       "      <td>3</td>\n",
       "      <td>0</td>\n",
       "      <td>0</td>\n",
       "      <td>0</td>\n",
       "      <td>0</td>\n",
       "      <td>0</td>\n",
       "    </tr>\n",
       "    <tr>\n",
       "      <th>2</th>\n",
       "      <td>3</td>\n",
       "      <td>0</td>\n",
       "      <td>bihday your majesty</td>\n",
       "      <td>19</td>\n",
       "      <td>0</td>\n",
       "      <td>0</td>\n",
       "      <td>0</td>\n",
       "      <td>0</td>\n",
       "      <td>0</td>\n",
       "      <td>0</td>\n",
       "      <td>0</td>\n",
       "    </tr>\n",
       "    <tr>\n",
       "      <th>3</th>\n",
       "      <td>4</td>\n",
       "      <td>0</td>\n",
       "      <td>#model   i love u take with u all the time in ...</td>\n",
       "      <td>116</td>\n",
       "      <td>3</td>\n",
       "      <td>1</td>\n",
       "      <td>0</td>\n",
       "      <td>0</td>\n",
       "      <td>0</td>\n",
       "      <td>0</td>\n",
       "      <td>0</td>\n",
       "    </tr>\n",
       "    <tr>\n",
       "      <th>4</th>\n",
       "      <td>5</td>\n",
       "      <td>0</td>\n",
       "      <td>factsguide: society now    #motivation</td>\n",
       "      <td>38</td>\n",
       "      <td>0</td>\n",
       "      <td>1</td>\n",
       "      <td>0</td>\n",
       "      <td>0</td>\n",
       "      <td>0</td>\n",
       "      <td>0</td>\n",
       "      <td>0</td>\n",
       "    </tr>\n",
       "  </tbody>\n",
       "</table>\n",
       "</div>"
      ],
      "text/plain": [
       "   id  label                                              tweet  length  \\\n",
       "0   1      0  @user when a father is dysfunctional and is so...     101   \n",
       "1   2      0  @user @user thanks for #lyft credit i can't us...     122   \n",
       "2   3      0                                bihday your majesty      19   \n",
       "3   4      0  #model   i love u take with u all the time in ...     116   \n",
       "4   5      0             factsguide: society now    #motivation      38   \n",
       "\n",
       "   bang_count  hash_count  #trump  #politics  #allahsoil  #libtard  #liberal  \n",
       "0           0           1       0          0           0         0         0  \n",
       "1           0           3       0          0           0         0         0  \n",
       "2           0           0       0          0           0         0         0  \n",
       "3           3           1       0          0           0         0         0  \n",
       "4           0           1       0          0           0         0         0  "
      ]
     },
     "execution_count": 44,
     "metadata": {},
     "output_type": "execute_result"
    }
   ],
   "source": [
    "tweet_table.head()"
   ]
  },
  {
   "cell_type": "markdown",
   "metadata": {},
   "source": [
    "<div class=h1_cell>\n",
    "<p>\n",
    "Do a spot check on #libtard - did we pick up plurals? I am printing all the rows (2) that contain #libtards. I expect the value for the #libtard column to be 0 - we did not match #libtard with #libtards. If you see a 1 in the column, you have issues.\n",
    "<p>\n",
    "BTW: It seems to me the second row (27507) is a hate tweet but it is marked as non-hate. Go figure.\n",
    "</div>"
   ]
  },
  {
   "cell_type": "code",
   "execution_count": 45,
   "metadata": {},
   "outputs": [
    {
     "name": "stdout",
     "output_type": "stream",
     "text": [
      "id                                                        18191\n",
      "label                                                         1\n",
      "tweet         @user now you wanna mock my country b/c you ha...\n",
      "length                                                      120\n",
      "bang_count                                                    0\n",
      "hash_count                                                    1\n",
      "#trump                                                        0\n",
      "#politics                                                     0\n",
      "#allahsoil                                                    0\n",
      "#libtard                                                      0\n",
      "#liberal                                                      0\n",
      "Name: 18190, dtype: object\n",
      "id                                                        27507\n",
      "label                                                         0\n",
      "tweet         nimwit #libtards that embrace #crookedhillary ...\n",
      "length                                                       82\n",
      "bang_count                                                    0\n",
      "hash_count                                                    3\n",
      "#trump                                                        0\n",
      "#politics                                                     0\n",
      "#allahsoil                                                    0\n",
      "#libtard                                                      0\n",
      "#liberal                                                      0\n",
      "Name: 27506, dtype: object\n"
     ]
    }
   ],
   "source": [
    "for i,row in tweet_table.iterrows():\n",
    "    if '#libtards' in row['tweet']:\n",
    "        print(row)"
   ]
  },
  {
   "cell_type": "markdown",
   "metadata": {},
   "source": [
    "<h2>\n",
    "Challenge 5 - modify K-NN distance measure\n",
    "</h2>\n",
    "<div class=h1_cell>\n",
    "<p>\n",
    "We used Euclidean Distance in week 1. There is a more preferred measure for dealing with text analytics: cosine similarity. The general idea is that we view an n-vector as a line in n-space. Given 2 such vectors, we can determine their cosine similarity. This is from a (free!) online book that gives some good examples: https://nlp.stanford.edu/IR-book/pdf/06vect.pdf. We won't really need the cosine method until later but might as well start practicing with it now.\n",
    "<p>\n",
    "As a side note, for NLP problems there is often similarity between features. Maybe #trump and #libtard co-occur. In this case, we might want something slightly more complicated: the soft cosine measure (https://en.wikipedia.org/wiki/Cosine_similarity#Soft_cosine_measure). We may get back to this if time.\n",
    "<p>\n",
    "Implement the function please. I don't mind you pulling code off of the web but please refer to where you got it. And no libraries for this please. Want raw Python code.\n",
    "<p>\n",
    "<img src='https://www.dropbox.com/s/oi1ttx99hf0uejn/cosine.png?raw=1'>\n",
    "</div>"
   ]
  },
  {
   "cell_type": "code",
   "execution_count": 46,
   "metadata": {
    "collapsed": true
   },
   "outputs": [],
   "source": [
    "def cosine_similarity(v1,v2):\n"
   ]
  },
  {
   "cell_type": "code",
   "execution_count": 47,
   "metadata": {
    "collapsed": true
   },
   "outputs": [],
   "source": [
    "knn_features = ['length', 'bang_count','hash_count','#trump','#politics','#allahsoil','#libtard','#liberal']"
   ]
  },
  {
   "cell_type": "code",
   "execution_count": 48,
   "metadata": {
    "collapsed": true
   },
   "outputs": [],
   "source": [
    "vector0 = tweet_table.loc[0, knn_features]\n",
    "vector1 = tweet_table.loc[1, knn_features]"
   ]
  },
  {
   "cell_type": "code",
   "execution_count": 49,
   "metadata": {},
   "outputs": [
    {
     "data": {
      "text/plain": [
       "0.99989218403907965"
      ]
     },
     "execution_count": 49,
     "metadata": {},
     "output_type": "execute_result"
    }
   ],
   "source": [
    "cosine_similarity(vector0, vector1)"
   ]
  },
  {
   "cell_type": "code",
   "execution_count": 50,
   "metadata": {},
   "outputs": [
    {
     "data": {
      "text/plain": [
       "0.9999509888009116"
      ]
     },
     "execution_count": 50,
     "metadata": {},
     "output_type": "execute_result"
    }
   ],
   "source": [
    "vector2 = tweet_table.loc[2, knn_features]\n",
    "cosine_similarity(vector0, vector2)"
   ]
  },
  {
   "cell_type": "markdown",
   "metadata": {},
   "source": [
    "<div class=h1_cell>\n",
    "<p>\n",
    "Very similar. It kind of makes sense. We have a sparse matrix when looking just at the 5 hashtag columns. We will have to think a bit harder about this later.\n",
    "<p>\n",
    "</div>"
   ]
  },
  {
   "cell_type": "markdown",
   "metadata": {},
   "source": [
    "<h2>\n",
    "Challenge 6 - run K-NN on our data and see how we do\n",
    "</h2>\n",
    "<div class=h1_cell>\n",
    "<p>\n",
    "Let's try it out for row 0 as our target.\n",
    "</div>"
   ]
  },
  {
   "cell_type": "markdown",
   "metadata": {},
   "source": [
    "<div class=h1_cell>\n",
    "<p>\n",
    "Bring over your top_k function from week 1. If you did not finish it, email me and I'll send you my version. I modified top_k to add another parameter, the distance function to use. We have two at the moment: euclidean_distance and cosine_similarity.\n",
    "<p>\n",
    "Ditto for other week 1 functions - bring yours over or email me if you want me to send you my version.\n",
    "<p>\n",
    "To avoid copying answers from prior weeks, I decided to build my own private library to hold all my answers, e.g., euclidean_distance, knn_voting, etc. I placed it in my git folder and modified .gitignore to not push it to my github account. You might consider the same. You will have to import your library at top of notebook.\n",
    "</div>"
   ]
  },
  {
   "cell_type": "code",
   "execution_count": 52,
   "metadata": {
    "collapsed": true
   },
   "outputs": [],
   "source": [
    "def top_k(table, features, target_row_id, k, dfunc):\n"
   ]
  },
  {
   "cell_type": "markdown",
   "metadata": {},
   "source": [
    "<div class=h1_cell>\n",
    "<p>\n",
    "We are now working with 32K rows so I am going to start timing things.\n",
    "<p>\n",
    "Start with just checking row0.\n",
    "<p>\n",
    "</div>"
   ]
  },
  {
   "cell_type": "code",
   "execution_count": 53,
   "metadata": {},
   "outputs": [
    {
     "name": "stdout",
     "output_type": "stream",
     "text": [
      "54.5542709827\n"
     ]
    }
   ],
   "source": [
    "import time\n",
    "\n",
    "start = time.time()\n",
    "\n",
    "topk_rows = top_k(tweet_table, knn_features, 0, 5, cosine_similarity)  # passing in distance function\n",
    "    \n",
    "end = time.time()\n",
    "print(end - start)  # in seconds"
   ]
  },
  {
   "cell_type": "code",
   "execution_count": 54,
   "metadata": {},
   "outputs": [
    {
     "data": {
      "text/plain": [
       "[(23890, 0.90942990115121136),\n",
       " (12654, 0.91879725393709022),\n",
       " (9346, 0.94238155596738615),\n",
       " (22174, 0.95501732797268557),\n",
       " (24664, 0.95714778249236898)]"
      ]
     },
     "execution_count": 54,
     "metadata": {},
     "output_type": "execute_result"
    }
   ],
   "source": [
    "topk_rows"
   ]
  },
  {
   "cell_type": "code",
   "execution_count": 55,
   "metadata": {
    "collapsed": true
   },
   "outputs": [],
   "source": [
    "#bring over from week 1\n",
    "\n",
    "def knn_voting(table, target_column, topk_rows):\n"
   ]
  },
  {
   "cell_type": "code",
   "execution_count": 56,
   "metadata": {},
   "outputs": [
    {
     "data": {
      "text/plain": [
       "0"
      ]
     },
     "execution_count": 56,
     "metadata": {},
     "output_type": "execute_result"
    }
   ],
   "source": [
    "knn_voting(tweet_table, 'label', topk_rows)"
   ]
  },
  {
   "cell_type": "code",
   "execution_count": 57,
   "metadata": {},
   "outputs": [
    {
     "name": "stdout",
     "output_type": "stream",
     "text": [
      "0\n",
      "0\n",
      "0\n",
      "0\n",
      "0\n"
     ]
    }
   ],
   "source": [
    "for i,d in topk_rows:\n",
    "    actual = tweet_table.loc[i,'label']\n",
    "    print(actual)"
   ]
  },
  {
   "cell_type": "code",
   "execution_count": 58,
   "metadata": {},
   "outputs": [
    {
     "data": {
      "text/plain": [
       "0"
      ]
     },
     "execution_count": 58,
     "metadata": {},
     "output_type": "execute_result"
    }
   ],
   "source": [
    "tweet_table.loc[0, 'label']"
   ]
  },
  {
   "cell_type": "markdown",
   "metadata": {},
   "source": [
    "<h2>\n",
    "Now we have issues\n",
    "</h2>\n",
    "<div class=h1_cell>\n",
    "<p>\n",
    "I'd like to produce a confusion matrix just like we did for the Titanic. From above, I see that I took roughly a minute to compare the single row 0 to the other 32K rows. It appears to me that I will take roughly 32k minutes (533 hours) to do what I want. We are now bumping up against that O(n**2) that K-NN carries.\n",
    "<p>\n",
    "Here is what I propose. Let's take a random sample of a 500 rows from hater rows. Then take a random sample of 500 from non-hater rows. We will use this mixed table of 1000 to test on.\n",
    "<p>\n",
    "I am setting `random_state` to a constant so I get the same sequence of random numbers each time I run the code.\n",
    "<p>\n",
    "</div>"
   ]
  },
  {
   "cell_type": "code",
   "execution_count": 59,
   "metadata": {
    "collapsed": true
   },
   "outputs": [],
   "source": [
    "#Replace=False means I want 500 unique rows.\n",
    "\n",
    "hate500_table = tweet_table[(tweet_table['label'] == 1)].sample(n=500, replace=False, random_state=11)"
   ]
  },
  {
   "cell_type": "code",
   "execution_count": 60,
   "metadata": {
    "collapsed": true
   },
   "outputs": [],
   "source": [
    "\n",
    "nohate500_table = tweet_table[(tweet_table['label'] == 0)].sample(n=500, replace=False, random_state=11)"
   ]
  },
  {
   "cell_type": "code",
   "execution_count": 3,
   "metadata": {},
   "outputs": [
    {
     "ename": "NameError",
     "evalue": "name 'pd' is not defined",
     "output_type": "error",
     "traceback": [
      "\u001b[0;31m---------------------------------------------------------------------------\u001b[0m",
      "\u001b[0;31mNameError\u001b[0m                                 Traceback (most recent call last)",
      "\u001b[0;32m<ipython-input-3-db63e0d31b10>\u001b[0m in \u001b[0;36m<module>\u001b[0;34m()\u001b[0m\n\u001b[0;32m----> 1\u001b[0;31m \u001b[0mtest_table\u001b[0m \u001b[0;34m=\u001b[0m \u001b[0mpd\u001b[0m\u001b[0;34m.\u001b[0m\u001b[0mconcat\u001b[0m\u001b[0;34m(\u001b[0m\u001b[0;34m[\u001b[0m\u001b[0mhate500_table\u001b[0m\u001b[0;34m,\u001b[0m \u001b[0mnohate500_table\u001b[0m \u001b[0;34m]\u001b[0m\u001b[0;34m)\u001b[0m\u001b[0;34m\u001b[0m\u001b[0m\n\u001b[0m",
      "\u001b[0;31mNameError\u001b[0m: name 'pd' is not defined"
     ]
    }
   ],
   "source": [
    "test_table = pd.concat([hate500_table, nohate500_table ])"
   ]
  },
  {
   "cell_type": "code",
   "execution_count": 62,
   "metadata": {},
   "outputs": [
    {
     "data": {
      "text/html": [
       "<div>\n",
       "<style>\n",
       "    .dataframe thead tr:only-child th {\n",
       "        text-align: right;\n",
       "    }\n",
       "\n",
       "    .dataframe thead th {\n",
       "        text-align: left;\n",
       "    }\n",
       "\n",
       "    .dataframe tbody tr th {\n",
       "        vertical-align: top;\n",
       "    }\n",
       "</style>\n",
       "<table border=\"1\" class=\"dataframe\">\n",
       "  <thead>\n",
       "    <tr style=\"text-align: right;\">\n",
       "      <th></th>\n",
       "      <th>id</th>\n",
       "      <th>label</th>\n",
       "      <th>length</th>\n",
       "      <th>bang_count</th>\n",
       "      <th>hash_count</th>\n",
       "      <th>#trump</th>\n",
       "      <th>#politics</th>\n",
       "      <th>#allahsoil</th>\n",
       "      <th>#libtard</th>\n",
       "      <th>#liberal</th>\n",
       "    </tr>\n",
       "  </thead>\n",
       "  <tbody>\n",
       "    <tr>\n",
       "      <th>count</th>\n",
       "      <td>1000.000000</td>\n",
       "      <td>1000.00000</td>\n",
       "      <td>1000.000000</td>\n",
       "      <td>1000.000000</td>\n",
       "      <td>1000.000000</td>\n",
       "      <td>1000.000000</td>\n",
       "      <td>1000.00000</td>\n",
       "      <td>1000.000000</td>\n",
       "      <td>1000.000000</td>\n",
       "      <td>1000.000000</td>\n",
       "    </tr>\n",
       "    <tr>\n",
       "      <th>mean</th>\n",
       "      <td>15757.168000</td>\n",
       "      <td>0.50000</td>\n",
       "      <td>89.456000</td>\n",
       "      <td>0.420000</td>\n",
       "      <td>2.135000</td>\n",
       "      <td>0.026000</td>\n",
       "      <td>0.02000</td>\n",
       "      <td>0.018000</td>\n",
       "      <td>0.019000</td>\n",
       "      <td>0.017000</td>\n",
       "    </tr>\n",
       "    <tr>\n",
       "      <th>std</th>\n",
       "      <td>9273.944705</td>\n",
       "      <td>0.50025</td>\n",
       "      <td>30.777871</td>\n",
       "      <td>0.980082</td>\n",
       "      <td>2.236465</td>\n",
       "      <td>0.159215</td>\n",
       "      <td>0.14007</td>\n",
       "      <td>0.133018</td>\n",
       "      <td>0.136593</td>\n",
       "      <td>0.129336</td>\n",
       "    </tr>\n",
       "    <tr>\n",
       "      <th>min</th>\n",
       "      <td>18.000000</td>\n",
       "      <td>0.00000</td>\n",
       "      <td>14.000000</td>\n",
       "      <td>0.000000</td>\n",
       "      <td>0.000000</td>\n",
       "      <td>0.000000</td>\n",
       "      <td>0.00000</td>\n",
       "      <td>0.000000</td>\n",
       "      <td>0.000000</td>\n",
       "      <td>0.000000</td>\n",
       "    </tr>\n",
       "    <tr>\n",
       "      <th>25%</th>\n",
       "      <td>7633.500000</td>\n",
       "      <td>0.00000</td>\n",
       "      <td>66.000000</td>\n",
       "      <td>0.000000</td>\n",
       "      <td>0.000000</td>\n",
       "      <td>0.000000</td>\n",
       "      <td>0.00000</td>\n",
       "      <td>0.000000</td>\n",
       "      <td>0.000000</td>\n",
       "      <td>0.000000</td>\n",
       "    </tr>\n",
       "    <tr>\n",
       "      <th>50%</th>\n",
       "      <td>15855.500000</td>\n",
       "      <td>0.50000</td>\n",
       "      <td>95.000000</td>\n",
       "      <td>0.000000</td>\n",
       "      <td>2.000000</td>\n",
       "      <td>0.000000</td>\n",
       "      <td>0.00000</td>\n",
       "      <td>0.000000</td>\n",
       "      <td>0.000000</td>\n",
       "      <td>0.000000</td>\n",
       "    </tr>\n",
       "    <tr>\n",
       "      <th>75%</th>\n",
       "      <td>23845.750000</td>\n",
       "      <td>1.00000</td>\n",
       "      <td>112.000000</td>\n",
       "      <td>0.000000</td>\n",
       "      <td>3.000000</td>\n",
       "      <td>0.000000</td>\n",
       "      <td>0.00000</td>\n",
       "      <td>0.000000</td>\n",
       "      <td>0.000000</td>\n",
       "      <td>0.000000</td>\n",
       "    </tr>\n",
       "    <tr>\n",
       "      <th>max</th>\n",
       "      <td>31949.000000</td>\n",
       "      <td>1.00000</td>\n",
       "      <td>231.000000</td>\n",
       "      <td>8.000000</td>\n",
       "      <td>13.000000</td>\n",
       "      <td>1.000000</td>\n",
       "      <td>1.00000</td>\n",
       "      <td>1.000000</td>\n",
       "      <td>1.000000</td>\n",
       "      <td>1.000000</td>\n",
       "    </tr>\n",
       "  </tbody>\n",
       "</table>\n",
       "</div>"
      ],
      "text/plain": [
       "                 id       label       length   bang_count   hash_count  \\\n",
       "count   1000.000000  1000.00000  1000.000000  1000.000000  1000.000000   \n",
       "mean   15757.168000     0.50000    89.456000     0.420000     2.135000   \n",
       "std     9273.944705     0.50025    30.777871     0.980082     2.236465   \n",
       "min       18.000000     0.00000    14.000000     0.000000     0.000000   \n",
       "25%     7633.500000     0.00000    66.000000     0.000000     0.000000   \n",
       "50%    15855.500000     0.50000    95.000000     0.000000     2.000000   \n",
       "75%    23845.750000     1.00000   112.000000     0.000000     3.000000   \n",
       "max    31949.000000     1.00000   231.000000     8.000000    13.000000   \n",
       "\n",
       "            #trump   #politics   #allahsoil     #libtard     #liberal  \n",
       "count  1000.000000  1000.00000  1000.000000  1000.000000  1000.000000  \n",
       "mean      0.026000     0.02000     0.018000     0.019000     0.017000  \n",
       "std       0.159215     0.14007     0.133018     0.136593     0.129336  \n",
       "min       0.000000     0.00000     0.000000     0.000000     0.000000  \n",
       "25%       0.000000     0.00000     0.000000     0.000000     0.000000  \n",
       "50%       0.000000     0.00000     0.000000     0.000000     0.000000  \n",
       "75%       0.000000     0.00000     0.000000     0.000000     0.000000  \n",
       "max       1.000000     1.00000     1.000000     1.000000     1.000000  "
      ]
     },
     "execution_count": 62,
     "metadata": {},
     "output_type": "execute_result"
    }
   ],
   "source": [
    "test_table.describe()"
   ]
  },
  {
   "cell_type": "code",
   "execution_count": 63,
   "metadata": {},
   "outputs": [
    {
     "data": {
      "text/html": [
       "<div>\n",
       "<style>\n",
       "    .dataframe thead tr:only-child th {\n",
       "        text-align: right;\n",
       "    }\n",
       "\n",
       "    .dataframe thead th {\n",
       "        text-align: left;\n",
       "    }\n",
       "\n",
       "    .dataframe tbody tr th {\n",
       "        vertical-align: top;\n",
       "    }\n",
       "</style>\n",
       "<table border=\"1\" class=\"dataframe\">\n",
       "  <thead>\n",
       "    <tr style=\"text-align: right;\">\n",
       "      <th></th>\n",
       "      <th>id</th>\n",
       "      <th>label</th>\n",
       "      <th>tweet</th>\n",
       "      <th>length</th>\n",
       "      <th>bang_count</th>\n",
       "      <th>hash_count</th>\n",
       "      <th>#trump</th>\n",
       "      <th>#politics</th>\n",
       "      <th>#allahsoil</th>\n",
       "      <th>#libtard</th>\n",
       "      <th>#liberal</th>\n",
       "    </tr>\n",
       "  </thead>\n",
       "  <tbody>\n",
       "    <tr>\n",
       "      <th>7441</th>\n",
       "      <td>7442</td>\n",
       "      <td>1</td>\n",
       "      <td>@user just asking....oh and of course black pe...</td>\n",
       "      <td>122</td>\n",
       "      <td>0</td>\n",
       "      <td>0</td>\n",
       "      <td>0</td>\n",
       "      <td>0</td>\n",
       "      <td>0</td>\n",
       "      <td>0</td>\n",
       "      <td>0</td>\n",
       "    </tr>\n",
       "    <tr>\n",
       "      <th>25442</th>\n",
       "      <td>25443</td>\n",
       "      <td>1</td>\n",
       "      <td>@user #allahsoil âwe the peopleâ originall...</td>\n",
       "      <td>123</td>\n",
       "      <td>0</td>\n",
       "      <td>1</td>\n",
       "      <td>0</td>\n",
       "      <td>0</td>\n",
       "      <td>1</td>\n",
       "      <td>0</td>\n",
       "      <td>0</td>\n",
       "    </tr>\n",
       "    <tr>\n",
       "      <th>22958</th>\n",
       "      <td>22959</td>\n",
       "      <td>1</td>\n",
       "      <td>i won't waste my time on some  sob that has to...</td>\n",
       "      <td>129</td>\n",
       "      <td>0</td>\n",
       "      <td>0</td>\n",
       "      <td>0</td>\n",
       "      <td>0</td>\n",
       "      <td>0</td>\n",
       "      <td>0</td>\n",
       "      <td>0</td>\n",
       "    </tr>\n",
       "    <tr>\n",
       "      <th>25008</th>\n",
       "      <td>25009</td>\n",
       "      <td>1</td>\n",
       "      <td>@user @user your iconic brand being associated...</td>\n",
       "      <td>98</td>\n",
       "      <td>0</td>\n",
       "      <td>0</td>\n",
       "      <td>0</td>\n",
       "      <td>0</td>\n",
       "      <td>0</td>\n",
       "      <td>0</td>\n",
       "      <td>0</td>\n",
       "    </tr>\n",
       "    <tr>\n",
       "      <th>21956</th>\n",
       "      <td>21957</td>\n",
       "      <td>1</td>\n",
       "      <td>@user what do you think of #alexjones saying #...</td>\n",
       "      <td>124</td>\n",
       "      <td>0</td>\n",
       "      <td>3</td>\n",
       "      <td>0</td>\n",
       "      <td>0</td>\n",
       "      <td>0</td>\n",
       "      <td>0</td>\n",
       "      <td>0</td>\n",
       "    </tr>\n",
       "  </tbody>\n",
       "</table>\n",
       "</div>"
      ],
      "text/plain": [
       "          id  label                                              tweet  \\\n",
       "7441    7442      1  @user just asking....oh and of course black pe...   \n",
       "25442  25443      1  @user #allahsoil âwe the peopleâ originall...   \n",
       "22958  22959      1  i won't waste my time on some  sob that has to...   \n",
       "25008  25009      1  @user @user your iconic brand being associated...   \n",
       "21956  21957      1  @user what do you think of #alexjones saying #...   \n",
       "\n",
       "       length  bang_count  hash_count  #trump  #politics  #allahsoil  \\\n",
       "7441      122           0           0       0          0           0   \n",
       "25442     123           0           1       0          0           1   \n",
       "22958     129           0           0       0          0           0   \n",
       "25008      98           0           0       0          0           0   \n",
       "21956     124           0           3       0          0           0   \n",
       "\n",
       "       #libtard  #liberal  \n",
       "7441          0         0  \n",
       "25442         0         0  \n",
       "22958         0         0  \n",
       "25008         0         0  \n",
       "21956         0         0  "
      ]
     },
     "execution_count": 63,
     "metadata": {},
     "output_type": "execute_result"
    }
   ],
   "source": [
    "test_table.head()"
   ]
  },
  {
   "cell_type": "markdown",
   "metadata": {},
   "source": [
    "<h2>\n",
    "Indices are kind of screwy\n",
    "</h2>\n",
    "<div class=h1_cell>\n",
    "<p>\n",
    "I'd like to have indices going from 0 - 999. What I have now are the indices from the original tweet_table. I can call the `reset_index` method to do what I want. It also has the side effect of placing the old indices under a new column it builds: Index. Could come in handy later.\n",
    "\n",
    "</div>"
   ]
  },
  {
   "cell_type": "code",
   "execution_count": 2,
   "metadata": {},
   "outputs": [
    {
     "ename": "NameError",
     "evalue": "name 'test_table' is not defined",
     "output_type": "error",
     "traceback": [
      "\u001b[0;31m---------------------------------------------------------------------------\u001b[0m",
      "\u001b[0;31mNameError\u001b[0m                                 Traceback (most recent call last)",
      "\u001b[0;32m<ipython-input-2-1c92760af27f>\u001b[0m in \u001b[0;36m<module>\u001b[0;34m()\u001b[0m\n\u001b[0;32m----> 1\u001b[0;31m \u001b[0mtest_table\u001b[0m \u001b[0;34m=\u001b[0m \u001b[0mtest_table\u001b[0m\u001b[0;34m.\u001b[0m\u001b[0mreset_index\u001b[0m\u001b[0;34m(\u001b[0m\u001b[0;34m)\u001b[0m\u001b[0;34m\u001b[0m\u001b[0m\n\u001b[0m\u001b[1;32m      2\u001b[0m \u001b[0mtest_table\u001b[0m\u001b[0;34m.\u001b[0m\u001b[0mhead\u001b[0m\u001b[0;34m(\u001b[0m\u001b[0;34m)\u001b[0m\u001b[0;34m\u001b[0m\u001b[0m\n",
      "\u001b[0;31mNameError\u001b[0m: name 'test_table' is not defined"
     ]
    }
   ],
   "source": [
    "test_table = test_table.reset_index()\n",
    "test_table.head()"
   ]
  },
  {
   "cell_type": "markdown",
   "metadata": {},
   "source": [
    "<h2>\n",
    "Ok, here goes\n",
    "</h2>\n",
    "<div class=h1_cell>\n",
    "<p>\n",
    "Give yourself something to do for 30 minutes or so while the code chugs.\n",
    "\n",
    "</div>"
   ]
  },
  {
   "cell_type": "code",
   "execution_count": 65,
   "metadata": {},
   "outputs": [
    {
     "name": "stdout",
     "output_type": "stream",
     "text": [
      "did 100\n",
      "did 100\n",
      "did 100\n",
      "did 100\n",
      "did 100\n",
      "did 100\n",
      "did 100\n",
      "did 100\n",
      "did 100\n",
      "did 100\n",
      "1740.6418612\n"
     ]
    }
   ],
   "source": [
    "start = time.time()\n",
    "\n",
    "predictions = []\n",
    "for i,row in test_table.iterrows():\n",
    "    if i%100 == 0: print('did 100')\n",
    "    top5 = top_k(test_table, knn_features, i, 5, cosine_similarity)\n",
    "    predictions.append(knn_voting(test_table, 'label', top5))\n",
    "    \n",
    "end = time.time()\n",
    "print(end - start)  # in seconds"
   ]
  },
  {
   "cell_type": "markdown",
   "metadata": {},
   "source": [
    "<h2>\n",
    "Whew, have some results\n",
    "</h2>\n",
    "<div class=h1_cell>\n",
    "<p>\n",
    "Took me roughly 30 minutes for the 1000 row table. Roughly 1.7 seconds/row.\n",
    "<p>Let's see how we did.\n",
    "</div>"
   ]
  },
  {
   "cell_type": "code",
   "execution_count": 66,
   "metadata": {
    "collapsed": true
   },
   "outputs": [],
   "source": [
    "actuals = test_table['label']  #easy peasy to pull a column out of a table\n",
    "zipped = zip(predictions,actuals)"
   ]
  },
  {
   "cell_type": "code",
   "execution_count": 67,
   "metadata": {},
   "outputs": [
    {
     "data": {
      "text/plain": [
       "{(0, 0): 493, (0, 1): 499, (1, 0): 7, (1, 1): 1}"
      ]
     },
     "execution_count": 67,
     "metadata": {},
     "output_type": "execute_result"
    }
   ],
   "source": [
    "confusion_dictionary = {(1,1):0, (1,0):0, (0,1):0, (0,0):0}\n",
    "for pair in zipped:\n",
    "    confusion_dictionary[pair] += 1\n",
    "confusion_dictionary"
   ]
  },
  {
   "cell_type": "code",
   "execution_count": 68,
   "metadata": {},
   "outputs": [
    {
     "data": {
      "text/plain": [
       "0.494"
      ]
     },
     "execution_count": 68,
     "metadata": {},
     "output_type": "execute_result"
    }
   ],
   "source": [
    "(493+1)/1000."
   ]
  },
  {
   "cell_type": "markdown",
   "metadata": {},
   "source": [
    "<h2>\n",
    "Uh, that's kind of bad\n",
    "</h2>\n",
    "<div class=h1_cell>\n",
    "<p>\n",
    "We would have done better with a coin flip. Lot's of reasons why our results are poor. In the next module, I'd like to look at a modeling technique that is often better suited to text analytics problem. See you there.\n",
    "</div>"
   ]
  },
  {
   "cell_type": "markdown",
   "metadata": {},
   "source": [
    "<h2>\n",
    "Write the table\n",
    "</h2>\n",
    "<div class=h1_cell>\n",
    "<p>\n",
    "Before you leave, write the tweet_table out to file. We did a lot of wrangling on it so let's save what we have done.\n",
    "</div>"
   ]
  },
  {
   "cell_type": "code",
   "execution_count": 69,
   "metadata": {
    "collapsed": true
   },
   "outputs": [],
   "source": [
    "week = '2' # change this each version\n",
    "\n",
    "home_path =  os.path.expanduser('~')\n",
    "\n",
    "file_path = '/Dropbox/cis399_ds2_w18/table_history/'  #use your own path\n",
    "\n",
    "file_name = 'tweet_table_w'+week+'.csv'\n",
    "\n",
    "tweet_table.to_csv(home_path + file_path + file_name, index=False)"
   ]
  },
  {
   "cell_type": "code",
   "execution_count": null,
   "metadata": {
    "collapsed": true
   },
   "outputs": [],
   "source": []
  }
 ],
 "metadata": {
  "kernelspec": {
   "display_name": "Python 2",
   "language": "python",
   "name": "python2"
  },
  "language_info": {
   "codemirror_mode": {
    "name": "ipython",
    "version": 2
   },
   "file_extension": ".py",
   "mimetype": "text/x-python",
   "name": "python",
   "nbconvert_exporter": "python",
   "pygments_lexer": "ipython2",
   "version": "2.7.14"
  }
 },
 "nbformat": 4,
 "nbformat_minor": 2
}
