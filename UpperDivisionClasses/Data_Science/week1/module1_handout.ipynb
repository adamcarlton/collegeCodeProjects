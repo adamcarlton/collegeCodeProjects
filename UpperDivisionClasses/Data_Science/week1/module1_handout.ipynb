{
 "cells": [
  {
   "cell_type": "code",
   "execution_count": 1,
   "metadata": {},
   "outputs": [
    {
     "data": {
      "text/html": [
       "<style>\n",
       ".h1_cell, .just_text {\n",
       "    box-sizing: border-box;\n",
       "    padding-top:5px;\n",
       "    padding-bottom:5px;\n",
       "    font-family: \"Times New Roman\", Georgia, Serif;\n",
       "    font-size: 125%;\n",
       "    line-height: 22px; /* 5px +12px + 5px */\n",
       "    text-indent: 25px;\n",
       "    background-color: #fbfbea;\n",
       "    padding: 10px;\n",
       "    border-style: groove;\n",
       "}\n",
       "\n",
       "hr { \n",
       "    display: block;\n",
       "    margin-top: 0.5em;\n",
       "    margin-bottom: 0.5em;\n",
       "    margin-left: auto;\n",
       "    margin-right: auto;\n",
       "    border-style: inset;\n",
       "    border-width: 2px;\n",
       "}\n",
       "</style>"
      ],
      "text/plain": [
       "<IPython.core.display.HTML object>"
      ]
     },
     "metadata": {},
     "output_type": "display_data"
    }
   ],
   "source": [
    "%%html\n",
    "<style>\n",
    ".h1_cell, .just_text {\n",
    "    box-sizing: border-box;\n",
    "    padding-top:5px;\n",
    "    padding-bottom:5px;\n",
    "    font-family: \"Times New Roman\", Georgia, Serif;\n",
    "    font-size: 125%;\n",
    "    line-height: 22px; /* 5px +12px + 5px */\n",
    "    text-indent: 25px;\n",
    "    background-color: #fbfbea;\n",
    "    padding: 10px;\n",
    "    border-style: groove;\n",
    "}\n",
    "\n",
    "hr { \n",
    "    display: block;\n",
    "    margin-top: 0.5em;\n",
    "    margin-bottom: 0.5em;\n",
    "    margin-left: auto;\n",
    "    margin-right: auto;\n",
    "    border-style: inset;\n",
    "    border-width: 2px;\n",
    "}\n",
    "</style>"
   ]
  },
  {
   "cell_type": "markdown",
   "metadata": {},
   "source": [
    "<h1>\n",
    "<center>\n",
    "Module 1: Assignment\n",
    "</center>\n",
    "</h1>\n",
    "<div class=h1_cell>\n",
    "\n",
    "<p>In this assignment, I'll ask you to do a bit more data wrangling (AKA feature engineering) and to help implement K-NN.\n",
    "<p>\n",
    "</div>"
   ]
  },
  {
   "cell_type": "markdown",
   "metadata": {},
   "source": [
    "<hr>\n",
    "<h1>\n",
    "Set up\n",
    "</h1>\n",
    "<div class=h1_cell>\n",
    "<p>\n",
    "Let's get organized. We need to read the data in. And we need to import any libraries we need.\n",
    "<p>\n",
    "The first step is to get the data. You can see I am reading from a file. We wrote this file as part of the content notebook this week.\n",
    "<p>\n",
    "FYI: When the Python kernel is grinding away on a cell, you will see a `*` where the number normally appears. The execution of the cell below for me takes a couple seconds. If it remains a `*` for a minute, you have issues. Try restarting the kernel (see the Kernel tab above).\n",
    "</div>"
   ]
  },
  {
   "cell_type": "code",
   "execution_count": 12,
   "metadata": {},
   "outputs": [],
   "source": [
    "import pandas as pd\n",
    "import os\n",
    "\n",
    "week = '1a'\n",
    "\n",
    "home_path =  os.path.expanduser('~')\n",
    "\n",
    "file_path = '/Documents/CIS/UpperDiv/CIS_399/week1/'\n",
    "\n",
    "file_name = 'titanic_table_w'+week+'.csv'\n",
    "\n",
    "titanic_table = pd.read_csv(home_path + file_path + file_name)"
   ]
  },
  {
   "cell_type": "code",
   "execution_count": 13,
   "metadata": {},
   "outputs": [
    {
     "data": {
      "text/html": [
       "<div>\n",
       "<style scoped>\n",
       "    .dataframe tbody tr th:only-of-type {\n",
       "        vertical-align: middle;\n",
       "    }\n",
       "\n",
       "    .dataframe tbody tr th {\n",
       "        vertical-align: top;\n",
       "    }\n",
       "\n",
       "    .dataframe thead th {\n",
       "        text-align: right;\n",
       "    }\n",
       "</style>\n",
       "<table border=\"1\" class=\"dataframe\">\n",
       "  <thead>\n",
       "    <tr style=\"text-align: right;\">\n",
       "      <th></th>\n",
       "      <th>Survived</th>\n",
       "      <th>Name</th>\n",
       "      <th>Length</th>\n",
       "    </tr>\n",
       "  </thead>\n",
       "  <tbody>\n",
       "    <tr>\n",
       "      <th>0</th>\n",
       "      <td>0</td>\n",
       "      <td>Braund, Mr. Owen Harris</td>\n",
       "      <td>23</td>\n",
       "    </tr>\n",
       "  </tbody>\n",
       "</table>\n",
       "</div>"
      ],
      "text/plain": [
       "   Survived                     Name  Length\n",
       "0         0  Braund, Mr. Owen Harris      23"
      ]
     },
     "execution_count": 13,
     "metadata": {},
     "output_type": "execute_result"
    }
   ],
   "source": [
    "titanic_table.head(1)"
   ]
  },
  {
   "cell_type": "markdown",
   "metadata": {},
   "source": [
    "<hr>\n",
    "<h2>\n",
    "Importing libraries\n",
    "</h2>\n",
    "<div class=h1_cell>\n",
    "<p>\n",
    "We went over this in content notebook but as reminder: we want to bring in libraries that have useful functions we write during the quarter. For now, `week0` and `week1` just have silly functions so you can test your git set-up.\n",
    "</div>"
   ]
  },
  {
   "cell_type": "code",
   "execution_count": 14,
   "metadata": {},
   "outputs": [
    {
     "data": {
      "text/plain": [
       "'/Users/tex'"
      ]
     },
     "execution_count": 14,
     "metadata": {},
     "output_type": "execute_result"
    }
   ],
   "source": [
    "import os\n",
    "home_path =  os.path.expanduser('~')\n",
    "home_path"
   ]
  },
  {
   "cell_type": "code",
   "execution_count": 5,
   "metadata": {},
   "outputs": [
    {
     "name": "stdout",
     "output_type": "stream",
     "text": [
      "Already up to date.\r\n"
     ]
    }
   ],
   "source": [
    "library_folder = '/Documents/CIS/UpperDiv/CIS_399/datascience_2'\n",
    "os.chdir(home_path + library_folder)\n",
    "!git pull"
   ]
  },
  {
   "cell_type": "code",
   "execution_count": 15,
   "metadata": {},
   "outputs": [
    {
     "name": "stdout",
     "output_type": "stream",
     "text": [
      "do_nothing\t foo\t python_version\t \n"
     ]
    }
   ],
   "source": [
    "#load the lbirary from content this week\n",
    "\n",
    "import sys\n",
    "sys.path.append(home_path + library_folder)\n",
    "from week1 import *\n",
    "%who function"
   ]
  },
  {
   "cell_type": "code",
   "execution_count": 16,
   "metadata": {},
   "outputs": [
    {
     "data": {
      "text/plain": [
       "'2.7'"
      ]
     },
     "execution_count": 16,
     "metadata": {},
     "output_type": "execute_result"
    }
   ],
   "source": [
    "python_version()  # just checking"
   ]
  },
  {
   "cell_type": "code",
   "execution_count": 17,
   "metadata": {},
   "outputs": [],
   "source": [
    "#I am setting the option to see all the columns of our table as we build it, i.e., it has no max.\n",
    "pd.set_option('display.max_columns', None)"
   ]
  },
  {
   "cell_type": "code",
   "execution_count": 18,
   "metadata": {},
   "outputs": [
    {
     "data": {
      "text/html": [
       "<div>\n",
       "<style scoped>\n",
       "    .dataframe tbody tr th:only-of-type {\n",
       "        vertical-align: middle;\n",
       "    }\n",
       "\n",
       "    .dataframe tbody tr th {\n",
       "        vertical-align: top;\n",
       "    }\n",
       "\n",
       "    .dataframe thead th {\n",
       "        text-align: right;\n",
       "    }\n",
       "</style>\n",
       "<table border=\"1\" class=\"dataframe\">\n",
       "  <thead>\n",
       "    <tr style=\"text-align: right;\">\n",
       "      <th></th>\n",
       "      <th>Survived</th>\n",
       "      <th>Name</th>\n",
       "      <th>Length</th>\n",
       "    </tr>\n",
       "  </thead>\n",
       "  <tbody>\n",
       "    <tr>\n",
       "      <th>0</th>\n",
       "      <td>0</td>\n",
       "      <td>Braund, Mr. Owen Harris</td>\n",
       "      <td>23</td>\n",
       "    </tr>\n",
       "    <tr>\n",
       "      <th>1</th>\n",
       "      <td>1</td>\n",
       "      <td>Cumings, Mrs. John Bradley (Florence Briggs Th...</td>\n",
       "      <td>51</td>\n",
       "    </tr>\n",
       "    <tr>\n",
       "      <th>2</th>\n",
       "      <td>1</td>\n",
       "      <td>Heikkinen, Miss. Laina</td>\n",
       "      <td>22</td>\n",
       "    </tr>\n",
       "    <tr>\n",
       "      <th>3</th>\n",
       "      <td>1</td>\n",
       "      <td>Futrelle, Mrs. Jacques Heath (Lily May Peel)</td>\n",
       "      <td>44</td>\n",
       "    </tr>\n",
       "    <tr>\n",
       "      <th>4</th>\n",
       "      <td>0</td>\n",
       "      <td>Allen, Mr. William Henry</td>\n",
       "      <td>24</td>\n",
       "    </tr>\n",
       "  </tbody>\n",
       "</table>\n",
       "</div>"
      ],
      "text/plain": [
       "   Survived                                               Name  Length\n",
       "0         0                            Braund, Mr. Owen Harris      23\n",
       "1         1  Cumings, Mrs. John Bradley (Florence Briggs Th...      51\n",
       "2         1                             Heikkinen, Miss. Laina      22\n",
       "3         1       Futrelle, Mrs. Jacques Heath (Lily May Peel)      44\n",
       "4         0                           Allen, Mr. William Henry      24"
      ]
     },
     "execution_count": 18,
     "metadata": {},
     "output_type": "execute_result"
    }
   ],
   "source": [
    "titanic_table.head()"
   ]
  },
  {
   "cell_type": "markdown",
   "metadata": {
    "collapsed": true
   },
   "source": [
    "<hr>\n",
    "<h1>\n",
    "Challenge 1: bag of chars\n",
    "</h1>\n",
    "<div class=h1_cell>\n",
    "<p>\n",
    "We have the Length column to use as a feature in K-NN. But it looks a little lonely. Let's add some more features. We will see a technique called bag-of-words in a future module. The general idea is to collect together all the words you see in a set of documents and give each a unique integer id. Then build a table with the columns labeled with the word ids and the rows the documents. To fill cell table[d][w], you count how many times word w appears in document d. If you have a lot of documents, you are going to have a lot of unique words, e.g., in the thousands. That's a lot of columns! With pandas, no problem.\n",
    "<p>\n",
    "In this challenge, I want you to try bag-of-characters (I just made that name up - I might trademark it). I want 26 new columns, one for each letter. For the text in each row['Name'], I want a count of how many times each letter appears in the name. You cold do this the tedious way and have 26 separate pieces of code. What I want to see is a loop that does it for you.\n",
    "<p>\n",
    "Please wrangle the Name string into lowercase. I think this is an iffy decision. It may be that uppercase letters carry information. Normalizing to lowercase washes that information out. It would really be no problem to have 52 new columns for upper and lower case. Or even add columns for punctuation. Adding columns is cheap and easy. But we will use lowercase for now.\n",
    "<p>\n",
    "To remind you of what we did in content notebook:\n",
    "<pre>\n",
    "<code>\n",
    "titanic_table['Length'] = titanic_table.apply(lambda row: len(row['Name']), axis=1)\n",
    "</code>\n",
    "</pre>\n",
    "<p>\n",
    "What you need to do is do the same for 26 new columns. You will have to do something other than taking the length. And please use a loop.\n",
    "</div>"
   ]
  },
  {
   "cell_type": "code",
   "execution_count": 29,
   "metadata": {},
   "outputs": [
    {
     "data": {
      "text/html": [
       "<div>\n",
       "<style scoped>\n",
       "    .dataframe tbody tr th:only-of-type {\n",
       "        vertical-align: middle;\n",
       "    }\n",
       "\n",
       "    .dataframe tbody tr th {\n",
       "        vertical-align: top;\n",
       "    }\n",
       "\n",
       "    .dataframe thead th {\n",
       "        text-align: right;\n",
       "    }\n",
       "</style>\n",
       "<table border=\"1\" class=\"dataframe\">\n",
       "  <thead>\n",
       "    <tr style=\"text-align: right;\">\n",
       "      <th></th>\n",
       "      <th>Survived</th>\n",
       "      <th>Name</th>\n",
       "      <th>Length</th>\n",
       "      <th>a</th>\n",
       "      <th>b</th>\n",
       "      <th>c</th>\n",
       "      <th>d</th>\n",
       "      <th>e</th>\n",
       "      <th>f</th>\n",
       "      <th>g</th>\n",
       "      <th>h</th>\n",
       "      <th>i</th>\n",
       "      <th>j</th>\n",
       "      <th>k</th>\n",
       "      <th>l</th>\n",
       "      <th>m</th>\n",
       "      <th>n</th>\n",
       "      <th>o</th>\n",
       "      <th>p</th>\n",
       "      <th>q</th>\n",
       "      <th>r</th>\n",
       "      <th>s</th>\n",
       "      <th>t</th>\n",
       "      <th>u</th>\n",
       "      <th>v</th>\n",
       "      <th>w</th>\n",
       "      <th>x</th>\n",
       "      <th>y</th>\n",
       "      <th>z</th>\n",
       "    </tr>\n",
       "  </thead>\n",
       "  <tbody>\n",
       "    <tr>\n",
       "      <th>0</th>\n",
       "      <td>0</td>\n",
       "      <td>Braund, Mr. Owen Harris</td>\n",
       "      <td>23</td>\n",
       "      <td>2</td>\n",
       "      <td>1</td>\n",
       "      <td>0</td>\n",
       "      <td>1</td>\n",
       "      <td>1</td>\n",
       "      <td>0</td>\n",
       "      <td>0</td>\n",
       "      <td>1</td>\n",
       "      <td>1</td>\n",
       "      <td>0</td>\n",
       "      <td>0</td>\n",
       "      <td>0</td>\n",
       "      <td>1</td>\n",
       "      <td>2</td>\n",
       "      <td>1</td>\n",
       "      <td>0</td>\n",
       "      <td>0</td>\n",
       "      <td>4</td>\n",
       "      <td>1</td>\n",
       "      <td>0</td>\n",
       "      <td>1</td>\n",
       "      <td>0</td>\n",
       "      <td>1</td>\n",
       "      <td>0</td>\n",
       "      <td>0</td>\n",
       "      <td>0</td>\n",
       "    </tr>\n",
       "    <tr>\n",
       "      <th>1</th>\n",
       "      <td>1</td>\n",
       "      <td>Cumings, Mrs. John Bradley (Florence Briggs Th...</td>\n",
       "      <td>51</td>\n",
       "      <td>2</td>\n",
       "      <td>2</td>\n",
       "      <td>2</td>\n",
       "      <td>1</td>\n",
       "      <td>4</td>\n",
       "      <td>1</td>\n",
       "      <td>3</td>\n",
       "      <td>2</td>\n",
       "      <td>2</td>\n",
       "      <td>1</td>\n",
       "      <td>0</td>\n",
       "      <td>2</td>\n",
       "      <td>2</td>\n",
       "      <td>3</td>\n",
       "      <td>2</td>\n",
       "      <td>0</td>\n",
       "      <td>0</td>\n",
       "      <td>5</td>\n",
       "      <td>3</td>\n",
       "      <td>1</td>\n",
       "      <td>1</td>\n",
       "      <td>0</td>\n",
       "      <td>0</td>\n",
       "      <td>0</td>\n",
       "      <td>2</td>\n",
       "      <td>0</td>\n",
       "    </tr>\n",
       "    <tr>\n",
       "      <th>2</th>\n",
       "      <td>1</td>\n",
       "      <td>Heikkinen, Miss. Laina</td>\n",
       "      <td>22</td>\n",
       "      <td>2</td>\n",
       "      <td>0</td>\n",
       "      <td>0</td>\n",
       "      <td>0</td>\n",
       "      <td>2</td>\n",
       "      <td>0</td>\n",
       "      <td>0</td>\n",
       "      <td>1</td>\n",
       "      <td>4</td>\n",
       "      <td>0</td>\n",
       "      <td>2</td>\n",
       "      <td>1</td>\n",
       "      <td>1</td>\n",
       "      <td>3</td>\n",
       "      <td>0</td>\n",
       "      <td>0</td>\n",
       "      <td>0</td>\n",
       "      <td>0</td>\n",
       "      <td>2</td>\n",
       "      <td>0</td>\n",
       "      <td>0</td>\n",
       "      <td>0</td>\n",
       "      <td>0</td>\n",
       "      <td>0</td>\n",
       "      <td>0</td>\n",
       "      <td>0</td>\n",
       "    </tr>\n",
       "    <tr>\n",
       "      <th>3</th>\n",
       "      <td>1</td>\n",
       "      <td>Futrelle, Mrs. Jacques Heath (Lily May Peel)</td>\n",
       "      <td>44</td>\n",
       "      <td>3</td>\n",
       "      <td>0</td>\n",
       "      <td>1</td>\n",
       "      <td>0</td>\n",
       "      <td>6</td>\n",
       "      <td>1</td>\n",
       "      <td>0</td>\n",
       "      <td>2</td>\n",
       "      <td>1</td>\n",
       "      <td>1</td>\n",
       "      <td>0</td>\n",
       "      <td>5</td>\n",
       "      <td>2</td>\n",
       "      <td>0</td>\n",
       "      <td>0</td>\n",
       "      <td>1</td>\n",
       "      <td>1</td>\n",
       "      <td>2</td>\n",
       "      <td>2</td>\n",
       "      <td>2</td>\n",
       "      <td>2</td>\n",
       "      <td>0</td>\n",
       "      <td>0</td>\n",
       "      <td>0</td>\n",
       "      <td>2</td>\n",
       "      <td>0</td>\n",
       "    </tr>\n",
       "    <tr>\n",
       "      <th>4</th>\n",
       "      <td>0</td>\n",
       "      <td>Allen, Mr. William Henry</td>\n",
       "      <td>24</td>\n",
       "      <td>2</td>\n",
       "      <td>0</td>\n",
       "      <td>0</td>\n",
       "      <td>0</td>\n",
       "      <td>2</td>\n",
       "      <td>0</td>\n",
       "      <td>0</td>\n",
       "      <td>1</td>\n",
       "      <td>2</td>\n",
       "      <td>0</td>\n",
       "      <td>0</td>\n",
       "      <td>4</td>\n",
       "      <td>2</td>\n",
       "      <td>2</td>\n",
       "      <td>0</td>\n",
       "      <td>0</td>\n",
       "      <td>0</td>\n",
       "      <td>2</td>\n",
       "      <td>0</td>\n",
       "      <td>0</td>\n",
       "      <td>0</td>\n",
       "      <td>0</td>\n",
       "      <td>1</td>\n",
       "      <td>0</td>\n",
       "      <td>1</td>\n",
       "      <td>0</td>\n",
       "    </tr>\n",
       "  </tbody>\n",
       "</table>\n",
       "</div>"
      ],
      "text/plain": [
       "   Survived                                               Name  Length  a  b  \\\n",
       "0         0                            Braund, Mr. Owen Harris      23  2  1   \n",
       "1         1  Cumings, Mrs. John Bradley (Florence Briggs Th...      51  2  2   \n",
       "2         1                             Heikkinen, Miss. Laina      22  2  0   \n",
       "3         1       Futrelle, Mrs. Jacques Heath (Lily May Peel)      44  3  0   \n",
       "4         0                           Allen, Mr. William Henry      24  2  0   \n",
       "\n",
       "   c  d  e  f  g  h  i  j  k  l  m  n  o  p  q  r  s  t  u  v  w  x  y  z  \n",
       "0  0  1  1  0  0  1  1  0  0  0  1  2  1  0  0  4  1  0  1  0  1  0  0  0  \n",
       "1  2  1  4  1  3  2  2  1  0  2  2  3  2  0  0  5  3  1  1  0  0  0  2  0  \n",
       "2  0  0  2  0  0  1  4  0  2  1  1  3  0  0  0  0  2  0  0  0  0  0  0  0  \n",
       "3  1  0  6  1  0  2  1  1  0  5  2  0  0  1  1  2  2  2  2  0  0  0  2  0  \n",
       "4  0  0  2  0  0  1  2  0  0  4  2  2  0  0  0  2  0  0  0  0  1  0  1  0  "
      ]
     },
     "execution_count": 29,
     "metadata": {},
     "output_type": "execute_result"
    }
   ],
   "source": [
    "alphabet = list('abcdefghijklmnopqrstuvwxyz')\n",
    "for letter in alphabet:\n",
    "    titanic_table[letter] = titanic_table.apply(lambda row: row['Name'].lower().count(letter), axis=1)\n",
    "\n",
    "titanic_table.head()"
   ]
  },
  {
   "cell_type": "markdown",
   "metadata": {},
   "source": [
    "<div class=h1_cell>\n",
    "<p>\n",
    "If your values don't match mine, make sure you are searching on the lowercase version of the name.\n",
    "</div>"
   ]
  },
  {
   "cell_type": "markdown",
   "metadata": {},
   "source": [
    "<h2>Challenge 2</h2>\n",
    "<p>\n",
    "<div class=h1_cell>\n",
    "<p>\n",
    "Let's try K-NN using our 27 new columns. The big picture is we will use those 27 columns as features in a classifier. We are trying to classify whether a person survived or not. I realize that we know already if they survived. But that is a good thing. We can pretend like we do not know, make a prediction, and then check if we were correct. We can grade ourselves in this way. I'll guide you through it.\n",
    "<p>\n",
    "But first, what the heck is K-NN? Well, first it is a machine learning algorithm. You can use it to predict that value of a target column. It's pretty sweet because it does not require any prior training. I tend to view it as crowd-sourcing. You treat the entire table as your crowd. Each row is a potential expert you want to solicit info from. Let's take an example. Let's say I want to predict the value of Survived for row 0. My crowd is rows 1 through 890. I want to find the experts in that crowd and have them convene to come up with a prediction for row 0 Survived. How many experts should I consult? K - the value of K is how many consultants. So 5-NN says use 5 top experts from the crowd. How do I find the K best? There are a number of ways to define best. We are going to use Euclidean Distance for now but will change in future. We treat each row as a vector of values. Staying with row 0, I'll first check the Euclidean Distance from row 0 and row 1. I'll record that some place for later. Then I'll try row 0 and row 2, again recording for later. The last step is to compare row 0 and row 890 and recording. I now have 890 recorded distances from row 0. I find the 5 rows with the smallest distance. Those are my experts!\n",
    "<p>\n",
    "How do the K experts decide among themselves? Simple voting. They each look in their own Survived column and vote accordingly. Majority wins. Let's go through it. I'll give you steps 1 and 2.\n",
    "</div>"
   ]
  },
  {
   "cell_type": "markdown",
   "metadata": {},
   "source": [
    "<h2>Step 1: need a list of features</h2>\n",
    "<p>\n",
    "<div class=h1_cell>\n",
    "With K-NN, we can choose which features we will use to compute distance. In our case, I want all the features other than Survived and Name. I'll put the features into a list knn_features.\n",
    "</div>"
   ]
  },
  {
   "cell_type": "code",
   "execution_count": 30,
   "metadata": {},
   "outputs": [
    {
     "data": {
      "text/plain": [
       "['a',\n",
       " 'b',\n",
       " 'c',\n",
       " 'd',\n",
       " 'e',\n",
       " 'f',\n",
       " 'g',\n",
       " 'h',\n",
       " 'i',\n",
       " 'j',\n",
       " 'k',\n",
       " 'l',\n",
       " 'm',\n",
       " 'n',\n",
       " 'o',\n",
       " 'p',\n",
       " 'q',\n",
       " 'r',\n",
       " 's',\n",
       " 't',\n",
       " 'u',\n",
       " 'v',\n",
       " 'w',\n",
       " 'x',\n",
       " 'y',\n",
       " 'z',\n",
       " 'Length']"
      ]
     },
     "execution_count": 30,
     "metadata": {},
     "output_type": "execute_result"
    }
   ],
   "source": [
    "knn_features = list('abcdefghijklmnopqrstuvwxyz') + ['Length']\n",
    "knn_features"
   ]
  },
  {
   "cell_type": "markdown",
   "metadata": {},
   "source": [
    "<h2>Step 2: Convert row to vector</h2>\n",
    "<p>\n",
    "<div class=h1_cell>\n",
    "What I would like is a list of values from a row that is the vector we will use to compute Euclidean distance. But I only want that vector to contain values from my 27 features. Let's practice on row 0. We will pretend we want to predict the value of Survived for row 0.\n",
    "<p>\n",
    "BTW: there is some new syntax here: the loc method. With loc, you can first list the row index (0 in our case) and then the list of columns you want from that row. Nice.\n",
    "</div>"
   ]
  },
  {
   "cell_type": "code",
   "execution_count": 56,
   "metadata": {},
   "outputs": [
    {
     "data": {
      "text/plain": [
       "a          2\n",
       "b          1\n",
       "c          0\n",
       "d          1\n",
       "e          1\n",
       "f          0\n",
       "g          0\n",
       "h          1\n",
       "i          1\n",
       "j          0\n",
       "k          0\n",
       "l          0\n",
       "m          1\n",
       "n          2\n",
       "o          1\n",
       "p          0\n",
       "q          0\n",
       "r          4\n",
       "s          1\n",
       "t          0\n",
       "u          1\n",
       "v          0\n",
       "w          1\n",
       "x          0\n",
       "y          0\n",
       "z          0\n",
       "Length    23\n",
       "Name: 0, dtype: object"
      ]
     },
     "execution_count": 56,
     "metadata": {},
     "output_type": "execute_result"
    }
   ],
   "source": [
    "vector0 = titanic_table.loc[0, knn_features] # will only capture our features in row 0.\n",
    "vector0"
   ]
  },
  {
   "cell_type": "markdown",
   "metadata": {},
   "source": [
    "\n",
    "<h2>We now have a pandas series</h2>\n",
    "<p>\n",
    "<div class=h1_cell>\n",
    "\n",
    "vector0 is an instance of a pandas Series, which are kind of interesting. You can treat a series as a dictionary. You can treat a  series as a list. Let's check it out.\n",
    "</div>"
   ]
  },
  {
   "cell_type": "code",
   "execution_count": 13,
   "metadata": {},
   "outputs": [
    {
     "name": "stdout",
     "output_type": "stream",
     "text": [
      "<class 'pandas.core.series.Series'>\n",
      "23\n",
      "23\n"
     ]
    }
   ],
   "source": [
    "print(type(vector0))  # pandas.series\n",
    "\n",
    "print(vector0['Length'])  # treat it like a dictionary\n",
    "\n",
    "print(vector0[-1])  # treat it like a list\n"
   ]
  },
  {
   "cell_type": "markdown",
   "metadata": {},
   "source": [
    "\n",
    "<h2>Step 3. Build a Euclidean Distance function</h2>\n",
    "<p>\n",
    "<div class=h1_cell>\n",
    "<p>\n",
    "Here you go. You can view vector0 as p. We can build another vector q to test out your function. In essence, you will hold p steady and compare it against 890 values for q.\n",
    "<p>\n",
    "<img src='https://www.dropbox.com/s/9wao0kf3u32i3e9/euclidian.png?raw=1'>\n",
    "</div>"
   ]
  },
  {
   "cell_type": "code",
   "execution_count": 57,
   "metadata": {},
   "outputs": [],
   "source": [
    "import math\n",
    "def euclidean_distance(p,q):\n",
    "    distance = 0\n",
    "    for i in range(0, 27):\n",
    "        distance += pow(q[i] - p[i], 2)\n",
    "    return math.sqrt(distance)"
   ]
  },
  {
   "cell_type": "markdown",
   "metadata": {},
   "source": [
    "<div class=just_text>\n",
    "Let's test it by building another vector and trying it out.\n",
    "</div>"
   ]
  },
  {
   "cell_type": "code",
   "execution_count": 58,
   "metadata": {},
   "outputs": [
    {
     "data": {
      "text/plain": [
       "28.792360097775937"
      ]
     },
     "execution_count": 58,
     "metadata": {},
     "output_type": "execute_result"
    }
   ],
   "source": [
    "vector1 = titanic_table.loc[1, knn_features] # will only capture our features in row 1.\n",
    "\n",
    "euclidean_distance(vector0, vector1)"
   ]
  },
  {
   "cell_type": "markdown",
   "metadata": {},
   "source": [
    "<h2>Step 4. Find the k best rows</h2>\n",
    "<p>\n",
    "<div class=h1_cell>\n",
    "We want to predict the Survived value for row 0. Our approach will be to find the k closest rows to row 0. By closest, I mean smallest euclidean distance. I am going to ask you to write a function top_k that will return a list of tuples that are the k closest. Each tuple has the form (row_index, distance). I'll do a couple of examples by hand below.\n",
    "</div>"
   ]
  },
  {
   "cell_type": "code",
   "execution_count": 59,
   "metadata": {},
   "outputs": [
    {
     "data": {
      "text/plain": [
       "[(1, 28.792360097775937)]"
      ]
     },
     "execution_count": 59,
     "metadata": {},
     "output_type": "execute_result"
    }
   ],
   "source": [
    "all_distances = []\n",
    "\n",
    "all_distances.append((1, 28.792360097775937)) # I already found the distance between rows 0 and 1\n",
    "\n",
    "all_distances"
   ]
  },
  {
   "cell_type": "code",
   "execution_count": 60,
   "metadata": {},
   "outputs": [
    {
     "data": {
      "text/plain": [
       "[(1, 28.792360097775937), (2, 6.244997998398398)]"
      ]
     },
     "execution_count": 60,
     "metadata": {},
     "output_type": "execute_result"
    }
   ],
   "source": [
    "vector2 = titanic_table.loc[2, knn_features]\n",
    "all_distances.append((2, euclidean_distance(vector0, vector2)))\n",
    "all_distances"
   ]
  },
  {
   "cell_type": "markdown",
   "metadata": {},
   "source": [
    "<div class=h1_cell>\n",
    "Wow. row 2 was a lot closer!\n",
    "</div>"
   ]
  },
  {
   "cell_type": "code",
   "execution_count": 61,
   "metadata": {},
   "outputs": [
    {
     "data": {
      "text/plain": [
       "[(1, 28.792360097775937), (2, 6.244997998398398), (3, 22.825424421026653)]"
      ]
     },
     "execution_count": 61,
     "metadata": {},
     "output_type": "execute_result"
    }
   ],
   "source": [
    "vector3 = titanic_table.loc[3, knn_features]\n",
    "all_distances.append((3, euclidean_distance(vector0, vector3)))\n",
    "\n",
    "all_distances"
   ]
  },
  {
   "cell_type": "markdown",
   "metadata": {},
   "source": [
    "<div class=just_text>\n",
    "What your top_k function has to do is fill out the all_distances list with 890 tuples.\n",
    "<p>\n",
    "What then? I'll tell you my approach. I sorted all_distances then sliced off k. That is what I returned.\n",
    "<p>\n",
    "Here is the signature line of top_k."
   ]
  },
  {
   "cell_type": "code",
   "execution_count": 153,
   "metadata": {},
   "outputs": [],
   "source": [
    "def top_k(table, features, target_row_id, k):\n",
    "    all_Distances = []\n",
    "    targetVector = titanic_table.loc[target_row_id, knn_features]\n",
    "    for i in range(len(table)): \n",
    "        all_Distances.append((i, euclidean_distance(targetVector, titanic_table.loc[i, knn_features])))\n",
    "    \n",
    "    all_Distances.sort(key = lambda x: x[1])\n",
    "    return all_Distances[1:k+1] ##when normalizing a vector with itself it will give 0, so start at index 1 and go to k + 1                "
   ]
  },
  {
   "cell_type": "markdown",
   "metadata": {},
   "source": [
    "<div class=just_text>\n",
    "Let's test it out on a couple rows.\n",
    "<p>\n",
    "We can start with row 0. Out of the rows 1 to 890, we want the 5 closest to row 0\n",
    "</div>"
   ]
  },
  {
   "cell_type": "code",
   "execution_count": 154,
   "metadata": {},
   "outputs": [
    {
     "data": {
      "text/plain": [
       "[(477, 3.1622776601683795),\n",
       " (482, 3.1622776601683795),\n",
       " (804, 3.1622776601683795),\n",
       " (806, 3.1622776601683795),\n",
       " (75, 3.4641016151377544)]"
      ]
     },
     "execution_count": 154,
     "metadata": {},
     "output_type": "execute_result"
    }
   ],
   "source": [
    "top_for_0 = top_k(titanic_table, knn_features, 0, 5)\n",
    "top_for_0"
   ]
  },
  {
   "cell_type": "markdown",
   "metadata": {},
   "source": [
    "<h2>We have our top 5 rows</h2>\n",
    "<p>\n",
    "<div class=h1_cell>\n",
    "\n",
    "Looks like rows 477, 482, 804, 806 and 75 are the 5 closest. Let's try it for row 1; pretend we want to predict Survived for row 1. So I want to check row 1 against row 0 and rows 2 - 890.\n",
    "</div>"
   ]
  },
  {
   "cell_type": "code",
   "execution_count": 90,
   "metadata": {
    "scrolled": true
   },
   "outputs": [
    {
     "data": {
      "text/plain": [
       "[(8, 5.291502622129181),\n",
       " (518, 5.5677643628300215),\n",
       " (871, 5.5677643628300215),\n",
       " (600, 5.656854249492381),\n",
       " (820, 5.656854249492381)]"
      ]
     },
     "execution_count": 90,
     "metadata": {},
     "output_type": "execute_result"
    }
   ],
   "source": [
    "top_for_1 = top_k(titanic_table, knn_features, 1, 5)\n",
    "top_for_1"
   ]
  },
  {
   "cell_type": "markdown",
   "metadata": {},
   "source": [
    "<h2>Step 5. Do voting</h2>\n",
    "<p>\n",
    "<div class=h1_cell>\n",
    "Once I have my list of top k, I can do voting. What I want is the value each consultant (row) has for Survived, the column we are trying to classify. Majority wins. If k is even, ties are possible. I'll assume that ties go to 0 (somewhat arbitrarily pessimistic). I'll start you out.\n",
    "</div>"
   ]
  },
  {
   "cell_type": "code",
   "execution_count": 148,
   "metadata": {},
   "outputs": [],
   "source": [
    "def knn_voting(table, target_column, topk_rows):\n",
    "    countWithZero = 0\n",
    "    countWithOne = 0\n",
    "    for firstItem, secondItem in topk_rows:\n",
    "        if table.loc[firstItem, target_column] == 0:\n",
    "            countWithZero+=1\n",
    "        else:\n",
    "            countWithOne+=1\n",
    "    if countWithZero == countWithOne:\n",
    "        return 0\n",
    "    \n",
    "    return 0 if countWithZero > countWithOne else 1"
   ]
  },
  {
   "cell_type": "code",
   "execution_count": 146,
   "metadata": {},
   "outputs": [
    {
     "data": {
      "text/plain": [
       "0"
      ]
     },
     "execution_count": 146,
     "metadata": {},
     "output_type": "execute_result"
    }
   ],
   "source": [
    "knn_voting(titanic_table, 'Survived', top_for_0)"
   ]
  },
  {
   "cell_type": "markdown",
   "metadata": {},
   "source": [
    "\n",
    "<div class=h1_cell>\n",
    "<p>\n",
    "Let's verify that answer.\n",
    "</div>"
   ]
  },
  {
   "cell_type": "code",
   "execution_count": 147,
   "metadata": {},
   "outputs": [
    {
     "name": "stdout",
     "output_type": "stream",
     "text": [
      "0\n",
      "0\n",
      "1\n",
      "0\n",
      "0\n"
     ]
    }
   ],
   "source": [
    "for i,d in top_for_0:\n",
    "    actual = titanic_table.loc[i,'Survived']\n",
    "    print(actual)"
   ]
  },
  {
   "cell_type": "markdown",
   "metadata": {},
   "source": [
    "\n",
    "<div class=h1_cell>\n",
    "<p>\n",
    "Looks ok. We have four 0 votes and only one 1 vote.\n",
    "</div>"
   ]
  },
  {
   "cell_type": "markdown",
   "metadata": {},
   "source": [
    "<h2>Challenge 3</h2>\n",
    "<p>\n",
    "<div class=h1_cell>\n",
    "<p>\n",
    "We are on the home stretch. What is left is to check out how well K-NN is working on classification. What we can do is produce predictions for all the rows. Then grab the actual values for all the rows. Zip them up and create a confusion matrix.\n",
    "<p>\n",
    "About computing the predictions for all rows. If you think a bit about this, the process could be slow. Looks to me like an `O(n**2)` algorithm. I'll time my version so you can compare to yours. My time: around 15 minutes, is on a relatively slow machine. But you can see the problem with `O(n**2)` algorithms!\n",
    "<p>\n",
    "Before jumping directly into using the whole table, try things out on the first 50 rows. Should be speedier.\n",
    "</div>"
   ]
  },
  {
   "cell_type": "code",
   "execution_count": 155,
   "metadata": {},
   "outputs": [
    {
     "name": "stdout",
     "output_type": "stream",
     "text": [
      "did 10\n",
      "did 10\n",
      "did 10\n",
      "did 10\n",
      "did 10\n",
      "4.96756505966\n"
     ]
    }
   ],
   "source": [
    "sliced_table = titanic_table[:50]  #you can use slice operation to get specific rows\n",
    "\n",
    "import time\n",
    "\n",
    "start = time.time()\n",
    "\n",
    "predictions = []\n",
    "for i,row in sliced_table.iterrows():\n",
    "    if i%10 == 0: print('did 10')\n",
    "    top5 = top_k(sliced_table, knn_features, i, 5)\n",
    "    predictions.append(knn_voting(sliced_table, 'Survived', top5))\n",
    "    \n",
    "end = time.time()\n",
    "print(end - start)  # in seconds"
   ]
  },
  {
   "cell_type": "code",
   "execution_count": 156,
   "metadata": {},
   "outputs": [
    {
     "name": "stdout",
     "output_type": "stream",
     "text": [
      "[0, 0, 1, 1, 0, 0, 0, 0, 1, 0, 0, 0, 1, 0, 1, 1, 0, 1, 1, 1, 0, 0, 0, 0, 0, 0, 0, 1, 1, 0, 0, 1, 0, 0, 0, 0, 0, 0, 1, 1, 1, 1, 0, 0, 0, 0, 0, 1, 0, 1]\n"
     ]
    }
   ],
   "source": [
    "print(predictions)"
   ]
  },
  {
   "cell_type": "markdown",
   "metadata": {},
   "source": [
    "<div class=h1_cell>\n",
    "If you are matching my predictions, you are ready to step up to the big enchilada.\n",
    "</div>"
   ]
  },
  {
   "cell_type": "code",
   "execution_count": 157,
   "metadata": {},
   "outputs": [
    {
     "name": "stdout",
     "output_type": "stream",
     "text": [
      "did 20\n",
      "did 20\n",
      "did 20\n",
      "did 20\n",
      "did 20\n",
      "did 20\n",
      "did 20\n",
      "did 20\n",
      "did 20\n",
      "did 20\n",
      "did 20\n",
      "did 20\n",
      "did 20\n",
      "did 20\n",
      "did 20\n",
      "did 20\n",
      "did 20\n",
      "did 20\n",
      "did 20\n",
      "did 20\n",
      "did 20\n",
      "did 20\n",
      "did 20\n",
      "did 20\n",
      "did 20\n",
      "did 20\n",
      "did 20\n",
      "did 20\n",
      "did 20\n",
      "did 20\n",
      "did 20\n",
      "did 20\n",
      "did 20\n",
      "did 20\n",
      "did 20\n",
      "did 20\n",
      "did 20\n",
      "did 20\n",
      "did 20\n",
      "did 20\n",
      "did 20\n",
      "did 20\n",
      "did 20\n",
      "did 20\n",
      "did 20\n",
      "1287.50506186\n"
     ]
    }
   ],
   "source": [
    "import time\n",
    "\n",
    "start = time.time()\n",
    "\n",
    "predictions = []\n",
    "for i,row in titanic_table.iterrows():\n",
    "    if i%20 == 0: print('did 20')\n",
    "    top5 = top_k(titanic_table, knn_features, i, 5)\n",
    "    predictions.append(knn_voting(titanic_table, 'Survived', top5))\n",
    "    \n",
    "end = time.time()\n",
    "print(end - start)  # in seconds"
   ]
  },
  {
   "cell_type": "markdown",
   "metadata": {},
   "source": [
    "<div class=h1_cell>\n",
    "<p>\n",
    "Whew. That took a little while.\n",
    "<p>\n",
    "The next piece is a lot easier - pull out the values from the Survived column. Then zip things up.\n",
    "<p>\n",
    "But before moving on, it is interesting to speculate on how to speed K-NN up. One idea might be to cache all distances. Something like a dictionary where key is a pair of row indices and value is distance, e.g., {(0,1): 28.792360097775937, ...}. We know that dictionary lookup is fast in Python. Another idea is to eliminate the non-experts. After we run through all rows, find the rows who are never in the top K. Out of all 891 rows, they never were close enough to vote. Put them on a skip-list and don't consult them in future. You can probably think of other ways.\n",
    "</div>"
   ]
  },
  {
   "cell_type": "code",
   "execution_count": 158,
   "metadata": {},
   "outputs": [
    {
     "data": {
      "text/plain": [
       "[(0, 0), (1, 1), (1, 1), (1, 1), (0, 0)]"
      ]
     },
     "execution_count": 158,
     "metadata": {},
     "output_type": "execute_result"
    }
   ],
   "source": [
    "actuals = titanic_table['Survived']  #easy peasy to pull a column out of a table\n",
    "\n",
    "zipped = zip(predictions,actuals)\n",
    "\n",
    "zipped[:5]"
   ]
  },
  {
   "cell_type": "markdown",
   "metadata": {},
   "source": [
    "<div class=h1_cell>\n",
    "<p>\n",
    "If you think about it, there are 4 cases in zipped: (0,0), (0,1), (1,0), (1,1). Let's package them up in a dictionary.\n",
    "<p>\n",
    "FYI: I always find it kind of cool that Python allows you great freedom in what you use as keys in a dictionary.\n",
    "</div>"
   ]
  },
  {
   "cell_type": "code",
   "execution_count": 159,
   "metadata": {},
   "outputs": [
    {
     "data": {
      "text/plain": [
       "{(0, 0): 447, (0, 1): 176, (1, 0): 102, (1, 1): 166}"
      ]
     },
     "execution_count": 159,
     "metadata": {},
     "output_type": "execute_result"
    }
   ],
   "source": [
    "confusion_dictionary = {(1,1):0, (1,0):0, (0,1):0, (0,0):0}\n",
    "for pair in zipped:\n",
    "    confusion_dictionary[pair] += 1\n",
    "confusion_dictionary"
   ]
  },
  {
   "cell_type": "markdown",
   "metadata": {},
   "source": [
    "<div class=h1_cell>\n",
    "<p>\n",
    "You can align  our dictionary with the confusion matrix below. (1,0) is false positive, etc. Once you have the 4 values, you can compute a lot of interesting measures.\n",
    "<p>\n",
    "<img src='https://www.dropbox.com/s/zubecbzi8zsdzgg/confusion_matrix.png?raw=1'>\n",
    "<p>\n",
    "</div>"
   ]
  },
  {
   "cell_type": "markdown",
   "metadata": {},
   "source": [
    "<h2>Compute measures</h2>\n",
    "<p>\n",
    "<div class=h1_cell>\n",
    "<p>\n",
    "Let's try our hand at computing some of the measures in the confusion matrix.\n",
    "<p>\n",
    "First, it will make typing simpler if we pull out the 4 core vvalues from the confusion_matrix.\n",
    "<p>\n",
    "Remember that division in 2.7 defaults to int division unless numerator and/or denominator is a float. So `1/2 == 0` whereas `1.0/2 == .5`. \n",
    "</div>"
   ]
  },
  {
   "cell_type": "code",
   "execution_count": 164,
   "metadata": {},
   "outputs": [
    {
     "data": {
      "text/plain": [
       "{(0, 0): 447, (0, 1): 176, (1, 0): 102, (1, 1): 166}"
      ]
     },
     "execution_count": 164,
     "metadata": {},
     "output_type": "execute_result"
    }
   ],
   "source": [
    "confusion_dictionary"
   ]
  },
  {
   "cell_type": "code",
   "execution_count": 166,
   "metadata": {},
   "outputs": [],
   "source": [
    "tp = 166.0\n",
    "fp = 102.0\n",
    "fn = 176.0\n",
    "tn = 447.0"
   ]
  },
  {
   "cell_type": "markdown",
   "metadata": {},
   "source": [
    "<h3>Recall (AKA Sensitivity)</h3>\n"
   ]
  },
  {
   "cell_type": "code",
   "execution_count": 168,
   "metadata": {},
   "outputs": [
    {
     "data": {
      "text/plain": [
       "0.4853801169590643"
      ]
     },
     "execution_count": 168,
     "metadata": {},
     "output_type": "execute_result"
    }
   ],
   "source": [
    "recall = tp / (tp + fn)\n",
    "\n",
    "recall"
   ]
  },
  {
   "cell_type": "markdown",
   "metadata": {},
   "source": [
    "<h3>Fall-out</h3>"
   ]
  },
  {
   "cell_type": "code",
   "execution_count": 170,
   "metadata": {},
   "outputs": [
    {
     "data": {
      "text/plain": [
       "0.18579234972677597"
      ]
     },
     "execution_count": 170,
     "metadata": {},
     "output_type": "execute_result"
    }
   ],
   "source": [
    "fall_out = fp / (fp + tn)\n",
    "\n",
    "fall_out"
   ]
  },
  {
   "cell_type": "markdown",
   "metadata": {},
   "source": [
    "<h3>Precision</h3>"
   ]
  },
  {
   "cell_type": "code",
   "execution_count": 171,
   "metadata": {},
   "outputs": [
    {
     "data": {
      "text/plain": [
       "0.6194029850746269"
      ]
     },
     "execution_count": 171,
     "metadata": {},
     "output_type": "execute_result"
    }
   ],
   "source": [
    "precision = tp / (tp + fp)\n",
    "\n",
    "precision"
   ]
  },
  {
   "cell_type": "markdown",
   "metadata": {},
   "source": [
    "<h3>F1</h3>"
   ]
  },
  {
   "cell_type": "code",
   "execution_count": 172,
   "metadata": {},
   "outputs": [
    {
     "data": {
      "text/plain": [
       "0.5442622950819671"
      ]
     },
     "execution_count": 172,
     "metadata": {},
     "output_type": "execute_result"
    }
   ],
   "source": [
    "f1 = 2.0 / ((1.0 / recall) + (1.0 / precision))\n",
    "\n",
    "f1"
   ]
  },
  {
   "cell_type": "markdown",
   "metadata": {},
   "source": [
    "<h3>Accuracy</h3>"
   ]
  },
  {
   "cell_type": "code",
   "execution_count": 175,
   "metadata": {},
   "outputs": [
    {
     "data": {
      "text/plain": [
       "0.6879910213243546"
      ]
     },
     "execution_count": 175,
     "metadata": {},
     "output_type": "execute_result"
    }
   ],
   "source": [
    "accuracy = (tn + tp) / 891.0\n",
    "\n",
    "accuracy"
   ]
  },
  {
   "cell_type": "markdown",
   "metadata": {},
   "source": [
    "<h1>Kind of shocking</h1>\n",
    "<p>\n",
    "<div class=h1_cell>\n",
    "<p>\n",
    "If we just predicted a 0 for every row, we would get to .63 accuracy. So we are doing better than the mode. \n",
    "Not sure what to say. Maybe there is something in Numerology.\n",
    "</div>"
   ]
  },
  {
   "cell_type": "markdown",
   "metadata": {},
   "source": [
    "<h1>Let's Summarize</h1>\n",
    "<p>\n",
    "<div class=h1_cell>\n",
    "<p>\n",
    "We have learned that we can use text in classification/prediction problems. We used names, but we could have also used tweets, articles or entire books. It's all text. We will see this in future modules.\n",
    "<p>\n",
    "We learned that we can break out text into smaller chunks and use those chunks as columns. We used characters but later we will use words.\n",
    "<p>\n",
    "We learned that K-NN has some good features -- it requires no training and is fairly straightforward -- and bad features -- it is slow.\n",
    "<p>\n",
    "Our next big goal is to classify fake news in tweets (1 if fake, 0 if real). We will look at how to break out pieces of a tweet.\n",
    "</div>"
   ]
  },
  {
   "cell_type": "markdown",
   "metadata": {},
   "source": [
    "<h1>Saving your work</h1>\n",
    "<p>\n",
    "<div class=h1_cell>\n",
    "<p>\n",
    "Let's save the wrangled table.\n",
    "<p>\n",
    "</div>"
   ]
  },
  {
   "cell_type": "code",
   "execution_count": 173,
   "metadata": {},
   "outputs": [],
   "source": [
    "import os\n",
    "\n",
    "week = '1b'\n",
    "\n",
    "home_path =  os.path.expanduser('~')\n",
    "\n",
    "file_path = '/Documents/CIS/UpperDiv/CIS_399/week1/'\n",
    "\n",
    "file_name = 'titanic_table_w'+week+'.csv'\n",
    "\n",
    "titanic_table.to_csv(home_path + file_path + file_name, index=False)"
   ]
  },
  {
   "cell_type": "markdown",
   "metadata": {},
   "source": [
    "\n",
    "<h1>Read it back in</h1>\n",
    "<p>\n",
    "<div class=h1_cell>\n",
    "<p>\n",
    "\n",
    "Read it back in just to make sure of round-trip\n",
    "</div>"
   ]
  },
  {
   "cell_type": "code",
   "execution_count": 174,
   "metadata": {},
   "outputs": [
    {
     "data": {
      "text/html": [
       "<div>\n",
       "<style scoped>\n",
       "    .dataframe tbody tr th:only-of-type {\n",
       "        vertical-align: middle;\n",
       "    }\n",
       "\n",
       "    .dataframe tbody tr th {\n",
       "        vertical-align: top;\n",
       "    }\n",
       "\n",
       "    .dataframe thead th {\n",
       "        text-align: right;\n",
       "    }\n",
       "</style>\n",
       "<table border=\"1\" class=\"dataframe\">\n",
       "  <thead>\n",
       "    <tr style=\"text-align: right;\">\n",
       "      <th></th>\n",
       "      <th>Survived</th>\n",
       "      <th>Name</th>\n",
       "      <th>Length</th>\n",
       "      <th>a</th>\n",
       "      <th>b</th>\n",
       "      <th>c</th>\n",
       "      <th>d</th>\n",
       "      <th>e</th>\n",
       "      <th>f</th>\n",
       "      <th>g</th>\n",
       "      <th>h</th>\n",
       "      <th>i</th>\n",
       "      <th>j</th>\n",
       "      <th>k</th>\n",
       "      <th>l</th>\n",
       "      <th>m</th>\n",
       "      <th>n</th>\n",
       "      <th>o</th>\n",
       "      <th>p</th>\n",
       "      <th>q</th>\n",
       "      <th>r</th>\n",
       "      <th>s</th>\n",
       "      <th>t</th>\n",
       "      <th>u</th>\n",
       "      <th>v</th>\n",
       "      <th>w</th>\n",
       "      <th>x</th>\n",
       "      <th>y</th>\n",
       "      <th>z</th>\n",
       "    </tr>\n",
       "  </thead>\n",
       "  <tbody>\n",
       "    <tr>\n",
       "      <th>0</th>\n",
       "      <td>0</td>\n",
       "      <td>Braund, Mr. Owen Harris</td>\n",
       "      <td>23</td>\n",
       "      <td>2</td>\n",
       "      <td>1</td>\n",
       "      <td>0</td>\n",
       "      <td>1</td>\n",
       "      <td>1</td>\n",
       "      <td>0</td>\n",
       "      <td>0</td>\n",
       "      <td>1</td>\n",
       "      <td>1</td>\n",
       "      <td>0</td>\n",
       "      <td>0</td>\n",
       "      <td>0</td>\n",
       "      <td>1</td>\n",
       "      <td>2</td>\n",
       "      <td>1</td>\n",
       "      <td>0</td>\n",
       "      <td>0</td>\n",
       "      <td>4</td>\n",
       "      <td>1</td>\n",
       "      <td>0</td>\n",
       "      <td>1</td>\n",
       "      <td>0</td>\n",
       "      <td>1</td>\n",
       "      <td>0</td>\n",
       "      <td>0</td>\n",
       "      <td>0</td>\n",
       "    </tr>\n",
       "    <tr>\n",
       "      <th>1</th>\n",
       "      <td>1</td>\n",
       "      <td>Cumings, Mrs. John Bradley (Florence Briggs Th...</td>\n",
       "      <td>51</td>\n",
       "      <td>2</td>\n",
       "      <td>2</td>\n",
       "      <td>2</td>\n",
       "      <td>1</td>\n",
       "      <td>4</td>\n",
       "      <td>1</td>\n",
       "      <td>3</td>\n",
       "      <td>2</td>\n",
       "      <td>2</td>\n",
       "      <td>1</td>\n",
       "      <td>0</td>\n",
       "      <td>2</td>\n",
       "      <td>2</td>\n",
       "      <td>3</td>\n",
       "      <td>2</td>\n",
       "      <td>0</td>\n",
       "      <td>0</td>\n",
       "      <td>5</td>\n",
       "      <td>3</td>\n",
       "      <td>1</td>\n",
       "      <td>1</td>\n",
       "      <td>0</td>\n",
       "      <td>0</td>\n",
       "      <td>0</td>\n",
       "      <td>2</td>\n",
       "      <td>0</td>\n",
       "    </tr>\n",
       "    <tr>\n",
       "      <th>2</th>\n",
       "      <td>1</td>\n",
       "      <td>Heikkinen, Miss. Laina</td>\n",
       "      <td>22</td>\n",
       "      <td>2</td>\n",
       "      <td>0</td>\n",
       "      <td>0</td>\n",
       "      <td>0</td>\n",
       "      <td>2</td>\n",
       "      <td>0</td>\n",
       "      <td>0</td>\n",
       "      <td>1</td>\n",
       "      <td>4</td>\n",
       "      <td>0</td>\n",
       "      <td>2</td>\n",
       "      <td>1</td>\n",
       "      <td>1</td>\n",
       "      <td>3</td>\n",
       "      <td>0</td>\n",
       "      <td>0</td>\n",
       "      <td>0</td>\n",
       "      <td>0</td>\n",
       "      <td>2</td>\n",
       "      <td>0</td>\n",
       "      <td>0</td>\n",
       "      <td>0</td>\n",
       "      <td>0</td>\n",
       "      <td>0</td>\n",
       "      <td>0</td>\n",
       "      <td>0</td>\n",
       "    </tr>\n",
       "    <tr>\n",
       "      <th>3</th>\n",
       "      <td>1</td>\n",
       "      <td>Futrelle, Mrs. Jacques Heath (Lily May Peel)</td>\n",
       "      <td>44</td>\n",
       "      <td>3</td>\n",
       "      <td>0</td>\n",
       "      <td>1</td>\n",
       "      <td>0</td>\n",
       "      <td>6</td>\n",
       "      <td>1</td>\n",
       "      <td>0</td>\n",
       "      <td>2</td>\n",
       "      <td>1</td>\n",
       "      <td>1</td>\n",
       "      <td>0</td>\n",
       "      <td>5</td>\n",
       "      <td>2</td>\n",
       "      <td>0</td>\n",
       "      <td>0</td>\n",
       "      <td>1</td>\n",
       "      <td>1</td>\n",
       "      <td>2</td>\n",
       "      <td>2</td>\n",
       "      <td>2</td>\n",
       "      <td>2</td>\n",
       "      <td>0</td>\n",
       "      <td>0</td>\n",
       "      <td>0</td>\n",
       "      <td>2</td>\n",
       "      <td>0</td>\n",
       "    </tr>\n",
       "    <tr>\n",
       "      <th>4</th>\n",
       "      <td>0</td>\n",
       "      <td>Allen, Mr. William Henry</td>\n",
       "      <td>24</td>\n",
       "      <td>2</td>\n",
       "      <td>0</td>\n",
       "      <td>0</td>\n",
       "      <td>0</td>\n",
       "      <td>2</td>\n",
       "      <td>0</td>\n",
       "      <td>0</td>\n",
       "      <td>1</td>\n",
       "      <td>2</td>\n",
       "      <td>0</td>\n",
       "      <td>0</td>\n",
       "      <td>4</td>\n",
       "      <td>2</td>\n",
       "      <td>2</td>\n",
       "      <td>0</td>\n",
       "      <td>0</td>\n",
       "      <td>0</td>\n",
       "      <td>2</td>\n",
       "      <td>0</td>\n",
       "      <td>0</td>\n",
       "      <td>0</td>\n",
       "      <td>0</td>\n",
       "      <td>1</td>\n",
       "      <td>0</td>\n",
       "      <td>1</td>\n",
       "      <td>0</td>\n",
       "    </tr>\n",
       "  </tbody>\n",
       "</table>\n",
       "</div>"
      ],
      "text/plain": [
       "   Survived                                               Name  Length  a  b  \\\n",
       "0         0                            Braund, Mr. Owen Harris      23  2  1   \n",
       "1         1  Cumings, Mrs. John Bradley (Florence Briggs Th...      51  2  2   \n",
       "2         1                             Heikkinen, Miss. Laina      22  2  0   \n",
       "3         1       Futrelle, Mrs. Jacques Heath (Lily May Peel)      44  3  0   \n",
       "4         0                           Allen, Mr. William Henry      24  2  0   \n",
       "\n",
       "   c  d  e  f  g  h  i  j  k  l  m  n  o  p  q  r  s  t  u  v  w  x  y  z  \n",
       "0  0  1  1  0  0  1  1  0  0  0  1  2  1  0  0  4  1  0  1  0  1  0  0  0  \n",
       "1  2  1  4  1  3  2  2  1  0  2  2  3  2  0  0  5  3  1  1  0  0  0  2  0  \n",
       "2  0  0  2  0  0  1  4  0  2  1  1  3  0  0  0  0  2  0  0  0  0  0  0  0  \n",
       "3  1  0  6  1  0  2  1  1  0  5  2  0  0  1  1  2  2  2  2  0  0  0  2  0  \n",
       "4  0  0  2  0  0  1  2  0  0  4  2  2  0  0  0  2  0  0  0  0  1  0  1  0  "
      ]
     },
     "execution_count": 174,
     "metadata": {},
     "output_type": "execute_result"
    }
   ],
   "source": [
    "read_table = pd.read_csv(home_path + file_path + file_name)\n",
    "read_table.head()"
   ]
  },
  {
   "cell_type": "markdown",
   "metadata": {
    "collapsed": true
   },
   "source": [
    "<hr>\n",
    "<h1>Next up</h1>\n",
    "<div class=h1_cell>\n",
    "<p>\n",
    "We will start to work with fake-news.\n",
    "<p>\n",
    "But before dropping the Numerology idea all together, my colleague pointed me to this web site: http://www.paulsadowski.com/Numbers.asp. If I had more time, I bet I could turn K-NN loose on that site :)\n",
    "</div>"
   ]
  },
  {
   "cell_type": "code",
   "execution_count": null,
   "metadata": {
    "collapsed": true
   },
   "outputs": [],
   "source": []
  }
 ],
 "metadata": {
  "kernelspec": {
   "display_name": "Python 2",
   "language": "python",
   "name": "python2"
  },
  "language_info": {
   "codemirror_mode": {
    "name": "ipython",
    "version": 2
   },
   "file_extension": ".py",
   "mimetype": "text/x-python",
   "name": "python",
   "nbconvert_exporter": "python",
   "pygments_lexer": "ipython2",
   "version": "2.7.14"
  }
 },
 "nbformat": 4,
 "nbformat_minor": 1
}
